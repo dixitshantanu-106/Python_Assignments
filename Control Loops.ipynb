{
 "cells": [
  {
   "cell_type": "markdown",
   "metadata": {},
   "source": [
    "1. Write a Python program to find those numbers which are divisible by 7 and multiple of 5, between 1500 and 2700 (both included)."
   ]
  },
  {
   "cell_type": "code",
   "execution_count": 16,
   "metadata": {},
   "outputs": [
    {
     "name": "stdout",
     "output_type": "stream",
     "text": [
      "1505 is divisible by 7 and is a multiple of 5\n",
      "1540 is divisible by 7 and is a multiple of 5\n",
      "1575 is divisible by 7 and is a multiple of 5\n",
      "1610 is divisible by 7 and is a multiple of 5\n",
      "1645 is divisible by 7 and is a multiple of 5\n",
      "1680 is divisible by 7 and is a multiple of 5\n",
      "1715 is divisible by 7 and is a multiple of 5\n",
      "1750 is divisible by 7 and is a multiple of 5\n",
      "1785 is divisible by 7 and is a multiple of 5\n",
      "1820 is divisible by 7 and is a multiple of 5\n",
      "1855 is divisible by 7 and is a multiple of 5\n",
      "1890 is divisible by 7 and is a multiple of 5\n",
      "1925 is divisible by 7 and is a multiple of 5\n",
      "1960 is divisible by 7 and is a multiple of 5\n",
      "1995 is divisible by 7 and is a multiple of 5\n",
      "2030 is divisible by 7 and is a multiple of 5\n",
      "2065 is divisible by 7 and is a multiple of 5\n",
      "2100 is divisible by 7 and is a multiple of 5\n",
      "2135 is divisible by 7 and is a multiple of 5\n",
      "2170 is divisible by 7 and is a multiple of 5\n",
      "2205 is divisible by 7 and is a multiple of 5\n",
      "2240 is divisible by 7 and is a multiple of 5\n",
      "2275 is divisible by 7 and is a multiple of 5\n",
      "2310 is divisible by 7 and is a multiple of 5\n",
      "2345 is divisible by 7 and is a multiple of 5\n",
      "2380 is divisible by 7 and is a multiple of 5\n",
      "2415 is divisible by 7 and is a multiple of 5\n",
      "2450 is divisible by 7 and is a multiple of 5\n",
      "2485 is divisible by 7 and is a multiple of 5\n",
      "2520 is divisible by 7 and is a multiple of 5\n",
      "2555 is divisible by 7 and is a multiple of 5\n",
      "2590 is divisible by 7 and is a multiple of 5\n",
      "2625 is divisible by 7 and is a multiple of 5\n",
      "2660 is divisible by 7 and is a multiple of 5\n",
      "2695 is divisible by 7 and is a multiple of 5\n"
     ]
    }
   ],
   "source": [
    "for i in range(1500, 2701):\n",
    "    if i % 5 == 0 and i % 7 == 0:\n",
    "        print(i, \"is divisible by 7 and is a multiple of 5\")"
   ]
  },
  {
   "cell_type": "markdown",
   "metadata": {},
   "source": [
    "2. Write a Python program to convert temperatures to and from Celsius, Fahrenheit."
   ]
  },
  {
   "cell_type": "code",
   "execution_count": 24,
   "metadata": {},
   "outputs": [
    {
     "name": "stdout",
     "output_type": "stream",
     "text": [
      "Enter temperature in celsius: 60\n",
      "Enter temperature in fahrenheit: 45\n",
      "60 Celsius is 140 in Fahrenheit.\n",
      "45 Fahrenheit is 7 in Celsius.\n"
     ]
    }
   ],
   "source": [
    "temp_cel = int(input(\"Enter temperature in celsius: \"))\n",
    "temp_fah = int(input(\"Enter temperature in fahrenheit: \"))\n",
    "print(temp_cel,\"Celsius is\",(temp_cel * 9//5) + 32, \"in Fahrenheit.\")\n",
    "print(temp_fah,\"Fahrenheit is\",(temp_fah - 32) * 5//9, \"in Celsius.\")"
   ]
  },
  {
   "cell_type": "markdown",
   "metadata": {},
   "source": [
    "3. Write a Python program to guess a number between 1 to 9."
   ]
  },
  {
   "cell_type": "code",
   "execution_count": 6,
   "metadata": {},
   "outputs": [
    {
     "name": "stdout",
     "output_type": "stream",
     "text": [
      "enter your guess: 8\n",
      "enter your guess: 6\n",
      "enter your guess: 4\n",
      "enter your guess: 2\n",
      "enter your guess: 9\n",
      "Well guessed!\n"
     ]
    }
   ],
   "source": [
    "guess = 9\n",
    "while(int(input(\"enter your guess: \")) != 9):\n",
    "    pass\n",
    "else:\n",
    "    print(\"Well guessed!\")"
   ]
  },
  {
   "cell_type": "markdown",
   "metadata": {},
   "source": [
    "4. Write a Python program to construct the following pattern, using a nested for loop."
   ]
  },
  {
   "cell_type": "code",
   "execution_count": 1,
   "metadata": {},
   "outputs": [
    {
     "name": "stdout",
     "output_type": "stream",
     "text": [
      "\n",
      "\n",
      "*\n",
      "**\n",
      "***\n",
      "****\n",
      "*****\n",
      "****\n",
      "***\n",
      "**\n",
      "*"
     ]
    }
   ],
   "source": [
    "n = 10\n",
    "for i in range(n):\n",
    "    print()\n",
    "    if i < (n + 1)//2:\n",
    "        for j in range(i):\n",
    "            print(\"*\", end = '')\n",
    "    else:\n",
    "        for j in range(n - i):\n",
    "            print(\"*\", end = '')\n",
    "        "
   ]
  },
  {
   "cell_type": "markdown",
   "metadata": {},
   "source": [
    "5. Write a Python program that accepts a word from the user and reverse it."
   ]
  },
  {
   "cell_type": "code",
   "execution_count": 17,
   "metadata": {},
   "outputs": [
    {
     "name": "stdout",
     "output_type": "stream",
     "text": [
      "Enter a word: hello\n",
      "olleh\n"
     ]
    }
   ],
   "source": [
    "word = input(\"Enter a word: \")\n",
    "reversed_word = \"\"\n",
    "for i in range(len(word) - 1, -1, -1):\n",
    "    reversed_word += word[i]\n",
    "print(reversed_word)"
   ]
  },
  {
   "cell_type": "markdown",
   "metadata": {},
   "source": [
    "6. Write a Python program to count the number of even and odd numbers from a series of\n",
    "numbers."
   ]
  },
  {
   "cell_type": "code",
   "execution_count": 26,
   "metadata": {},
   "outputs": [
    {
     "name": "stdout",
     "output_type": "stream",
     "text": [
      "Enter a number4\n",
      "Enter a number5\n",
      "Enter a number6\n",
      "Enter a number44\n",
      "Enter a number65\n",
      "Enter a number67\n",
      "Enter a number34\n",
      "Enter a number22\n",
      "Enter a number1\n",
      "Enter a number78\n",
      "Number of even numbers are: 6 \n",
      "Number of Odd numbers are: 4\n"
     ]
    }
   ],
   "source": [
    "i = 0\n",
    "series = []\n",
    "while(i < 10):\n",
    "    series.append(int(input(\"Enter a number\")))\n",
    "    i += 1\n",
    "even = 0\n",
    "odd = 0\n",
    "for i in series:\n",
    "    if i % 2 == 0:\n",
    "        even += 1\n",
    "    else:\n",
    "        odd += 1\n",
    "print(\"Number of even numbers are:\", even, \"\\nNumber of Odd numbers are:\",odd)"
   ]
  },
  {
   "cell_type": "markdown",
   "metadata": {},
   "source": [
    "7. Write a Python program that prints each item and its corresponding type from the following list.\n",
    "datalist = [1452, 11.23, 1+2j, True, ‘Moderncollege’, (0, -1), [5, 12],{\"class\":'V', \"section\":'A'}]"
   ]
  },
  {
   "cell_type": "code",
   "execution_count": 29,
   "metadata": {},
   "outputs": [
    {
     "name": "stdout",
     "output_type": "stream",
     "text": [
      "1452 <class 'int'>\n",
      "11.23 <class 'float'>\n",
      "(1+2j) <class 'complex'>\n",
      "True <class 'bool'>\n",
      "Moderncollege <class 'str'>\n",
      "(0, -1) <class 'tuple'>\n",
      "[5, 12] <class 'list'>\n",
      "{'class': 'V', 'section': 'A'} <class 'dict'>\n"
     ]
    }
   ],
   "source": [
    "datalist = [1452, 11.23, 1+2j, True, 'Moderncollege', (0, -1), [5, 12],{\"class\":'V', \"section\":'A'}]\n",
    "for i in datalist:\n",
    "    print(i, type(i))"
   ]
  },
  {
   "cell_type": "markdown",
   "metadata": {},
   "source": [
    "8. Write a Python program that prints all the numbers from 0 to 6 except 3 and 6."
   ]
  },
  {
   "cell_type": "code",
   "execution_count": 31,
   "metadata": {},
   "outputs": [
    {
     "name": "stdout",
     "output_type": "stream",
     "text": [
      "0 1 2 4 5 "
     ]
    }
   ],
   "source": [
    "for i in range(7):\n",
    "    if i == 3 or i == 6:\n",
    "        continue\n",
    "    print(i, end = ' ')"
   ]
  },
  {
   "cell_type": "markdown",
   "metadata": {},
   "source": [
    "9. Write a Python program to get the Fibonacci series between 0 to 50."
   ]
  },
  {
   "cell_type": "code",
   "execution_count": 23,
   "metadata": {},
   "outputs": [
    {
     "name": "stdout",
     "output_type": "stream",
     "text": [
      "Fibonacci Series:  0 1 1 2 3 5 8 13 21 34 "
     ]
    }
   ],
   "source": [
    "t1 = 0\n",
    "t2 = 1\n",
    "print(\"Fibonacci Series: \", end = \" \")\n",
    "while t1 < 51:\n",
    "    print(t1, end = ' ')\n",
    "    t1, t2 = t2, t1 + t2"
   ]
  },
  {
   "cell_type": "markdown",
   "metadata": {},
   "source": [
    "10. Write a Python program which iterates the integers from 1 to 50. For multiples of three print \"Fizz\" instead of the number and for the multiples of five print \"Buzz\". For\n",
    "numbers which are multiples of both three and five print \"FizzBuzz\"."
   ]
  },
  {
   "cell_type": "code",
   "execution_count": 17,
   "metadata": {},
   "outputs": [
    {
     "name": "stdout",
     "output_type": "stream",
     "text": [
      "FizzBuzz\n",
      "1\n",
      "2\n",
      "Fizz\n",
      "4\n",
      "Buzz\n",
      "Fizz\n",
      "7\n",
      "8\n",
      "Fizz\n",
      "Buzz\n",
      "11\n",
      "Fizz\n",
      "13\n",
      "14\n",
      "FizzBuzz\n",
      "16\n",
      "17\n",
      "Fizz\n",
      "19\n",
      "Buzz\n",
      "Fizz\n",
      "22\n",
      "23\n",
      "Fizz\n",
      "Buzz\n",
      "26\n",
      "Fizz\n",
      "28\n",
      "29\n",
      "FizzBuzz\n",
      "31\n",
      "32\n",
      "Fizz\n",
      "34\n",
      "Buzz\n",
      "Fizz\n",
      "37\n",
      "38\n",
      "Fizz\n",
      "Buzz\n",
      "41\n",
      "Fizz\n",
      "43\n",
      "44\n",
      "FizzBuzz\n",
      "46\n",
      "47\n",
      "Fizz\n",
      "49\n",
      "Buzz\n"
     ]
    }
   ],
   "source": [
    "for i in range(51):\n",
    "    if(i % 3 == 0 and i % 5 == 0):\n",
    "        print(\"FizzBuzz\")\n",
    "    elif(i % 3 == 0):\n",
    "        print(\"Fizz\")\n",
    "    elif(i % 5 == 0):\n",
    "        print(\"Buzz\")\n",
    "    else:\n",
    "        print(i)"
   ]
  },
  {
   "cell_type": "markdown",
   "metadata": {},
   "source": [
    "11. Write a Python program which takes two digits m (row) and n (column) as input and\n",
    "generates a two-dimensional array. The element value in the i-th row and j-th column of\n",
    "the array should be i*j."
   ]
  },
  {
   "cell_type": "code",
   "execution_count": 15,
   "metadata": {},
   "outputs": [
    {
     "name": "stdout",
     "output_type": "stream",
     "text": [
      "Enter number of rows: 3\n",
      "Enter number of columns: 4\n",
      "[[0, 0, 0, 0], [0, 1, 2, 3], [0, 2, 4, 6]]\n"
     ]
    }
   ],
   "source": [
    "row = int(input(\"Enter number of rows: \"))\n",
    "cols = int(input(\"Enter number of columns: \"))\n",
    "arr = []\n",
    "for i in range(row):\n",
    "    a = []\n",
    "    for j in range(cols):\n",
    "        a.append(i * j)\n",
    "    else:\n",
    "        arr.append(a);\n",
    "print(arr)"
   ]
  },
  {
   "cell_type": "markdown",
   "metadata": {},
   "source": [
    "12. Write a Python program that accepts a sequence of lines (blank line to terminate) as\n",
    "input and prints the lines as output (all characters in lower case)."
   ]
  },
  {
   "cell_type": "code",
   "execution_count": 1,
   "metadata": {},
   "outputs": [
    {
     "name": "stdout",
     "output_type": "stream",
     "text": [
      "Enter a line. To terminate enter blank: sdfsdf\n",
      "sdfsdf\n",
      "Enter a line. To terminate enter blank: DFSDF\n",
      "dfsdf\n",
      "Enter a line. To terminate enter blank: SDFSDF\n",
      "sdfsdf\n",
      "Enter a line. To terminate enter blank: \n"
     ]
    }
   ],
   "source": [
    "line = input(\"Enter a line. To terminate enter blank: \")\n",
    "while(line):\n",
    "    print(line.lower())\n",
    "    line = input(\"Enter a line. To terminate enter blank: \")"
   ]
  },
  {
   "cell_type": "markdown",
   "metadata": {},
   "source": [
    "13. Write a Python program which accepts a sequence of comma separated 4 digit\n",
    "binary numbers as its input and print the numbers that are divisible by 5 in a comma\n",
    "separated sequence."
   ]
  },
  {
   "cell_type": "code",
   "execution_count": 25,
   "metadata": {},
   "outputs": [
    {
     "name": "stdout",
     "output_type": "stream",
     "text": [
      "Enter a sequence of comma separated binary numbers: 0100,0011,1010,1001,1100,1001\n",
      "1010\n"
     ]
    }
   ],
   "source": [
    "binary = input(\"Enter a sequence of comma separated binary numbers: \")\n",
    "binary_list = binary.split(',')\n",
    "binary_div = []\n",
    "for i in binary_list:\n",
    "    if int(i, 2) % 5 == 0:\n",
    "        binary_div.append(i)\n",
    "for i in range(len(binary_div) - 1):\n",
    "    print(binary_div[i], end = ',')\n",
    "print(binary_div[-1])"
   ]
  },
  {
   "cell_type": "markdown",
   "metadata": {},
   "source": [
    "14. Write a Python program that accepts a string and calculate the number of digits and\n",
    "letters."
   ]
  },
  {
   "cell_type": "code",
   "execution_count": 26,
   "metadata": {},
   "outputs": [
    {
     "name": "stdout",
     "output_type": "stream",
     "text": [
      "Enter a string: Python 3.2\n",
      "Letters 6 \n",
      "Digits 2\n"
     ]
    }
   ],
   "source": [
    "string = input(\"Enter a string: \")\n",
    "letters = 0\n",
    "digits = 0\n",
    "for i in string:\n",
    "    if i.isdigit():\n",
    "        digits += 1\n",
    "    elif i.isalpha():\n",
    "        letters += 1\n",
    "print(\"Letters\", letters, \"\\nDigits\", digits)"
   ]
  },
  {
   "cell_type": "markdown",
   "metadata": {},
   "source": [
    "15. Write a Python program to check the validity of password input by users."
   ]
  },
  {
   "cell_type": "code",
   "execution_count": 6,
   "metadata": {},
   "outputs": [
    {
     "name": "stdout",
     "output_type": "stream",
     "text": [
      "Enter the password: Shantanu\n",
      "Invalid password\n"
     ]
    }
   ],
   "source": [
    "def validity(string):\n",
    "    if len(string) > 5 and len(string) < 17:\n",
    "        pass\n",
    "    else:\n",
    "        return 0\n",
    "    up, low, sp, dig = 0, 0, 0, 0\n",
    "    for i in string:\n",
    "        if i.isalpha() and i.isupper():\n",
    "            up = 1\n",
    "        elif i.isalpha() and i.islower():\n",
    "            low = 1\n",
    "        elif i.isdigit():\n",
    "            dig = 1\n",
    "        elif not i.isalpha() and not i.isdigit():\n",
    "            sp = 1\n",
    "    return up and low and sp and dig\n",
    "if validity(input(\"Enter the password: \")):\n",
    "    print(\"Valid password\")\n",
    "else:\n",
    "    print(\"Invalid password\")"
   ]
  },
  {
   "cell_type": "markdown",
   "metadata": {},
   "source": [
    "16. Write a Python program to find numbers between 100 and 400 (both included)\n",
    "where each digit of a number is an even number. The numbers obtained should be\n",
    "printed in a comma-separated sequence."
   ]
  },
  {
   "cell_type": "code",
   "execution_count": 40,
   "metadata": {},
   "outputs": [
    {
     "name": "stdout",
     "output_type": "stream",
     "text": [
      "200,202,204,206,208,220,222,224,226,228,240,242,244,246,248,260,262,264,266,268,280,282,284,286,288,400\n"
     ]
    }
   ],
   "source": [
    "num = []\n",
    "for i in range(100, 401):\n",
    "    for n in str(i):\n",
    "        if int(n) % 2 != 0:\n",
    "            break\n",
    "    else:\n",
    "        num.append(i)\n",
    "for i in range(len(num) - 1):\n",
    "    print(num[i], end = ',')\n",
    "print(num[-1])\n",
    "        \n",
    "        "
   ]
  },
  {
   "cell_type": "markdown",
   "metadata": {},
   "source": [
    "17. Write a Python program to print alphabet pattern 'A'."
   ]
  },
  {
   "cell_type": "code",
   "execution_count": 10,
   "metadata": {},
   "outputs": [
    {
     "name": "stdout",
     "output_type": "stream",
     "text": [
      "\n",
      " *** \n",
      "*   *\n",
      "*   *\n",
      "*****\n",
      "*   *\n",
      "*   *\n",
      "*   *"
     ]
    }
   ],
   "source": [
    "for i in range(7):\n",
    "    print()\n",
    "    for j in range(5):\n",
    "        if i == 0 and j % 4 != 0:\n",
    "            print(\"*\", end = '')\n",
    "        elif i != 0 and i != 3 and j % 4 == 0:\n",
    "            print(\"*\", end = '')\n",
    "        elif i == 3:\n",
    "            print(\"*\", end = '')\n",
    "        else:\n",
    "            print(end = ' ')\n",
    "            "
   ]
  },
  {
   "cell_type": "markdown",
   "metadata": {},
   "source": [
    "18. Write a Python program to print alphabet pattern 'D'."
   ]
  },
  {
   "cell_type": "code",
   "execution_count": 10,
   "metadata": {},
   "outputs": [
    {
     "name": "stdout",
     "output_type": "stream",
     "text": [
      "\n",
      "****\n",
      "*  *\n",
      "*  *\n",
      "*  *\n",
      "*  *\n",
      "*  *\n",
      "****"
     ]
    }
   ],
   "source": [
    "for i in range(7):\n",
    "    print()\n",
    "    for j in range(4):\n",
    "        if i == 0 or i == 6:\n",
    "            print(\"*\", end = '')\n",
    "        elif j == 0 or j == 3:\n",
    "            print(\"*\", end = '')\n",
    "        else:\n",
    "            print(end = ' ')"
   ]
  },
  {
   "cell_type": "markdown",
   "metadata": {},
   "source": [
    "19. Write a Python program to print alphabet pattern 'E'."
   ]
  },
  {
   "cell_type": "code",
   "execution_count": 15,
   "metadata": {},
   "outputs": [
    {
     "name": "stdout",
     "output_type": "stream",
     "text": [
      "\n",
      "*****\n",
      "*    \n",
      "*    \n",
      "**** \n",
      "*    \n",
      "*    \n",
      "*****"
     ]
    }
   ],
   "source": [
    "for i in range(7):\n",
    "    print()\n",
    "    for j in range(5):\n",
    "        if i % 3 == 0 and i != 3:\n",
    "            print(\"*\", end = '')\n",
    "        elif i == 3 and j != 4:\n",
    "            print(\"*\", end = '')\n",
    "        elif j == 0:\n",
    "            print(\"*\", end = '')\n",
    "        else:\n",
    "            print(end = ' ')   "
   ]
  },
  {
   "cell_type": "markdown",
   "metadata": {},
   "source": [
    "20. Write a Python program to print alphabet pattern 'G'."
   ]
  },
  {
   "cell_type": "code",
   "execution_count": 19,
   "metadata": {},
   "outputs": [
    {
     "name": "stdout",
     "output_type": "stream",
     "text": [
      "\n",
      " *** \n",
      "*   *\n",
      "*    \n",
      "* ***\n",
      "*   *\n",
      "*   *\n",
      " *** "
     ]
    }
   ],
   "source": [
    "for i in range(7):\n",
    "    print()\n",
    "    for j in range(5):\n",
    "        if i % 6 == 0 and j % 4 != 0:\n",
    "            print(\"*\", end = '')\n",
    "        elif (i == 1 or i == 4 or i == 5) and j % 4 == 0:\n",
    "            print(\"*\", end = '')\n",
    "        elif i == 2 and j == 0:\n",
    "            print(\"*\", end = '')\n",
    "        elif i == 3 and j != 1:\n",
    "            print(\"*\", end = '')\n",
    "        else:\n",
    "            print(end = ' ')  \n",
    "            "
   ]
  },
  {
   "cell_type": "markdown",
   "metadata": {},
   "source": [
    "21. Write a Python program to print alphabet pattern 'L'."
   ]
  },
  {
   "cell_type": "code",
   "execution_count": 20,
   "metadata": {},
   "outputs": [
    {
     "name": "stdout",
     "output_type": "stream",
     "text": [
      "\n",
      "*    \n",
      "*    \n",
      "*    \n",
      "*    \n",
      "*    \n",
      "*    \n",
      "*****"
     ]
    }
   ],
   "source": [
    "for i in range(7):\n",
    "    print()\n",
    "    for j in range(5):\n",
    "        if i == 6:\n",
    "            print(\"*\", end = '')\n",
    "        elif j == 0:\n",
    "            print(\"*\", end = '')\n",
    "        else:\n",
    "            print(end = ' ') "
   ]
  },
  {
   "cell_type": "markdown",
   "metadata": {},
   "source": [
    "22. Write a Python program to print alphabet pattern 'M'."
   ]
  },
  {
   "cell_type": "code",
   "execution_count": 21,
   "metadata": {},
   "outputs": [
    {
     "name": "stdout",
     "output_type": "stream",
     "text": [
      "\n",
      "*   *\n",
      "*   *\n",
      "** **\n",
      "* * *\n",
      "*   *\n",
      "*   *\n",
      "*   *"
     ]
    }
   ],
   "source": [
    "for i in range(7):\n",
    "    print()\n",
    "    for j in range(5):\n",
    "        if i != 2 and i != 3 and j % 4 == 0:\n",
    "            print(\"*\", end = '')\n",
    "        elif i == 2 and j != 2:\n",
    "            print(\"*\", end = '')\n",
    "        elif i == 3 and j != 1 and j != 3:\n",
    "            print(\"*\", end = '')\n",
    "        else:\n",
    "            print(end = ' ') "
   ]
  },
  {
   "cell_type": "markdown",
   "metadata": {},
   "source": [
    "23. Write a Python program to print alphabet pattern 'O'. Expected Output:"
   ]
  },
  {
   "cell_type": "code",
   "execution_count": 22,
   "metadata": {},
   "outputs": [
    {
     "name": "stdout",
     "output_type": "stream",
     "text": [
      "\n",
      " *** \n",
      "*   *\n",
      "*   *\n",
      "*   *\n",
      "*   *\n",
      "*   *\n",
      " *** "
     ]
    }
   ],
   "source": [
    "for i in range(7):\n",
    "    print()\n",
    "    for j in range(5):\n",
    "        if i % 6 == 0 and j % 4 != 0:\n",
    "            print(\"*\", end = '')\n",
    "        elif i % 6 != 0 and j % 4 == 0:\n",
    "            print(\"*\", end = '')\n",
    "        else:\n",
    "            print(end = ' ')"
   ]
  },
  {
   "cell_type": "markdown",
   "metadata": {},
   "source": [
    "24. Write a Python program to print alphabet pattern 'P'."
   ]
  },
  {
   "cell_type": "code",
   "execution_count": 26,
   "metadata": {},
   "outputs": [
    {
     "name": "stdout",
     "output_type": "stream",
     "text": [
      "\n",
      "****\n",
      "*  *\n",
      "*  *\n",
      "****\n",
      "*   \n",
      "*   \n",
      "*   "
     ]
    }
   ],
   "source": [
    "for i in range(7):\n",
    "    print()\n",
    "    for j in range(4):\n",
    "        if i == 3 or i == 0:\n",
    "            print(\"*\", end = '')\n",
    "        elif (i == 1 or i == 2) and j % 3 == 0:\n",
    "            print(\"*\", end = '')\n",
    "        elif i > 3 and j == 0:\n",
    "            print(\"*\", end = '')\n",
    "        else:\n",
    "            print(end = ' ')"
   ]
  },
  {
   "cell_type": "markdown",
   "metadata": {},
   "source": [
    "25. Write a Python program to print alphabet pattern 'R'. Expected Output:"
   ]
  },
  {
   "cell_type": "code",
   "execution_count": 10,
   "metadata": {},
   "outputs": [
    {
     "name": "stdout",
     "output_type": "stream",
     "text": [
      "\n",
      "****\n",
      "*  *\n",
      "*  *\n",
      "****\n",
      "**  \n",
      "* * \n",
      "*  *"
     ]
    }
   ],
   "source": [
    "for i in range(7):\n",
    "    print()\n",
    "    for j in range(4):\n",
    "        if i % 3 == 0 and i != 6:\n",
    "            print(\"*\", end = '')\n",
    "        elif (i == 1 or i == 2 or i == 6) and j % 3 == 0:\n",
    "            print(\"*\", end = '')\n",
    "        elif i == 4 and j < 2:\n",
    "            print(\"*\", end = '')\n",
    "        elif i == 5 and j % 2 == 0:\n",
    "            print(\"*\", end = '')\n",
    "        else:\n",
    "            print(end = ' ')"
   ]
  },
  {
   "cell_type": "markdown",
   "metadata": {},
   "source": [
    "26. Write a Python program to print the following patterns."
   ]
  },
  {
   "cell_type": "code",
   "execution_count": 26,
   "metadata": {},
   "outputs": [
    {
     "name": "stdout",
     "output_type": "stream",
     "text": [
      "\n",
      " ****\n",
      "*    \n",
      "*    \n",
      " *** \n",
      "    *\n",
      "    *\n",
      "**** "
     ]
    }
   ],
   "source": [
    "for i in range(7):\n",
    "    print()\n",
    "    for j in range(5):\n",
    "        if i == 0 and j != 0:\n",
    "            print(\"*\", end = '')\n",
    "        elif i == 6 and j != 4:\n",
    "            print(\"*\", end = '')\n",
    "        elif i == 3 and j != 0 and j != 4:\n",
    "            print(\"*\", end = '')\n",
    "        elif j == 0 and (i == 1 or i == 2):\n",
    "            print(\"*\", end = '')\n",
    "        elif j == 4 and (i == 4 or i == 5):\n",
    "            print(\"*\", end = '')\n",
    "        else:\n",
    "            print(end = ' ')"
   ]
  },
  {
   "cell_type": "markdown",
   "metadata": {},
   "source": [
    "27. Write a Python program to print alphabet pattern 'T'."
   ]
  },
  {
   "cell_type": "code",
   "execution_count": 28,
   "metadata": {},
   "outputs": [
    {
     "name": "stdout",
     "output_type": "stream",
     "text": [
      "\n",
      "*****\n",
      "  *  \n",
      "  *  \n",
      "  *  \n",
      "  *  \n",
      "  *  \n",
      "  *  "
     ]
    }
   ],
   "source": [
    "for i in range(7):\n",
    "    print()\n",
    "    for j in range(5):\n",
    "        if i == 0:\n",
    "            print(\"*\", end = '')\n",
    "        elif j == 2:\n",
    "            print(\"*\", end = '')\n",
    "        else:\n",
    "            print(end = ' ')"
   ]
  },
  {
   "cell_type": "markdown",
   "metadata": {},
   "source": [
    "28. Write a Python program to print alphabet pattern 'U'."
   ]
  },
  {
   "cell_type": "code",
   "execution_count": 33,
   "metadata": {},
   "outputs": [
    {
     "name": "stdout",
     "output_type": "stream",
     "text": [
      "\n",
      "*   *\n",
      "*   *\n",
      "*   *\n",
      "*   *\n",
      "*   *\n",
      "*   *\n",
      " *** "
     ]
    }
   ],
   "source": [
    "for i in range(7):\n",
    "    print()\n",
    "    for j in range(5):\n",
    "        if j % 4 == 0 and i != 6:\n",
    "            print(\"*\", end = '')\n",
    "        elif i == 6 and j % 4 != 0:\n",
    "            print(\"*\", end = '')\n",
    "        else:\n",
    "            print(end = ' ')"
   ]
  },
  {
   "cell_type": "markdown",
   "metadata": {},
   "source": [
    "29. Write a Python program to print alphabet pattern 'X'. Expected Output:"
   ]
  },
  {
   "cell_type": "code",
   "execution_count": 45,
   "metadata": {},
   "outputs": [
    {
     "name": "stdout",
     "output_type": "stream",
     "text": [
      "\n",
      "*   *\n",
      "*   *\n",
      " * * \n",
      "  *  \n",
      " * * \n",
      "*   *\n",
      "*   *"
     ]
    }
   ],
   "source": [
    "for i in range(7):\n",
    "    print()\n",
    "    for j in range(5):\n",
    "        if i % 5 < 2 and j % 4 == 0:\n",
    "            print(\"*\", end = '')\n",
    "        elif (i == 2 or i == 4) and (j == 1 or j == 3):\n",
    "            print(\"*\", end = '')\n",
    "        elif i == 3 and j == 2:\n",
    "            print(\"*\", end = '')\n",
    "        else:\n",
    "            print(end = ' ')"
   ]
  },
  {
   "cell_type": "markdown",
   "metadata": {},
   "source": [
    "30. Write a Python program to print alphabet pattern 'Z'."
   ]
  },
  {
   "cell_type": "code",
   "execution_count": 51,
   "metadata": {},
   "outputs": [
    {
     "name": "stdout",
     "output_type": "stream",
     "text": [
      "\n",
      "*******\n",
      "     * \n",
      "    *  \n",
      "   *   \n",
      "  *    \n",
      " *     \n",
      "*******"
     ]
    }
   ],
   "source": [
    "for i in range(7):\n",
    "    print()\n",
    "    for j in range(7):\n",
    "        if i % 6 == 0:\n",
    "            print(\"*\", end = '')\n",
    "        elif i == 1 and j == 5:\n",
    "            print(\"*\", end = '')\n",
    "        elif i == 2 and j == 4:\n",
    "            print(\"*\", end = '')\n",
    "        elif i == 3 and j == 3:\n",
    "            print(\"*\", end = '')\n",
    "        elif i == 4 and j == 2:\n",
    "            print(\"*\", end = '')\n",
    "        elif i == 5 and j == 1:\n",
    "            print(\"*\", end = '')\n",
    "        else:\n",
    "            print(end = ' ')"
   ]
  },
  {
   "cell_type": "markdown",
   "metadata": {},
   "source": [
    "31. Write a Python program to calculate a dog's age in dog's years. Note: For the first\n",
    "two years, a human year is equal to 10.5 dog years. After that, each dog year equals 4\n",
    "human years."
   ]
  },
  {
   "cell_type": "code",
   "execution_count": 27,
   "metadata": {},
   "outputs": [
    {
     "name": "stdout",
     "output_type": "stream",
     "text": [
      "Enter dogs age in human years: 15\n",
      "The dogs age in dog years is 73\n"
     ]
    }
   ],
   "source": [
    "age = int(input(\"Enter dogs age in human years: \"))\n",
    "if(age < 3):\n",
    "    print(\"The dogs age in dog years is\", int(age * 10.5))\n",
    "else:\n",
    "    age -= 2\n",
    "    dog_age = 21\n",
    "    print(\"The dogs age in dog years is\", age * 4 + dog_age)"
   ]
  },
  {
   "cell_type": "markdown",
   "metadata": {},
   "source": [
    "32. Write a Python program to check whether an alphabet is a vowel or consonant."
   ]
  },
  {
   "cell_type": "code",
   "execution_count": 7,
   "metadata": {},
   "outputs": [
    {
     "name": "stdout",
     "output_type": "stream",
     "text": [
      "Enter a letter: G\n",
      "G is a consonant\n"
     ]
    }
   ],
   "source": [
    "ip = input(\"Enter a letter: \")\n",
    "vowels = ['a', 'e', 'i', 'o', 'u']\n",
    "if ip.lower() in vowels:\n",
    "    print(ip, \"is a vowel\")\n",
    "else:\n",
    "    print(ip, \"is a consonant\")"
   ]
  },
  {
   "cell_type": "markdown",
   "metadata": {},
   "source": [
    "33. Write a Python program to convert month name to a number of days. "
   ]
  },
  {
   "cell_type": "code",
   "execution_count": 28,
   "metadata": {},
   "outputs": [
    {
     "name": "stdout",
     "output_type": "stream",
     "text": [
      "Enter a month: february\n",
      "Number of days: 28/29\n"
     ]
    }
   ],
   "source": [
    "month_day = {\"january\": 31, \"february\": \"28/29\", \"march\": 31, \"april\": 30, \"may\": 31, \"june\": 30, \"july\": 31, \"august\": 31, \"september\": 30, \"october\": 31, \"november\": 30, \"december\": 31}\n",
    "print(\"Number of days:\",month_day[input(\"Enter a month: \").lower()])"
   ]
  },
  {
   "cell_type": "markdown",
   "metadata": {},
   "source": [
    "34. Write a Python program to sum of two given integers. However, if the sum is\n",
    "between 15 to 20 it will return 20."
   ]
  },
  {
   "cell_type": "code",
   "execution_count": 11,
   "metadata": {},
   "outputs": [
    {
     "name": "stdout",
     "output_type": "stream",
     "text": [
      "Enter first integer: 15\n",
      "Enter second integer: 2\n",
      "15 + 2 = 20\n"
     ]
    }
   ],
   "source": [
    "n1 = int(input(\"Enter first integer: \"))\n",
    "n2 = int(input(\"Enter second integer: \"))\n",
    "n3 = n1 + n2\n",
    "if n3 > 14 and n3 < 21:\n",
    "    print(n1,\"+\", n2, \"= 20\")\n",
    "else:\n",
    "    print(n1,\"+\", n2,\"=\",n3)"
   ]
  },
  {
   "cell_type": "markdown",
   "metadata": {},
   "source": [
    "35. Write a Python program to check a string represent an integer or not."
   ]
  },
  {
   "cell_type": "code",
   "execution_count": 29,
   "metadata": {},
   "outputs": [
    {
     "name": "stdout",
     "output_type": "stream",
     "text": [
      "Enter a string: Python\n",
      "The string is not an integer.\n"
     ]
    }
   ],
   "source": [
    "string = input(\"Enter a string: \")\n",
    "if string.isdigit():\n",
    "    print(\"The string is an integer.\")\n",
    "else:\n",
    "    print(\"The string is not an integer.\")"
   ]
  },
  {
   "cell_type": "markdown",
   "metadata": {},
   "source": [
    "36. Write a Python program to check a triangle is equilateral, isosceles or scalene."
   ]
  },
  {
   "cell_type": "code",
   "execution_count": 30,
   "metadata": {},
   "outputs": [
    {
     "name": "stdout",
     "output_type": "stream",
     "text": [
      "Enter length of first side of the triangle: 6\n",
      "Enter length of second side of the triangle: 8\n",
      "Enter length of third side of the triangle: 12\n",
      "Scalene Triangle\n"
     ]
    }
   ],
   "source": [
    "s1 = int(input(\"Enter length of first side of the triangle: \"))\n",
    "s2 = int(input(\"Enter length of second side of the triangle: \"))\n",
    "s3 = int(input(\"Enter length of third side of the triangle: \"))\n",
    "if s1 == s2 and s2 == s3:\n",
    "    print(\"Equiateral Triangle\")\n",
    "elif s1 == s2 or s2 == s3:\n",
    "    print(\"Isoceles Traingle\")\n",
    "else:\n",
    "    print(\"Scalene Triangle\")"
   ]
  },
  {
   "cell_type": "markdown",
   "metadata": {},
   "source": [
    "37. Write a Python program that reads two integers representing a month and day and\n",
    "prints the season for that month and day."
   ]
  },
  {
   "cell_type": "code",
   "execution_count": 32,
   "metadata": {},
   "outputs": [
    {
     "name": "stdout",
     "output_type": "stream",
     "text": [
      "Enter the month: june\n",
      "Enter date: 10\n",
      "Season in Summer\n"
     ]
    }
   ],
   "source": [
    "month = input(\"Enter the month: \").lower()\n",
    "date = int(input(\"Enter date: \"))\n",
    "\n",
    "if month in [\"january\", \"february\"]:\n",
    "    print(\"Season in Winter\")\n",
    "elif month == \"march\" or (month == \"april\" and date <= 15):\n",
    "    print(\"Season in Spring\")\n",
    "elif month == \"may\" or (month == \"june\" and date <= 15) or (month == \"april\" and date > 15):\n",
    "    print(\"Season in Summer\")\n",
    "elif month in [\"july\", \"august\"] or (month == \"june\" and date > 15):\n",
    "    print(\"Season in Monsoon\")\n",
    "elif month in [\"september\", \"november\"]:\n",
    "    print(\"Season is Autumn\")"
   ]
  },
  {
   "cell_type": "markdown",
   "metadata": {},
   "source": [
    "38. Write a Python program to display astrological sign for given date of birth."
   ]
  },
  {
   "cell_type": "code",
   "execution_count": 15,
   "metadata": {},
   "outputs": [
    {
     "name": "stdout",
     "output_type": "stream",
     "text": [
      "Enter birthday: 10\n",
      "Enter birth month: june\n",
      "Your astrological sign is Gemini\n"
     ]
    }
   ],
   "source": [
    "day = int(input(\"Enter birthday: \"))\n",
    "month = input(\"Enter birth month: \").lower()\n",
    "\n",
    "if month == \"march\":\n",
    "    if day >= 21:\n",
    "        print(\"Your astrological sign is Aries\")\n",
    "    elif day < 21:\n",
    "        print(\"Your astrological sign is Pisces\")\n",
    "elif month == \"april\":\n",
    "    if day <= 19:\n",
    "        print(\"Your astrological sign is Aries\")\n",
    "    elif day > 19:\n",
    "        print(\"Your astrological sign is Taurus\")\n",
    "elif month == \"may\":\n",
    "    if day <= 20:\n",
    "        print(\"Your astrological sign is Taurus\")\n",
    "    elif day > 20:\n",
    "        print(\"Your astrological sign is Gemini\")\n",
    "elif month == \"june\":\n",
    "    if day <= 20:\n",
    "        print(\"Your astrological sign is Gemini\")\n",
    "    elif day > 20:\n",
    "        print(\"Your astrological sign is Cancer\")\n",
    "elif month == \"july\":\n",
    "    if day <= 22:\n",
    "        print(\"Your astrological sign is Cancer\")\n",
    "    elif day > 22:\n",
    "        print(\"Your astrological sign is Leo\")\n",
    "elif month == \"august\":\n",
    "    if day <= 22:\n",
    "        print(\"Your astrological sign is Leo\")\n",
    "    elif day > 22:\n",
    "        print(\"Your astrological sign is Virgo\")\n",
    "elif month == \"september\":\n",
    "    if day <= 22:\n",
    "        print(\"Your astrological sign is Virgo\")\n",
    "    elif day > 22:\n",
    "        print(\"Your astrological sign is Libra\")\n",
    "elif month == \"october\":\n",
    "    if day <= 22:\n",
    "        print(\"Your astrological sign is Libra\")\n",
    "    elif day > 22:\n",
    "        print(\"Your astrological sign is Scorpio\")\n",
    "elif month == \"november\":\n",
    "    if day <= 21:\n",
    "        print(\"Your astrological sign is Scorpio\")\n",
    "    elif day > 21:\n",
    "        print(\"Your astrological sign is Sagittarius\")\n",
    "elif month == \"december\":\n",
    "    if day <= 21:\n",
    "        print(\"Your astrological sign is Sagittarius\")\n",
    "    elif day > 21:\n",
    "        print(\"Your astrological sign is Capricon\")\n",
    "elif month == \"january\":\n",
    "    if day <= 19:\n",
    "        print(\"Your astrological sign is Capricon\")\n",
    "    elif day > 19:\n",
    "        print(\"Your astrological sign is Aquarius\")\n",
    "elif month == \"february\":\n",
    "    if day <= 18:\n",
    "        print(\"Your astrological sign is Aquarius\")\n",
    "    elif day > 18:\n",
    "        print(\"Your astrological sign is Pisces\")\n",
    "    \n",
    "        "
   ]
  },
  {
   "cell_type": "markdown",
   "metadata": {},
   "source": [
    "39. Write a Python program to display the sign of the Chinese Zodiac for given year in which you were born."
   ]
  },
  {
   "cell_type": "code",
   "execution_count": 19,
   "metadata": {},
   "outputs": [
    {
     "name": "stdout",
     "output_type": "stream",
     "text": [
      "Enter your birth year: 1999\n",
      "Your Zodiac sign is Rabit\n"
     ]
    }
   ],
   "source": [
    "year = int(input(\"Enter your birth year: \"))\n",
    "if year % 12 == 4:\n",
    "    print(\"Your Zodiac sign is Rat\")\n",
    "elif year % 12 == 5:\n",
    "    print(\"Your Zodiac sign is Ox\")\n",
    "elif year % 12 == 6:\n",
    "    print(\"Your Zodiac sign is Tiger\")\n",
    "elif year % 12 == 7:\n",
    "    print(\"Your Zodiac sign is Rabit\")\n",
    "elif year % 12 == 8:\n",
    "    print(\"Your Zodiac sign is Dragon\")\n",
    "elif year % 12 == 9:\n",
    "    print(\"Your Zodiac sign is Snake\")\n",
    "elif year % 12 == 10:\n",
    "    print(\"Your Zodiac sign is Horse\")\n",
    "elif year % 12 == 11:\n",
    "    print(\"Your Zodiac sign is Goat\")\n",
    "elif year % 12 == 0:\n",
    "    print(\"Your Zodiac sign is Monkey\")\n",
    "elif year % 12 == 1:\n",
    "    print(\"Your Zodiac sign is Rooster\")\n",
    "elif year % 12 == 2:\n",
    "    print(\"Your Zodiac sign is Dog\")\n",
    "elif year % 12 == 3:\n",
    "    print(\"Your Zodiac sign is Pig\")"
   ]
  },
  {
   "cell_type": "markdown",
   "metadata": {},
   "source": [
    "40. Write a Python program to find the median of three values."
   ]
  },
  {
   "cell_type": "code",
   "execution_count": 70,
   "metadata": {},
   "outputs": [
    {
     "name": "stdout",
     "output_type": "stream",
     "text": [
      "Enter first number: 22\n",
      "Enter second number: 55\n",
      "Enter third number: 33\n",
      "Median is 33\n"
     ]
    }
   ],
   "source": [
    "n1 = int(input(\"Enter first number: \"))\n",
    "n2 = int(input(\"Enter second number: \"))\n",
    "n3 = int(input(\"Enter third number: \"))\n",
    "if n1 > n2:\n",
    "    if n1 < n3:\n",
    "        median = n1\n",
    "    elif n2 > n3:\n",
    "        median = n2\n",
    "    else:\n",
    "        median = n3\n",
    "elif n1 < n2:\n",
    "    if n1 > n3:\n",
    "        median = n1\n",
    "    elif n2 < n3:\n",
    "        median = n2\n",
    "    else:\n",
    "        median = n3\n",
    "print(\"Median is\", median)      \n",
    "        "
   ]
  },
  {
   "cell_type": "markdown",
   "metadata": {},
   "source": [
    "41. Write a Python program to get next day of a given date."
   ]
  },
  {
   "cell_type": "code",
   "execution_count": 42,
   "metadata": {},
   "outputs": [
    {
     "name": "stdout",
     "output_type": "stream",
     "text": [
      "Enter day: 31\n",
      "Enter month: 12\n",
      "Enter year: 2012\n",
      "1 - 1 - 2013\n"
     ]
    }
   ],
   "source": [
    "day = int(input(\"Enter day: \"))\n",
    "month = int(input(\"Enter month: \"))\n",
    "year = int(input(\"Enter year: \"))\n",
    "\n",
    "months30 = [4, 6, 9, 11]\n",
    "months31 = [1, 3, 5, 7, 8, 10, 12]\n",
    "\n",
    "if month == 2:\n",
    "    if(year % 400 == 0 or year % 4 == 0):\n",
    "        if(day == 29):\n",
    "            day = 1\n",
    "            month = 3\n",
    "        else:\n",
    "            day += 1\n",
    "    else:\n",
    "        if(day == 28):\n",
    "            day = 1\n",
    "            month += 1\n",
    "        else:\n",
    "            day += 1\n",
    "\n",
    "elif month in months30:\n",
    "    if(day == 30):\n",
    "        day = 1\n",
    "        month += 1\n",
    "    else:\n",
    "        day += 1\n",
    "elif month in months31:\n",
    "    if(day == 31):\n",
    "        day = 1\n",
    "        if month == 12:\n",
    "            year += 1\n",
    "            month = 1\n",
    "        else:\n",
    "            month += 1\n",
    "    else:\n",
    "        day += 1\n",
    "print(day, \"-\", month, \"-\", year)"
   ]
  },
  {
   "cell_type": "markdown",
   "metadata": {},
   "source": [
    "42. Write a Python program to calculate the sum and average of n integer numbers\n",
    "(input from the user). Input 0 to finish."
   ]
  },
  {
   "cell_type": "code",
   "execution_count": 74,
   "metadata": {},
   "outputs": [
    {
     "name": "stdout",
     "output_type": "stream",
     "text": [
      "Enter a number\\Enter 0 to stop:4\n",
      "Enter a number\\Enter 0 to stop:6\n",
      "Enter a number\\Enter 0 to stop:2\n",
      "Enter a number\\Enter 0 to stop:8\n",
      "Enter a number\\Enter 0 to stop:0\n",
      "Sum = 20 Average =  5.0\n"
     ]
    }
   ],
   "source": [
    "n = []\n",
    "count = 0\n",
    "num = int(input(\"Enter a number\\Enter 0 to stop:\"))\n",
    "while(num != 0):\n",
    "    n.append(num)\n",
    "    count += 1\n",
    "    num = int(input(\"Enter a number\\Enter 0 to stop:\"))\n",
    "else:\n",
    "    print(\"Sum =\", sum(n), \"Average = \", sum(n)/count)"
   ]
  },
  {
   "cell_type": "markdown",
   "metadata": {},
   "source": [
    "43. Write a Python program to create the multiplication table (from 1 to 10) of a\n",
    "number."
   ]
  },
  {
   "cell_type": "code",
   "execution_count": 33,
   "metadata": {},
   "outputs": [
    {
     "name": "stdout",
     "output_type": "stream",
     "text": [
      "Enter a number: 6\n",
      "6 x 1 = 6\n",
      "6 x 2 = 12\n",
      "6 x 3 = 18\n",
      "6 x 4 = 24\n",
      "6 x 5 = 30\n",
      "6 x 6 = 36\n",
      "6 x 7 = 42\n",
      "6 x 8 = 48\n",
      "6 x 9 = 54\n",
      "6 x 10 = 60\n"
     ]
    }
   ],
   "source": [
    "n = int(input(\"Enter a number: \"))\n",
    "for i in range(1, 11):\n",
    "    print(n, \"x\", i, \"=\", n * i)"
   ]
  },
  {
   "cell_type": "markdown",
   "metadata": {},
   "source": [
    "44. Write a Python program to construct the following pattern, using a nested loop\n",
    "number."
   ]
  },
  {
   "cell_type": "code",
   "execution_count": 32,
   "metadata": {},
   "outputs": [
    {
     "name": "stdout",
     "output_type": "stream",
     "text": [
      "\n",
      "\n",
      "1\n",
      "22\n",
      "333\n",
      "4444\n",
      "55555\n",
      "666666\n",
      "7777777\n",
      "88888888\n",
      "999999999"
     ]
    }
   ],
   "source": [
    "for i in range(10):\n",
    "    print()\n",
    "    for j in range(i):\n",
    "        print(i, end = '')\n"
   ]
  }
 ],
 "metadata": {
  "kernelspec": {
   "display_name": "Python 3",
   "language": "python",
   "name": "python3"
  },
  "language_info": {
   "codemirror_mode": {
    "name": "ipython",
    "version": 3
   },
   "file_extension": ".py",
   "mimetype": "text/x-python",
   "name": "python",
   "nbconvert_exporter": "python",
   "pygments_lexer": "ipython3",
   "version": "3.8.5"
  }
 },
 "nbformat": 4,
 "nbformat_minor": 2
}
