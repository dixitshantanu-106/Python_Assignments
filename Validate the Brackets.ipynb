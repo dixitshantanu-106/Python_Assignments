{
 "cells": [
  {
   "cell_type": "code",
   "execution_count": 7,
   "id": "ordinary-shell",
   "metadata": {},
   "outputs": [
    {
     "name": "stdout",
     "output_type": "stream",
     "text": [
      "{}{}{[]}\n",
      "True\n"
     ]
    }
   ],
   "source": [
    "def validate(string):\n",
    "    closing = ['}', ']', ')']\n",
    "    if string[0] in closing:\n",
    "        return False\n",
    "    opening = ['{', '[', '(']\n",
    "    brackets = {'{': 3, '[': 2, '(': 1, '}': 3, ']': 2, ')': 1}\n",
    "    stack = []\n",
    "    for i in string:\n",
    "        if i in opening:\n",
    "            stack.append(i)\n",
    "        elif i in closing and (brackets[stack[-1]] == brackets[i]):\n",
    "            stack.pop()\n",
    "    if stack:\n",
    "        return False\n",
    "    else:\n",
    "        return True\n",
    "print(validate(input()))"
   ]
  }
 ],
 "metadata": {
  "kernelspec": {
   "display_name": "Python 3",
   "language": "python",
   "name": "python3"
  },
  "language_info": {
   "codemirror_mode": {
    "name": "ipython",
    "version": 3
   },
   "file_extension": ".py",
   "mimetype": "text/x-python",
   "name": "python",
   "nbconvert_exporter": "python",
   "pygments_lexer": "ipython3",
   "version": "3.8.5"
  }
 },
 "nbformat": 4,
 "nbformat_minor": 5
}
