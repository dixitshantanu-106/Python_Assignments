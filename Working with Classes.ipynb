{
 "cells": [
  {
   "cell_type": "markdown",
   "id": "toxic-internet",
   "metadata": {},
   "source": [
    "# OBJECT ORIENTED PROGRAMMING"
   ]
  },
  {
   "cell_type": "markdown",
   "id": "dying-northwest",
   "metadata": {},
   "source": [
    "# Creating Classes"
   ]
  },
  {
   "cell_type": "code",
   "execution_count": 1,
   "id": "historic-concern",
   "metadata": {},
   "outputs": [],
   "source": [
    "class Employee:\n",
    "    'Common base class for all employees'\n",
    "    empCount = 0\n",
    "   \n",
    "    #Constructor\n",
    "    def __init__(self, name, salary):\n",
    "        self.name = name\n",
    "        self.salary = salary\n",
    "        Employee.empCount += 1 #Class/Static variable can be accessed from outside to\n",
    "    \n",
    "    def displayCount(self):\n",
    "        print(\"Total Employee %d\" % Employee.empCount)\n",
    "        \n",
    "    def displayEmployee(self):\n",
    "        print(\"Name:\", self.name, \", Salary:\", self.salary)"
   ]
  },
  {
   "cell_type": "markdown",
   "id": "supreme-personality",
   "metadata": {},
   "source": [
    "# Creating Instance Objects"
   ]
  },
  {
   "cell_type": "markdown",
   "id": "descending-shipping",
   "metadata": {},
   "source": [
    "### To create instances of a class, you call the class using class name and pass in whatever arguments its init method accepts."
   ]
  },
  {
   "cell_type": "code",
   "execution_count": 2,
   "id": "responsible-homework",
   "metadata": {},
   "outputs": [],
   "source": [
    "emp1 = Employee(\"Sam\", 2000)\n",
    "emp2 = Employee(\"Peter\", 5000)\n",
    "emp3 = Employee(\"Sujit\", 15000)"
   ]
  },
  {
   "cell_type": "markdown",
   "id": "prepared-squad",
   "metadata": {},
   "source": [
    "# Accessing Attributes"
   ]
  },
  {
   "cell_type": "markdown",
   "id": "primary-fleece",
   "metadata": {},
   "source": [
    "### You access the object's attributes using the dot operator with object. Class variable would be accessed using class name as follows:"
   ]
  },
  {
   "cell_type": "code",
   "execution_count": 3,
   "id": "internal-sleeve",
   "metadata": {},
   "outputs": [
    {
     "name": "stdout",
     "output_type": "stream",
     "text": [
      "Name: Sam , Salary: 2000\n",
      "Name: Peter , Salary: 5000\n",
      "Name: Sujit , Salary: 15000\n",
      "Total Employee 3\n"
     ]
    }
   ],
   "source": [
    "emp1.displayEmployee()\n",
    "emp2.displayEmployee()\n",
    "emp3.displayEmployee()\n",
    "print(\"Total Employee %d\" % Employee.empCount)"
   ]
  },
  {
   "cell_type": "code",
   "execution_count": 15,
   "id": "powerful-credits",
   "metadata": {},
   "outputs": [
    {
     "name": "stdout",
     "output_type": "stream",
     "text": [
      "22\n",
      "28\n"
     ]
    }
   ],
   "source": [
    "emp1.age = 22 # Add an 'age' attribute.\n",
    "print(emp1.age)\n",
    "emp1.age = 28 # Modifying 'age'\n",
    "print(emp1.age)"
   ]
  },
  {
   "cell_type": "code",
   "execution_count": 16,
   "id": "consolidated-diesel",
   "metadata": {},
   "outputs": [],
   "source": [
    "#del emp1.age # Deleting 'age' attribute\n",
    "#print(emp1.age)"
   ]
  },
  {
   "cell_type": "markdown",
   "id": "gentle-institution",
   "metadata": {},
   "source": [
    "### Instead of using the normal statements to access attributes, you can use the following functions:\n",
    "#### The getattr(obj, name[, default]) − to access the attribute of object.\n",
    "#### The hasattr(obj,name) − to check if an attribute exists or not.\n",
    "#### The setattr(obj,name,value) − to set an attribute. If attribute does not exist, then it would be created.\n",
    "#### The delattr(obj, name) − to delete an attribute."
   ]
  },
  {
   "cell_type": "code",
   "execution_count": 20,
   "id": "chief-statement",
   "metadata": {},
   "outputs": [
    {
     "name": "stdout",
     "output_type": "stream",
     "text": [
      "True\n",
      "25\n",
      "None\n",
      "None\n"
     ]
    }
   ],
   "source": [
    "print(hasattr(emp1, 'age')) # Resturns true if 'age' attribute exists\n",
    "print(getattr(emp1, 'age')) # Resturns value of 'age' attribute \n",
    "print(setattr(emp1, 'age', 25)) # Sets attribute 'age' at 8\n",
    "print(delattr(emp1, 'age')) # Delete attribute 'age'"
   ]
  },
  {
   "cell_type": "markdown",
   "id": "personal-billy",
   "metadata": {},
   "source": [
    "# Built-In Class Attributes"
   ]
  },
  {
   "cell_type": "markdown",
   "id": "dense-newman",
   "metadata": {},
   "source": [
    "#### Every Python class keeps following built-in attributes and they can be accessed using dot operator like any other attribute −"
   ]
  },
  {
   "cell_type": "markdown",
   "id": "impossible-correction",
   "metadata": {},
   "source": [
    "**dict** − Dictionary containing the class's namespace."
   ]
  },
  {
   "cell_type": "markdown",
   "id": "threatened-hollywood",
   "metadata": {},
   "source": [
    "**doc** − Class documentation string or none, if undefined."
   ]
  },
  {
   "cell_type": "markdown",
   "id": "raised-landscape",
   "metadata": {},
   "source": [
    "**name** − Class name."
   ]
  },
  {
   "cell_type": "markdown",
   "id": "criminal-penalty",
   "metadata": {},
   "source": [
    "**module** − Module name in which the class is defined. This attribute is \"main\" in interactive mode."
   ]
  },
  {
   "cell_type": "markdown",
   "id": "supreme-afternoon",
   "metadata": {},
   "source": [
    "**bases** − A possibly empty tuple containing the base classes, in the order of their occurrence in the base class list."
   ]
  },
  {
   "cell_type": "code",
   "execution_count": 22,
   "id": "taken-planet",
   "metadata": {},
   "outputs": [
    {
     "name": "stdout",
     "output_type": "stream",
     "text": [
      "Employee.__doc__: Common base class for all employees\n",
      "Employee.__name__: Employee\n",
      "Employee.__module__: __main__\n",
      "Employee.__bases__: (<class 'object'>,)\n",
      "Employee.__dict__: {'__module__': '__main__', '__doc__': 'Common base class for all employees', 'empCount': 3, '__init__': <function Employee.__init__ at 0x7fadad5f4430>, 'displayCount': <function Employee.displayCount at 0x7fadad5f41f0>, 'displayEmployee': <function Employee.displayEmployee at 0x7fadad5f4160>, '__dict__': <attribute '__dict__' of 'Employee' objects>, '__weakref__': <attribute '__weakref__' of 'Employee' objects>}\n"
     ]
    }
   ],
   "source": [
    "print(\"Employee.__doc__:\", Employee.__doc__)\n",
    "print(\"Employee.__name__:\", Employee.__name__)\n",
    "print(\"Employee.__module__:\", Employee.__module__)\n",
    "print(\"Employee.__bases__:\", Employee.__bases__)\n",
    "print(\"Employee.__dict__:\", Employee.__dict__)"
   ]
  },
  {
   "cell_type": "markdown",
   "id": "incoming-cornell",
   "metadata": {},
   "source": [
    "# Destroying Objects (Garbage Collection)"
   ]
  },
  {
   "cell_type": "markdown",
   "id": "decent-gossip",
   "metadata": {},
   "source": [
    "#### Python deletes unneeded objects (built-in types or class instances) automatically to free the memory space. The process by which Python periodically reclaims blocks of memory that no longer are in use is termed Garbage Collection.\n",
    "#### Python's garbage collector runs during program execution and is triggered when an object's reference count reaches zero. An object's reference count changes as the number of aliases that point to it changes.\n",
    "#### An object's reference count increases when it is assigned a new name or placed in a container (list, tuple, or dictionary). The object's reference count decreases when it's deleted with del, its reference is reassigned, or its reference goes out of scope. When an object's reference count reaches zero, Python collects it automatically."
   ]
  },
  {
   "cell_type": "code",
   "execution_count": 23,
   "id": "minor-funds",
   "metadata": {},
   "outputs": [],
   "source": [
    "a = 40         # Create object <40>\n",
    "b = a          # Increase ref. count of <40>\n",
    "c = [b]        # Increase ref. count of <40>\n",
    "\n",
    "del a          # Decrease ref. count of <40>\n",
    "b = 100        # Decrease ref. count of <40>\n",
    "c[0] = -1      # Decrease ref. count of <40>"
   ]
  },
  {
   "cell_type": "markdown",
   "id": "critical-burke",
   "metadata": {},
   "source": [
    "# Example"
   ]
  },
  {
   "cell_type": "markdown",
   "id": "welsh-trademark",
   "metadata": {},
   "source": [
    "#### This **del()** destructor prints the class name of an instance that is about to be destroyed −"
   ]
  },
  {
   "cell_type": "code",
   "execution_count": 46,
   "id": "smoking-parcel",
   "metadata": {},
   "outputs": [
    {
     "name": "stdout",
     "output_type": "stream",
     "text": [
      "Point destroyed\n",
      "140383552799456 140383552799456 140383552799456\n",
      "Point destroyed\n"
     ]
    }
   ],
   "source": [
    "class Point:\n",
    "    def __init__(self, x = 0, y = 0):\n",
    "        self.x = x\n",
    "        self.y = y\n",
    "    def __del__(self):\n",
    "        class_name = self.__class__.__name__\n",
    "        print(class_name, \"destroyed\")\n",
    "\n",
    "pt1 = Point()\n",
    "pt2 = pt1\n",
    "pt3 = pt1\n",
    "print(id(pt1), id(pt2), id(pt3)) # prints the ids of the objects\n",
    "del pt1\n",
    "del pt2\n",
    "del pt3"
   ]
  },
  {
   "cell_type": "markdown",
   "id": "forced-asset",
   "metadata": {},
   "source": [
    "# Class Inheritance"
   ]
  },
  {
   "cell_type": "markdown",
   "id": "needed-august",
   "metadata": {},
   "source": [
    "Instead of starting from scratch, you can create a class by deriving it from a preexisting class by listing the parent class in parentheses after the new class name."
   ]
  },
  {
   "cell_type": "markdown",
   "id": "nominated-wagner",
   "metadata": {},
   "source": [
    "The child class inherits the attributes of its parent class, and you can use those attributes as if they were defined in the child class. A child class can also override data members and methods from the parent."
   ]
  },
  {
   "cell_type": "markdown",
   "id": "broadband-george",
   "metadata": {},
   "source": [
    "Syntax Derived classes are declared much like their parent class; however, a list of base classes to inherit from is given after the class name"
   ]
  },
  {
   "cell_type": "code",
   "execution_count": 56,
   "id": "empty-attribute",
   "metadata": {},
   "outputs": [
    {
     "name": "stdout",
     "output_type": "stream",
     "text": [
      "Calling child constructor\n",
      "Calling child method\n",
      "Calling parent method\n",
      "Parent attribute : 200\n"
     ]
    }
   ],
   "source": [
    "class Parent:                 # parent class\n",
    "    parentAttr = 100\n",
    "    \n",
    "    def __init__(self):\n",
    "        print (\"Calling parent constructor\")\n",
    "    \n",
    "    def parentMethod(self):\n",
    "        print ('Calling parent method')\n",
    "\n",
    "    def setAttr(self, attr):\n",
    "        Parent.parentAttr = attr\n",
    "\n",
    "    def getAttr(self):\n",
    "        print (\"Parent attribute :\", Parent.parentAttr)\n",
    "\n",
    "class Child(Parent):          # child class\n",
    "    def __init__(self):\n",
    "        print (\"Calling child constructor\")\n",
    "\n",
    "    def childMethod(self):\n",
    "        print ('Calling child method')\n",
    "\n",
    "c = Child()                   # instance of child \n",
    "c.childMethod()               # child calls its method\n",
    "c.parentMethod()              # calls parent's method\n",
    "c.setAttr(200)                # again call parent's method\n",
    "c.getAttr()                   # again call parent's method"
   ]
  },
  {
   "cell_type": "code",
   "execution_count": 58,
   "id": "adopted-seattle",
   "metadata": {},
   "outputs": [
    {
     "name": "stdout",
     "output_type": "stream",
     "text": [
      "True\n",
      "True\n",
      "True\n"
     ]
    }
   ],
   "source": [
    "print(issubclass(Child, Parent))\n",
    "print(isinstance(c, Child))\n",
    "print(isinstance(c, Parent))"
   ]
  },
  {
   "cell_type": "markdown",
   "id": "prompt-retreat",
   "metadata": {},
   "source": [
    "# Overrinding Methods"
   ]
  },
  {
   "cell_type": "code",
   "execution_count": 50,
   "id": "verified-giant",
   "metadata": {},
   "outputs": [
    {
     "name": "stdout",
     "output_type": "stream",
     "text": [
      "Calling child method\n"
     ]
    }
   ],
   "source": [
    "class Parent: \n",
    "    def myMethod(self):\n",
    "        print('Calling parent method')\n",
    "\n",
    "class Child(Parent):\n",
    "    def myMethod(self):\n",
    "        print(\"Calling child method\")\n",
    "\n",
    "c = Child()\n",
    "c.myMethod()"
   ]
  },
  {
   "cell_type": "markdown",
   "id": "extreme-impact",
   "metadata": {},
   "source": [
    "# Overloading Operators"
   ]
  },
  {
   "cell_type": "code",
   "execution_count": 59,
   "id": "right-correspondence",
   "metadata": {},
   "outputs": [
    {
     "name": "stdout",
     "output_type": "stream",
     "text": [
      "Vector (7, 8)\n"
     ]
    }
   ],
   "source": [
    "class Vector:\n",
    "    def __init__(self, a, b):\n",
    "        self.a = a\n",
    "        self.b = b\n",
    "    def __str__(self):\n",
    "        return 'Vector (%d, %d)' % (self.a, self.b)\n",
    "    def __add__(self,other):\n",
    "        return Vector(self.a + other.a, self.b + other.b)\n",
    "\n",
    "v1 = Vector(2,10)\n",
    "v2 = Vector(5,-2)\n",
    "print (v1 + v2)"
   ]
  },
  {
   "cell_type": "markdown",
   "id": "recreational-fault",
   "metadata": {},
   "source": [
    "# Data Hiding"
   ]
  },
  {
   "cell_type": "code",
   "execution_count": 1,
   "id": "compact-editing",
   "metadata": {},
   "outputs": [
    {
     "name": "stdout",
     "output_type": "stream",
     "text": [
      "1\n",
      "2\n",
      "2\n"
     ]
    }
   ],
   "source": [
    "class JustCounter:\n",
    "    __secretCount = 0\n",
    "    def count(self):\n",
    "        self.__secretCount += 1\n",
    "        print (self.__secretCount)\n",
    "\n",
    "counter = JustCounter()\n",
    "counter.count()\n",
    "counter.count()\n",
    "print (counter._JustCounter__secretCount)"
   ]
  }
 ],
 "metadata": {
  "kernelspec": {
   "display_name": "Python 3",
   "language": "python",
   "name": "python3"
  },
  "language_info": {
   "codemirror_mode": {
    "name": "ipython",
    "version": 3
   },
   "file_extension": ".py",
   "mimetype": "text/x-python",
   "name": "python",
   "nbconvert_exporter": "python",
   "pygments_lexer": "ipython3",
   "version": "3.8.5"
  }
 },
 "nbformat": 4,
 "nbformat_minor": 5
}
