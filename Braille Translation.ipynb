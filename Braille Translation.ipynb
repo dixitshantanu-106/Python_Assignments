{
 "cells": [
  {
   "cell_type": "markdown",
   "id": "wicked-window",
   "metadata": {},
   "source": [
    "Braille Translation\n",
    "===================\n",
    "\n",
    "Because Commander Lambda is an equal-opportunity despot, she has several visually-impaired minions. But she never bothered to follow intergalactic standards for workplace accommodations, so those minions have a hard time navigating her space station. You figure printing out Braille signs will help them, and - since you'll be promoting efficiency at the same time - increase your chances of a promotion. \n",
    "\n",
    "Braille is a writing system used to read by touch instead of by sight. Each character is composed of 6 dots in a 2x3 grid, where each dot can either be a bump or be flat (no bump). You plan to translate the signs around the space station to Braille so that the minions under Commander Lambda's command can feel the bumps on the signs and \"\"read\"\" the text with their touch. The special printer which can print the bumps onto the signs expects the dots in the following order:\n",
    "1 4\n",
    "2 5\n",
    "3 6\n",
    "\n",
    "So given the plain text word \"\"code\"\", you get the Braille dots:\n",
    "\n",
    "11 10 11 10\n",
    "00 01 01 01\n",
    "00 10 00 00\n",
    "\n",
    "where 1 represents a bump and 0 represents no bump.  Put together, \"\"code\"\" becomes the output string \"\"100100101010100110100010\"\".\n",
    "\n",
    "Write a function solution(plaintext) that takes a string parameter and returns a string of 1's and 0's representing the bumps and absence of bumps in the input string. Your function should be able to encode the 26 lowercase letters, handle capital letters by adding a Braille capitalization mark before that character, and use a blank character (000000) for spaces. All signs on the space station are less than fifty characters long and use only letters and spaces.\n",
    "\n",
    "\n",
    "Test cases\n",
    "==========\n",
    "\n",
    "-- Python cases --\n",
    "Input:\n",
    "solution.solution(\"code\")\n",
    "Output:\n",
    "    100100101010100110100010\n",
    "\n",
    "Input:\n",
    "solution.solution(\"Braille\")\n",
    "Output:\n",
    "    000001110000111010100000010100111000111000100010\n",
    "\n",
    "Input:\n",
    "solution.solution(\"The quick brown fox jumps over the lazy dog\")\n",
    "Output:\n",
    "    000001011110110010100010000000111110101001010100100100101000000000110000111010101010010111101110000000110100101010101101000000010110101001101100111100011100000000101010111001100010111010000000011110110010100010000000111000100000101011101111000000100110101010110110"
   ]
  },
  {
   "cell_type": "code",
   "execution_count": 14,
   "id": "junior-grave",
   "metadata": {},
   "outputs": [
    {
     "name": "stdout",
     "output_type": "stream",
     "text": [
      "Enter a string: The quick brown fox jumps over the lazy dog\n",
      "000001110010100010000000111110101001010100100100101000000000110000111010101010010111101110000000110100101010101101000000010110101001101100111100011100000000101010111001100010111010000000011110110010100010000000111000100000101011101111000000100110101010110110\n"
     ]
    }
   ],
   "source": [
    "def solution(text):\n",
    "    vals = {'a': '100000', 'b': '110000', 'c': '100100', 'd': '100110', 'e': '100010', 'f': '110100', 'g': '110110', 'h': '110010', 'i': '010100', 'j': '010110', 'k': '101000', 'l': '111000', 'm': '101100', 'n': '101110', 'o': '101010', 'p': '111100', 'q': '111110', 'r': '111010', 's': '011100', 't': '011110', 'u': '101001', 'v': '111001', 'w': '010111', 'x': '101101', 'y': '101111', 'z': '101011'}\n",
    "    ans = ''\n",
    "    for i in text:\n",
    "        if i.isupper():\n",
    "            ans += '000001'\n",
    "        if i in vals.keys():\n",
    "            ans += vals[i]\n",
    "        elif i == ' ':\n",
    "            ans += '000000'\n",
    "    return ans\n",
    "print(solution(input(\"Enter a string: \")))            "
   ]
  }
 ],
 "metadata": {
  "kernelspec": {
   "display_name": "Python 3",
   "language": "python",
   "name": "python3"
  },
  "language_info": {
   "codemirror_mode": {
    "name": "ipython",
    "version": 3
   },
   "file_extension": ".py",
   "mimetype": "text/x-python",
   "name": "python",
   "nbconvert_exporter": "python",
   "pygments_lexer": "ipython3",
   "version": "3.8.5"
  }
 },
 "nbformat": 4,
 "nbformat_minor": 5
}
