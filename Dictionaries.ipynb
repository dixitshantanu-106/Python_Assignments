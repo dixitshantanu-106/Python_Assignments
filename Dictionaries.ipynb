{
 "cells": [
  {
   "cell_type": "markdown",
   "metadata": {},
   "source": [
    "1. Python Program to Add a Key-Value Pair to the Dictionary"
   ]
  },
  {
   "cell_type": "code",
   "execution_count": 2,
   "metadata": {},
   "outputs": [
    {
     "name": "stdout",
     "output_type": "stream",
     "text": [
      "Enter a number: 5\n",
      "Enter the key: name\n",
      "Enter the value: Shantanu\n",
      "Enter the key: surname\n",
      "Enter the value: Dixit\n",
      "Enter the key: age\n",
      "Enter the value: 22\n",
      "Enter the key: gender\n",
      "Enter the value: male\n",
      "Enter the key: address\n",
      "Enter the value: pune\n",
      "{'name': 'Shantanu', 'surname': 'Dixit', 'age': '22', 'gender': 'male', 'address': 'pune'}\n"
     ]
    }
   ],
   "source": [
    "n = int(input(\"Enter a number: \"))\n",
    "my_dict = {}\n",
    "while(n > 0):\n",
    "    key = input(\"Enter the key: \")\n",
    "    val = input(\"Enter the value: \")\n",
    "    my_dict.update({key:val})\n",
    "    n -= 1\n",
    "print(my_dict)"
   ]
  },
  {
   "cell_type": "markdown",
   "metadata": {},
   "source": [
    "2. Python Program to Concatenate Two Dictionaries Into One"
   ]
  },
  {
   "cell_type": "code",
   "execution_count": 3,
   "metadata": {},
   "outputs": [
    {
     "name": "stdout",
     "output_type": "stream",
     "text": [
      "{'name': 'Shantanu', 'surname': 'Dixit'}\n",
      "{'age': 22, 'gender': 'male', 'address': 'pune'}\n",
      "{'age': 22, 'gender': 'male', 'address': 'pune', 'name': 'Shantanu', 'surname': 'Dixit'}\n"
     ]
    }
   ],
   "source": [
    "my_name = {'name': 'Shantanu', 'surname': 'Dixit'}\n",
    "my_details = {'age': 22, 'gender': 'male', 'address': 'pune'}\n",
    "print(my_name)\n",
    "print(my_details)\n",
    "my_details.update(my_name)\n",
    "print(my_details)"
   ]
  },
  {
   "cell_type": "markdown",
   "metadata": {},
   "source": [
    "3. Python Program to Check if a Given Key Exists in a Dictionary or Not"
   ]
  },
  {
   "cell_type": "code",
   "execution_count": 5,
   "metadata": {},
   "outputs": [
    {
     "name": "stdout",
     "output_type": "stream",
     "text": [
      "Enter the key: education\n",
      "education is not present in the dictionary\n"
     ]
    }
   ],
   "source": [
    "my_info = {'name': 'Shantanu', 'surname': 'Dixit', 'age': 22, 'gender': 'male', 'address': 'pune'}\n",
    "key = input(\"Enter the key: \")\n",
    "if key in my_info:\n",
    "    print(key, \"is present in the dictionary\")\n",
    "else:\n",
    "    print(key, \"is not present in the dictionary\")"
   ]
  },
  {
   "cell_type": "markdown",
   "metadata": {},
   "source": [
    "4. Python Program to Generate a Dictionary that Contains Numbers (between 1 and n) in\n",
    "the Form (x,x*x)."
   ]
  },
  {
   "cell_type": "code",
   "execution_count": 9,
   "metadata": {},
   "outputs": [
    {
     "name": "stdout",
     "output_type": "stream",
     "text": [
      "Enter the value of n: 10\n",
      "{2: 4, 3: 9, 4: 16, 5: 25, 6: 36, 7: 49, 8: 64, 9: 81}\n"
     ]
    }
   ],
   "source": [
    "numbers = {}\n",
    "n = int(input(\"Enter the value of n: \"))\n",
    "for i in range(2, n):\n",
    "    numbers.update({i: i ** 2})\n",
    "print(numbers)"
   ]
  },
  {
   "cell_type": "markdown",
   "metadata": {},
   "source": [
    "5. Python Program to Sum All the Items in a Dictionary"
   ]
  },
  {
   "cell_type": "code",
   "execution_count": 10,
   "metadata": {},
   "outputs": [
    {
     "name": "stdout",
     "output_type": "stream",
     "text": [
      "The sum of all items in the dictionary is: 284\n"
     ]
    }
   ],
   "source": [
    "numbers = {2: 4, 3: 9, 4: 16, 5: 25, 6: 36, 7: 49, 8: 64, 9: 81}\n",
    "print(\"The sum of all items in the dictionary is: {0}\".format(sum(numbers.values())))"
   ]
  },
  {
   "cell_type": "markdown",
   "metadata": {},
   "source": [
    "6. Python Program to Multiply All the Items in a Dictionary"
   ]
  },
  {
   "cell_type": "code",
   "execution_count": 11,
   "metadata": {},
   "outputs": [
    {
     "name": "stdout",
     "output_type": "stream",
     "text": [
      "The product of all items in the dictionary is: 131681894400\n"
     ]
    }
   ],
   "source": [
    "numbers = {2: 4, 3: 9, 4: 16, 5: 25, 6: 36, 7: 49, 8: 64, 9: 81}\n",
    "prod = 1\n",
    "for i in numbers.values():\n",
    "    prod *= i\n",
    "print(\"The product of all items in the dictionary is: {0}\".format(prod))"
   ]
  },
  {
   "cell_type": "markdown",
   "metadata": {},
   "source": [
    "7. Python Program to Remove the Given Key from a Dictionary"
   ]
  },
  {
   "cell_type": "code",
   "execution_count": 15,
   "metadata": {},
   "outputs": [
    {
     "name": "stdout",
     "output_type": "stream",
     "text": [
      "{'name': 'Shantanu', 'surname': 'Dixit', 'age': 22, 'gender': 'male', 'address': 'pune'}\n",
      "Enter a key which is to be removed: asdsad\n",
      "asdsad not in dictionary\n",
      "{'name': 'Shantanu', 'surname': 'Dixit', 'age': 22, 'gender': 'male', 'address': 'pune'}\n"
     ]
    }
   ],
   "source": [
    "my_info = {'name': 'Shantanu', 'surname': 'Dixit', 'age': 22, 'gender': 'male', 'address': 'pune'}\n",
    "print(my_info)\n",
    "key = input(\"Enter a key which is to be removed: \")\n",
    "if key in my_info:\n",
    "    del my_info[key]\n",
    "else:\n",
    "    print(key, \"not in dictionary\")\n",
    "print(my_info)"
   ]
  },
  {
   "cell_type": "markdown",
   "metadata": {},
   "source": [
    "8. Python Program to Form a Dictionary from an Object of a Class"
   ]
  },
  {
   "cell_type": "code",
   "execution_count": null,
   "metadata": {},
   "outputs": [],
   "source": []
  },
  {
   "cell_type": "markdown",
   "metadata": {},
   "source": [
    "9. Python Program to Map Two Lists into a Dictionary"
   ]
  },
  {
   "cell_type": "code",
   "execution_count": 16,
   "metadata": {},
   "outputs": [
    {
     "name": "stdout",
     "output_type": "stream",
     "text": [
      "Enter keys separated by space: name surname age gender\n",
      "Enter values separated by space: shantanu dixit 22 male\n",
      "{'name': 'shantanu', 'surname': 'dixit', 'age': '22', 'gender': 'male'}\n"
     ]
    }
   ],
   "source": [
    "keys = input(\"Enter keys separated by space: \").split()\n",
    "vals = input(\"Enter values separated by space: \").split()\n",
    "my_dict = {}\n",
    "for i, j in zip(keys, vals):\n",
    "    my_dict.update({i : j})\n",
    "print(my_dict)"
   ]
  },
  {
   "cell_type": "markdown",
   "metadata": {},
   "source": [
    "10. Python Program to Count the Frequency of Words Appearing in a String Using a\n",
    "Dictionary"
   ]
  },
  {
   "cell_type": "code",
   "execution_count": 31,
   "metadata": {},
   "outputs": [
    {
     "name": "stdout",
     "output_type": "stream",
     "text": [
      "Enter a string: my name is is shantanu is my name name\n",
      "{'my': 2, 'name': 3, 'is': 3, 'shantanu': 1}\n"
     ]
    }
   ],
   "source": [
    "string = input(\"Enter a string: \").split()\n",
    "my_string = {}\n",
    "for i in string:\n",
    "    if i in my_string:\n",
    "        my_string[i] += 1\n",
    "    else:\n",
    "        my_string[i] = 1\n",
    "print(my_string)"
   ]
  },
  {
   "cell_type": "markdown",
   "metadata": {},
   "source": [
    "11. Python Program to Create a Dictionary with Key as First Character and Value as Words\n",
    "Starting with that Character"
   ]
  },
  {
   "cell_type": "code",
   "execution_count": 29,
   "metadata": {},
   "outputs": [
    {
     "name": "stdout",
     "output_type": "stream",
     "text": [
      "Enter letters separated by space: b c s\n",
      "Enter words separated by space: ball sports spice spring cricket catch batsman cold spring bowled\n",
      "{'b': 'ball, batsman, bowled', 'c': 'cricket, catch, cold', 's': 'sports, spice, spring, spring'}\n"
     ]
    }
   ],
   "source": [
    "letters = input(\"Enter letters separated by space: \").split()\n",
    "words = input(\"Enter words separated by space: \").split()\n",
    "my_words = {}\n",
    "for i in letters:\n",
    "    for j in words:\n",
    "        if i == j[0]:\n",
    "            if i not in my_words:\n",
    "                my_words[i] = j\n",
    "            else:\n",
    "                my_words[i] += ', ' + j\n",
    "print(my_words)"
   ]
  }
 ],
 "metadata": {
  "kernelspec": {
   "display_name": "Python 3",
   "language": "python",
   "name": "python3"
  },
  "language_info": {
   "codemirror_mode": {
    "name": "ipython",
    "version": 3
   },
   "file_extension": ".py",
   "mimetype": "text/x-python",
   "name": "python",
   "nbconvert_exporter": "python",
   "pygments_lexer": "ipython3",
   "version": "3.8.5"
  }
 },
 "nbformat": 4,
 "nbformat_minor": 2
}
