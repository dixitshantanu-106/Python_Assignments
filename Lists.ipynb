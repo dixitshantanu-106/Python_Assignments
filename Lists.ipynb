{
 "cells": [
  {
   "cell_type": "markdown",
   "metadata": {},
   "source": [
    "1. Write a Python program to sum all the items in a list."
   ]
  },
  {
   "cell_type": "code",
   "execution_count": 9,
   "metadata": {},
   "outputs": [
    {
     "name": "stdout",
     "output_type": "stream",
     "text": [
      "Sum of elements of list is 479\n"
     ]
    }
   ],
   "source": [
    "my_list = [44, 228, 8, 54, 99, 6, 35, 5]\n",
    "print(\"Sum of elements of list is\", sum(my_list))"
   ]
  },
  {
   "cell_type": "markdown",
   "metadata": {},
   "source": [
    "2. Write a Python program to multiply all the items in a list."
   ]
  },
  {
   "cell_type": "code",
   "execution_count": 10,
   "metadata": {},
   "outputs": [
    {
     "name": "stdout",
     "output_type": "stream",
     "text": [
      "Product of elements of list is 450501004800\n"
     ]
    }
   ],
   "source": [
    "prod = 1\n",
    "for i in my_list:\n",
    "    prod *= i\n",
    "print(\"Product of elements of list is\", prod)"
   ]
  },
  {
   "cell_type": "markdown",
   "metadata": {},
   "source": [
    "3. Write a Python program to get the largest number from a list."
   ]
  },
  {
   "cell_type": "code",
   "execution_count": 12,
   "metadata": {},
   "outputs": [
    {
     "name": "stdout",
     "output_type": "stream",
     "text": [
      "Largest element in the list is 228\n"
     ]
    }
   ],
   "source": [
    "print(\"Largest element in the list is\", max(my_list))"
   ]
  },
  {
   "cell_type": "markdown",
   "metadata": {},
   "source": [
    "4. Write a Python program to get the smallest number from a list."
   ]
  },
  {
   "cell_type": "code",
   "execution_count": 13,
   "metadata": {},
   "outputs": [
    {
     "name": "stdout",
     "output_type": "stream",
     "text": [
      "Smallest number in the list is 5\n"
     ]
    }
   ],
   "source": [
    "print(\"Smallest number in the list is\", min(my_list))"
   ]
  },
  {
   "cell_type": "markdown",
   "metadata": {},
   "source": [
    "5. Write a Python program to count the number of strings where the string length is 2 or more\n",
    "and the first and last character are same from a given list of strings."
   ]
  },
  {
   "cell_type": "code",
   "execution_count": 18,
   "metadata": {},
   "outputs": [
    {
     "name": "stdout",
     "output_type": "stream",
     "text": [
      "['abc', 'xyz', 'aba', '1221']\n",
      "There are 2 strings where len > 1 and first and last character is same.\n"
     ]
    }
   ],
   "source": [
    "my_strings = ['abc', 'xyz', 'aba', '1221']\n",
    "print(my_strings)\n",
    "count = 0\n",
    "for i in my_strings:\n",
    "    if len(i) > 1 and i[0] == i[-1]:\n",
    "        count += 1\n",
    "print(\"There are\", count, \"strings where len > 1 and first and last character is same.\")"
   ]
  },
  {
   "cell_type": "markdown",
   "metadata": {},
   "source": [
    "6. Write a Python program to get a list, sorted in increasing order by the last element in each\n",
    "Tuple from a given list of non-empty Tuples."
   ]
  },
  {
   "cell_type": "code",
   "execution_count": 86,
   "metadata": {},
   "outputs": [
    {
     "name": "stdout",
     "output_type": "stream",
     "text": [
      "[(2, 1), (1, 2), (2, 3), (3, 3), (4, 4), (2, 5)]\n"
     ]
    }
   ],
   "source": [
    "sample_list = [(3, 3), (2, 5), (1, 2), (4, 4), (2, 3), (2, 1)]\n",
    "for i in range(len(sample_list)):\n",
    "    for j in range(i + 1, len(sample_list)):\n",
    "        if sample_list[i][1] > sample_list[j][1]:\n",
    "            sample_list[i], sample_list[j] = sample_list[j], sample_list[i]\n",
    "print(sample_list)"
   ]
  },
  {
   "cell_type": "markdown",
   "metadata": {},
   "source": [
    "7. Write a Python program to remove duplicates from a list."
   ]
  },
  {
   "cell_type": "code",
   "execution_count": 104,
   "metadata": {},
   "outputs": [
    {
     "name": "stdout",
     "output_type": "stream",
     "text": [
      "[44, 228, 6, 8, 54, 99, 35]\n"
     ]
    }
   ],
   "source": [
    "my_list = [44, 228, 6, 8, 54, 99, 6, 35, 35, 44]\n",
    "new_list = []\n",
    "for i in range(len(my_list)):\n",
    "        if my_list[i] not in new_list:\n",
    "            new_list.append(my_list[i])\n",
    "print(new_list)"
   ]
  },
  {
   "cell_type": "markdown",
   "metadata": {},
   "source": [
    "8. Write a Python program to check a list is empty or not."
   ]
  },
  {
   "cell_type": "code",
   "execution_count": 88,
   "metadata": {},
   "outputs": [
    {
     "name": "stdout",
     "output_type": "stream",
     "text": [
      "list is empty\n"
     ]
    }
   ],
   "source": [
    "new_list = []\n",
    "if new_list:\n",
    "    print(\"list is not empty\")\n",
    "else:\n",
    "    print(\"list is empty\")"
   ]
  },
  {
   "cell_type": "markdown",
   "metadata": {},
   "source": [
    "9. Write a Python program to clone or copy a list."
   ]
  },
  {
   "cell_type": "code",
   "execution_count": 109,
   "metadata": {},
   "outputs": [
    {
     "name": "stdout",
     "output_type": "stream",
     "text": [
      "my_list =  [44, 228, 6, 8, 54, 99, 6, 35, 35, 44]\n",
      "new_list =  [44, 228, 6, 8, 54, 99, 6, 35, 35, 44]\n"
     ]
    }
   ],
   "source": [
    "print(\"my_list = \", my_list)\n",
    "new_list = my_list\n",
    "print(\"new_list = \", new_list)\n"
   ]
  },
  {
   "cell_type": "markdown",
   "metadata": {},
   "source": [
    "10. Write a Python program to find the list of words that are longer than n from a given list of\n",
    "words."
   ]
  },
  {
   "cell_type": "code",
   "execution_count": 128,
   "metadata": {},
   "outputs": [
    {
     "name": "stdout",
     "output_type": "stream",
     "text": [
      "Enter the value of n: 4\n",
      "['Green', 'White', 'Black', 'Yellow']\n"
     ]
    }
   ],
   "source": [
    "sample_list = ['Red', 'Green', 'White', 'Black', 'Pink', 'Yellow']\n",
    "n = int(input(\"Enter the value of n: \"))\n",
    "new_list = []\n",
    "for i in sample_list:\n",
    "    if len(i) > n:\n",
    "        new_list.append(i)\n",
    "print(new_list)"
   ]
  },
  {
   "cell_type": "markdown",
   "metadata": {},
   "source": [
    "11. Write a Python function that takes two lists and returns True if they have at least one\n",
    "common member."
   ]
  },
  {
   "cell_type": "code",
   "execution_count": 129,
   "metadata": {},
   "outputs": [
    {
     "name": "stdout",
     "output_type": "stream",
     "text": [
      "[44, 228, 6, 8, 54, 99, 6, 35, 35, 44]\n",
      "['Red', 'Green', 'White', 'Black', 'Pink', 'Yellow']\n",
      "False\n"
     ]
    }
   ],
   "source": [
    "def common(l1, l2):\n",
    "    for i in l1:\n",
    "        for j in l2:\n",
    "            if i == j:\n",
    "                return True\n",
    "    return False\n",
    "print(my_list)\n",
    "print(sample_list)\n",
    "print(common(my_list, sample_list))"
   ]
  },
  {
   "cell_type": "markdown",
   "metadata": {},
   "source": [
    "12. Write a Python program to print a specified list after removing the 0th, 4th and 5th\n",
    "elements."
   ]
  },
  {
   "cell_type": "code",
   "execution_count": 130,
   "metadata": {},
   "outputs": [
    {
     "name": "stdout",
     "output_type": "stream",
     "text": [
      "['Red', 'Green', 'White', 'Black', 'Pink', 'Yellow']\n",
      "['Green', 'White', 'Black']\n"
     ]
    }
   ],
   "source": [
    "print(sample_list)\n",
    "new_list = sample_list[1:4] \n",
    "print(new_list)"
   ]
  },
  {
   "cell_type": "markdown",
   "metadata": {},
   "source": [
    "13. Write a Python program to generate a 3*4*6 3D array whose each element is *."
   ]
  },
  {
   "cell_type": "code",
   "execution_count": null,
   "metadata": {},
   "outputs": [],
   "source": []
  },
  {
   "cell_type": "markdown",
   "metadata": {},
   "source": [
    "14. Write a Python program to print the numbers of a specified list after removing even numbers\n",
    "from it."
   ]
  },
  {
   "cell_type": "code",
   "execution_count": 89,
   "metadata": {},
   "outputs": [
    {
     "name": "stdout",
     "output_type": "stream",
     "text": [
      "[44, 228, 8, 54, 99, 6, 35, 5]\n",
      "99\n",
      "35\n",
      "5\n"
     ]
    }
   ],
   "source": [
    "my_list = [44, 228, 8, 54, 99, 6, 35, 5]\n",
    "print(my_list)\n",
    "for i in my_list:\n",
    "    if i % 2 != 0:\n",
    "        print(i)"
   ]
  },
  {
   "cell_type": "markdown",
   "metadata": {},
   "source": [
    "15. Write a Python program to shuffle and print a specified list."
   ]
  },
  {
   "cell_type": "code",
   "execution_count": 92,
   "metadata": {},
   "outputs": [
    {
     "name": "stdout",
     "output_type": "stream",
     "text": [
      "[54, 6, 8, 5, 44, 99, 35, 228]\n",
      "[99, 35, 6, 228, 44, 8, 54, 5]\n"
     ]
    }
   ],
   "source": [
    "import random\n",
    "print(my_list)\n",
    "random.shuffle(my_list)\n",
    "print(my_list)"
   ]
  },
  {
   "cell_type": "markdown",
   "metadata": {},
   "source": [
    "16. Write a Python program to generate and print a list of first and last 5 elements where the\n",
    "values are square of numbers between 1 and 30 (both included)."
   ]
  },
  {
   "cell_type": "code",
   "execution_count": 14,
   "metadata": {},
   "outputs": [
    {
     "name": "stdout",
     "output_type": "stream",
     "text": [
      "[1, 4, 9, 16, 25, 676, 729, 784, 841, 900]\n"
     ]
    }
   ],
   "source": [
    "sq_list = []\n",
    "for i in range(1, 31):\n",
    "    sq_list.append(i ** 2)\n",
    "new_list = sq_list[:5] + sq_list[-5:]\n",
    "print(new_list)"
   ]
  },
  {
   "cell_type": "markdown",
   "metadata": {},
   "source": [
    "17. Write a Python program to generate and print a list except for the first 5 elements, where the\n",
    "values are square of numbers between 1 and 30 (both included)."
   ]
  },
  {
   "cell_type": "code",
   "execution_count": 16,
   "metadata": {},
   "outputs": [
    {
     "name": "stdout",
     "output_type": "stream",
     "text": [
      "[36, 49, 64, 81, 100, 121, 144, 169, 196, 225, 256, 289, 324, 361, 400, 441, 484, 529, 576, 625, 676, 729, 784, 841, 900]\n"
     ]
    }
   ],
   "source": [
    "new_list = sq_list[5:]\n",
    "print(new_list)"
   ]
  },
  {
   "cell_type": "markdown",
   "metadata": {},
   "source": [
    "18. Write a Python program to generate all permutations of a list in Python."
   ]
  },
  {
   "cell_type": "code",
   "execution_count": 15,
   "metadata": {},
   "outputs": [
    {
     "name": "stdout",
     "output_type": "stream",
     "text": [
      "Enter the elements of the list separated by space: a b c\n",
      "['a', 'b', 'c']\n",
      "['a', 'c', 'b']\n",
      "['b', 'a', 'c']\n",
      "['b', 'c', 'a']\n",
      "['c', 'b', 'a']\n",
      "['c', 'a', 'b']\n"
     ]
    }
   ],
   "source": [
    "def permute(my_list, s, e):\n",
    "    if s == e:\n",
    "        print(my_list)\n",
    "    else:\n",
    "        for i in range(s, e + 1):\n",
    "            my_list[s], my_list[i] = my_list[i], my_list[s]\n",
    "            permute(my_list, s + 1, e)\n",
    "            my_list[s], my_list[i] = my_list[i], my_list[s]\n",
    "my_list = input(\"Enter the elements of the list separated by space: \").split()\n",
    "permute(my_list, 0, len(my_list) - 1)"
   ]
  },
  {
   "cell_type": "markdown",
   "metadata": {},
   "source": [
    "19. Write a Python program to get the difference between the two lists."
   ]
  },
  {
   "cell_type": "code",
   "execution_count": 3,
   "metadata": {},
   "outputs": [
    {
     "name": "stdout",
     "output_type": "stream",
     "text": [
      "11\n"
     ]
    }
   ],
   "source": [
    "l1 = ['d', 's', 'dsf', 'yt', '86', 'cvb', 'tre', 'cv', '98']\n",
    "l2 = ['cvb', 'tre', 'cv', '98', 'dfg', 'vbn', 'zcx', 'ty', '989', '44']\n",
    "diff = 0\n",
    "new = []\n",
    "for i in l1:\n",
    "    for j in l2:\n",
    "        if i not in l2 and i not in new:\n",
    "            diff += 1\n",
    "            new.append(i)\n",
    "        if j not in l1 and j not in new:\n",
    "            diff += 1\n",
    "            new.append(j)\n",
    "print(diff)"
   ]
  },
  {
   "cell_type": "markdown",
   "metadata": {},
   "source": [
    "20. Write a Python program access the index of a list."
   ]
  },
  {
   "cell_type": "code",
   "execution_count": 18,
   "metadata": {},
   "outputs": [
    {
     "name": "stdout",
     "output_type": "stream",
     "text": [
      "0 36\n",
      "1 49\n",
      "2 64\n",
      "3 81\n",
      "4 100\n",
      "5 121\n",
      "6 144\n",
      "7 169\n",
      "8 196\n",
      "9 225\n",
      "10 256\n",
      "11 289\n",
      "12 324\n",
      "13 361\n",
      "14 400\n",
      "15 441\n",
      "16 484\n",
      "17 529\n",
      "18 576\n",
      "19 625\n",
      "20 676\n",
      "21 729\n",
      "22 784\n",
      "23 841\n",
      "24 900\n"
     ]
    }
   ],
   "source": [
    "for i, val in enumerate(new_list):\n",
    "    print(i, val)"
   ]
  },
  {
   "cell_type": "markdown",
   "metadata": {},
   "source": [
    "21. Write a Python program to convert a list of characters into a string"
   ]
  },
  {
   "cell_type": "code",
   "execution_count": 39,
   "metadata": {},
   "outputs": [
    {
     "name": "stdout",
     "output_type": "stream",
     "text": [
      "shantanu\n"
     ]
    }
   ],
   "source": [
    "char_list = ['s', 'h', 'a', 'n', 't', 'a', 'n', 'u']\n",
    "new_str = ''.join(char_list)\n",
    "print(new_str)"
   ]
  },
  {
   "cell_type": "markdown",
   "metadata": {},
   "source": [
    "22. Write a Python program to find the index of an item in a specified list."
   ]
  },
  {
   "cell_type": "code",
   "execution_count": 27,
   "metadata": {},
   "outputs": [
    {
     "name": "stdout",
     "output_type": "stream",
     "text": [
      "[36, 49, 64, 81, 100, 121, 144, 169, 196, 225, 256, 289, 324, 361, 400, 441, 484, 529, 576, 625, 676, 729, 784, 841, 900]\n",
      "Enter the value to fetch its index: 441\n",
      "Index of 441 is 15\n"
     ]
    }
   ],
   "source": [
    "print(new_list)\n",
    "n = int(input(\"Enter the value to fetch its index: \"))\n",
    "print(\"Index of\", n, \"is\", new_list.index(n))"
   ]
  },
  {
   "cell_type": "markdown",
   "metadata": {},
   "source": [
    "23. Write a Python program to flatten a shallow list."
   ]
  },
  {
   "cell_type": "code",
   "execution_count": 18,
   "metadata": {},
   "outputs": [
    {
     "name": "stdout",
     "output_type": "stream",
     "text": [
      "[[10, 20], [40], [30, -56, 25], [10, 20], [33], [40]]\n",
      "[10, 20, 40, 30, -56, 25, 10, 20, 33, 40]\n"
     ]
    }
   ],
   "source": [
    "sample_list = [[10, 20], [40],[30, -56, 25], [10, 20], [33], [40]]\n",
    "print(sample_list)\n",
    "new = []\n",
    "for i in range(len(sample_list)):\n",
    "    for j in range(len(sample_list[i])):\n",
    "         new.append(sample_list[i][j])\n",
    "print(new)"
   ]
  },
  {
   "cell_type": "markdown",
   "metadata": {},
   "source": [
    "24. Write a Python program to append a list to the second list."
   ]
  },
  {
   "cell_type": "code",
   "execution_count": 31,
   "metadata": {},
   "outputs": [
    {
     "name": "stdout",
     "output_type": "stream",
     "text": [
      "[36, 49, 64, 81, 100, 121, 144, 169, 196, 225, 256, 289, 324, 361, 400, 441, 484, 529, 576, 625, 676, 729, 784, 841, 900]\n",
      "[4, 6, 428, 145, 1321, 4444, 3333]\n",
      "[4, 6, 428, 145, 1321, 4444, 3333, [36, 49, 64, 81, 100, 121, 144, 169, 196, 225, 256, 289, 324, 361, 400, 441, 484, 529, 576, 625, 676, 729, 784, 841, 900]]\n"
     ]
    }
   ],
   "source": [
    "sample_list = [4, 6 ,428, 145, 1321, 4444, 3333]\n",
    "print(new_list)\n",
    "print(sample_list)\n",
    "sample_list.append(new_list)\n",
    "print(sample_list)"
   ]
  },
  {
   "cell_type": "markdown",
   "metadata": {},
   "source": [
    "25. Write a Python program to select an item randomly from a list."
   ]
  },
  {
   "cell_type": "code",
   "execution_count": 35,
   "metadata": {},
   "outputs": [
    {
     "name": "stdout",
     "output_type": "stream",
     "text": [
      "1321\n"
     ]
    }
   ],
   "source": [
    "import random\n",
    "print(random.choice(sample_list))"
   ]
  },
  {
   "cell_type": "markdown",
   "metadata": {},
   "source": [
    "26. Write a python program to check whether two lists are circularly identical."
   ]
  },
  {
   "cell_type": "code",
   "execution_count": 67,
   "metadata": {},
   "outputs": [
    {
     "name": "stdout",
     "output_type": "stream",
     "text": [
      "Identical\n"
     ]
    }
   ],
   "source": [
    "l1 = [1, 2, 3, 4, 5, 6, 7, 8, 9, 0]\n",
    "l2 = [0, 9, 8, 7, 6, 5, 4, 3, 2, 1]\n",
    "flag = 0\n",
    "if len(l1) == len(l2):\n",
    "    n = len(l1)\n",
    "    for i in range(n):    \n",
    "        if l1[i] != l2[n -(1 + i)]:\n",
    "            flag = 1\n",
    "            break\n",
    "    else:\n",
    "        print(\"Identical\")\n",
    "    if flag == 1:\n",
    "        print(\"Not Identical\")\n",
    "else:\n",
    "    print(\"Not identical\")"
   ]
  },
  {
   "cell_type": "markdown",
   "metadata": {},
   "source": [
    "27. Write a Python program to find the second smallest number in a list."
   ]
  },
  {
   "cell_type": "code",
   "execution_count": 7,
   "metadata": {},
   "outputs": [
    {
     "name": "stdout",
     "output_type": "stream",
     "text": [
      "Second smallest number in the list is 14\n"
     ]
    }
   ],
   "source": [
    "new_list = [44, 55, 6 , 32, 99, 64, 45, 25, 45, 14]\n",
    "new_list.remove(min(new_list))\n",
    "print(\"Second smallest number in the list is\", min(new_list))"
   ]
  },
  {
   "cell_type": "markdown",
   "metadata": {},
   "source": [
    "28. Write a Python program to find the second largest number in a list"
   ]
  },
  {
   "cell_type": "code",
   "execution_count": 8,
   "metadata": {},
   "outputs": [
    {
     "name": "stdout",
     "output_type": "stream",
     "text": [
      "Second largest number in the list is 64\n"
     ]
    }
   ],
   "source": [
    "new_list = [44, 55, 6 , 32, 99, 64, 45, 25, 45, 14]\n",
    "new_list.remove(max(new_list))\n",
    "print(\"Second largest number in the list is\", max(new_list))"
   ]
  },
  {
   "cell_type": "markdown",
   "metadata": {},
   "source": [
    "29. Write a Python program to get unique values from a list."
   ]
  },
  {
   "cell_type": "code",
   "execution_count": 10,
   "metadata": {},
   "outputs": [
    {
     "name": "stdout",
     "output_type": "stream",
     "text": [
      "[54, 54, 52, 8, 66, 4, 8, 52, 14, 14, 56, 32, 30, 85, 78, 85, 94]\n",
      "[54, 52, 8, 66, 4, 14, 56, 32, 30, 85, 78, 94]\n"
     ]
    }
   ],
   "source": [
    "new_list = [54, 54, 52, 8, 66, 4, 8, 52, 14, 14, 56, 32, 30, 85, 78, 85, 94]\n",
    "print(new_list)\n",
    "new = []\n",
    "for i in new_list:\n",
    "    if i not in new:\n",
    "        new.append(i)\n",
    "print(new)"
   ]
  },
  {
   "cell_type": "markdown",
   "metadata": {},
   "source": [
    "30. Write a Python program to get the frequency of the elements in a list."
   ]
  },
  {
   "cell_type": "code",
   "execution_count": 13,
   "metadata": {},
   "outputs": [
    {
     "name": "stdout",
     "output_type": "stream",
     "text": [
      "{54: 2, 52: 2, 8: 2, 66: 1, 4: 1, 14: 2, 56: 1, 32: 1, 30: 1, 85: 2, 78: 1, 94: 1}\n"
     ]
    }
   ],
   "source": [
    "new_list = [54, 54, 52, 8, 66, 4, 8, 52, 14, 14, 56, 32, 30, 85, 78, 85, 94]\n",
    "new = {}\n",
    "for i in new_list:\n",
    "    if i in new:\n",
    "        new[i] += 1\n",
    "    else:\n",
    "        new[i] = 1\n",
    "print(new)"
   ]
  },
  {
   "cell_type": "markdown",
   "metadata": {},
   "source": [
    "31. Write a Python program to count the number of elements in a list within a specified range."
   ]
  },
  {
   "cell_type": "code",
   "execution_count": 50,
   "metadata": {},
   "outputs": [
    {
     "name": "stdout",
     "output_type": "stream",
     "text": [
      "[54, 54, 52, 8, 66, 4, 8, 52, 14, 14, 56, 32, 30, 85, 78, 85, 94]\n",
      "Enter minimum: 4 \n",
      "Enter maximum: 66\n",
      "There are 11 elements within the range 4 and 66\n"
     ]
    }
   ],
   "source": [
    "new_list = [54, 54, 52, 8, 66, 4, 8, 52, 14, 14, 56, 32, 30, 85, 78, 85, 94]\n",
    "print(new_list)\n",
    "min_ = int(input(\"Enter minimum: \"))\n",
    "max_ = int(input(\"Enter maximum: \"))\n",
    "count = 0\n",
    "for i in new_list:\n",
    "    if i > min_ and i < max_:\n",
    "        count += 1\n",
    "print(\"There are\", count, \"elements within the range\", min_, \"and\", max_)"
   ]
  },
  {
   "cell_type": "markdown",
   "metadata": {},
   "source": [
    "32. Write a Python program to check whether a list contains a sublist."
   ]
  },
  {
   "cell_type": "code",
   "execution_count": 10,
   "metadata": {},
   "outputs": [
    {
     "name": "stdout",
     "output_type": "stream",
     "text": [
      "[54, 54, 52, 8, 66, 4, 8, 52, 14, 14, 56, 32, 30, 85, 78, 85, 94]\n",
      "Enter sublist to search separated by comma: 54,54,52\n",
      "[54, 54, 52]\n",
      "The list contains a sublist: \n"
     ]
    }
   ],
   "source": [
    "new_list = [54, 54, 52, 8, 66, 4, 8, 52, 14, 14, 56, 32, 30, 85, 78, 85, 94]\n",
    "print(new_list)\n",
    "new = input(\"Enter sublist to search separated by comma: \").split(',')\n",
    "for i in range(len(new)):\n",
    "    new[i] = int(new[i])\n",
    "print(new)\n",
    "flag = 0\n",
    "if(all(x in new_list for x in new)):\n",
    "    flag = 1\n",
    "if flag:\n",
    "    print(\"The list contains a sublist: \")\n",
    "else:\n",
    "    print(\"The list does not contain a sublist: \")"
   ]
  },
  {
   "cell_type": "markdown",
   "metadata": {},
   "source": [
    "33. Write a Python program to generate all sublists of a list."
   ]
  },
  {
   "cell_type": "code",
   "execution_count": 20,
   "metadata": {},
   "outputs": [
    {
     "name": "stdout",
     "output_type": "stream",
     "text": [
      "[5, 78, 85, 94]\n",
      "[[]]\n",
      "[[], [5, 78, 85, 94], [78, 85, 94], [85, 94], [94]]\n"
     ]
    }
   ],
   "source": [
    "new_list = [5, 78, 85, 94]\n",
    "print(new_list)\n",
    "sublists = [[]]\n",
    "new = []\n",
    "print(sublists)\n",
    "for i in range(len(new_list)):\n",
    "    for j in range(i, len(new_list)):\n",
    "        new.append(new_list[j])\n",
    "    else:\n",
    "        sublists.append(new)\n",
    "        new = []\n",
    "print(sublists)"
   ]
  },
  {
   "cell_type": "markdown",
   "metadata": {},
   "source": [
    "34. Write a Python program using Sieve of Eratosthenes method for computing primes upto a\n",
    "specified number."
   ]
  },
  {
   "cell_type": "code",
   "execution_count": 94,
   "metadata": {},
   "outputs": [
    {
     "name": "stdout",
     "output_type": "stream",
     "text": [
      "Enter value of n: 50\n",
      "2\n",
      "3\n",
      "5\n",
      "7\n",
      "11\n",
      "13\n",
      "17\n",
      "19\n",
      "23\n",
      "29\n",
      "31\n",
      "37\n",
      "41\n",
      "43\n",
      "47\n"
     ]
    }
   ],
   "source": [
    "n = int(input(\"Enter value of n: \"))\n",
    "primes = []\n",
    "for i in range(2, n + 1):\n",
    "    if i not in primes:\n",
    "        print(i)\n",
    "    for j in range(i * i, n + 1, i):\n",
    "        primes.append(j)"
   ]
  },
  {
   "cell_type": "markdown",
   "metadata": {},
   "source": [
    "35. Write a Python program to create a list by concatenating a given list which range goes from 1\n",
    "to n"
   ]
  },
  {
   "cell_type": "code",
   "execution_count": 40,
   "metadata": {},
   "outputs": [
    {
     "name": "stdout",
     "output_type": "stream",
     "text": [
      "Enter the value of n: 5\n",
      "['p1', 'q1', 'p2', 'q2', 'p3', 'q3', 'p4', 'q4', 'p5', 'q5']\n"
     ]
    }
   ],
   "source": [
    "sample = ['p', 'q']\n",
    "n = int(input(\"Enter the value of n: \"))\n",
    "new = []\n",
    "for j in range(1, n + 1):\n",
    "    for i in sample:\n",
    "        new.append(i + str(j)) \n",
    "print(new)"
   ]
  },
  {
   "cell_type": "markdown",
   "metadata": {},
   "source": [
    "36. Write a Python program to get variable unique identification number or string."
   ]
  },
  {
   "cell_type": "code",
   "execution_count": 43,
   "metadata": {},
   "outputs": [
    {
     "name": "stdout",
     "output_type": "stream",
     "text": [
      "94320554980672\n",
      "140204709772208\n"
     ]
    }
   ],
   "source": [
    "n = 10\n",
    "name = 'Shantanu'\n",
    "print(id(n))\n",
    "print(id(name))"
   ]
  },
  {
   "cell_type": "markdown",
   "metadata": {},
   "source": [
    "37. Write a Python program to find common items from two lists"
   ]
  },
  {
   "cell_type": "code",
   "execution_count": 49,
   "metadata": {},
   "outputs": [
    {
     "name": "stdout",
     "output_type": "stream",
     "text": [
      "Enter items of first list separated by ',': 1,2,3,5,6\n",
      "Enter items of second list separated by ',': 1,2,2,3,5\n",
      "['1', '2', '3', '5']\n"
     ]
    }
   ],
   "source": [
    "l1 = input(\"Enter items of first list separated by ',': \").split(',')\n",
    "l2 = input(\"Enter items of second list separated by ',': \").split(',')\n",
    "common = []\n",
    "for i in l1:\n",
    "    for j in l2:\n",
    "        if i == j and i not in common:\n",
    "            common.append(i)\n",
    "print(common)"
   ]
  },
  {
   "cell_type": "markdown",
   "metadata": {},
   "source": [
    "38. Write a Python program to change the position of every n-th value with the (n+1)th in a list."
   ]
  },
  {
   "cell_type": "code",
   "execution_count": 63,
   "metadata": {},
   "outputs": [
    {
     "name": "stdout",
     "output_type": "stream",
     "text": [
      "Enter items of list separated by ',': 0,1,2,3,4,5\n",
      "['1', '0', '3', '2', '5', '4']\n"
     ]
    }
   ],
   "source": [
    "my_list = input(\"Enter items of list separated by ',': \").split(',')\n",
    "for i in range(0, len(my_list) - 1, 2):\n",
    "    j = i + 1\n",
    "    my_list[i], my_list[j] = my_list[j],my_list[i]\n",
    "print(my_list)"
   ]
  },
  {
   "cell_type": "markdown",
   "metadata": {},
   "source": [
    "39. Write a Python program to convert a list of multiple integers into a single integer."
   ]
  },
  {
   "cell_type": "code",
   "execution_count": 67,
   "metadata": {},
   "outputs": [
    {
     "name": "stdout",
     "output_type": "stream",
     "text": [
      "Enter items of list separated by ',': 4,22,55,88,9\n",
      "42255889\n"
     ]
    }
   ],
   "source": [
    "my_list = input(\"Enter items of list separated by ',': \").split(',')\n",
    "new = \"\"\n",
    "for i in my_list:\n",
    "    new += i\n",
    "print(new)"
   ]
  },
  {
   "cell_type": "markdown",
   "metadata": {},
   "source": [
    "40. Write a Python program to split a list based on first character of word."
   ]
  },
  {
   "cell_type": "code",
   "execution_count": 58,
   "metadata": {},
   "outputs": [
    {
     "name": "stdout",
     "output_type": "stream",
     "text": [
      "['hello', 'bye', 'good', 'bad', 'day', 'night', 'sunny', 'rainy', 'yellow', 'blue', 'light', 'dark']\n",
      "[['a'], ['b', 'bye', 'bad', 'blue'], ['c'], ['d', 'day', 'dark'], ['e'], ['f'], ['g', 'good'], ['h', 'hello'], ['i'], ['j'], ['k'], ['l', 'light'], ['m'], ['n', 'night'], ['o'], ['p'], ['q'], ['r', 'rainy'], ['s', 'sunny'], ['t'], ['u'], ['v'], ['x'], ['y', 'yellow'], ['z']]\n"
     ]
    }
   ],
   "source": [
    "sample = ['hello', 'bye', 'good', 'bad', 'day', 'night', 'sunny', 'rainy', 'yellow', 'blue', 'light', 'dark']\n",
    "print(sample)\n",
    "new = []\n",
    "string = 'abcdefghijklmnopqrstuvxyz'\n",
    "for i in string:\n",
    "    new_list = [i]\n",
    "    for j in sample:\n",
    "        if j[0] == i:\n",
    "            new_list.append(j)\n",
    "    else:\n",
    "        new.append(new_list)\n",
    "print(new)        "
   ]
  },
  {
   "cell_type": "markdown",
   "metadata": {},
   "source": [
    "41. Write a Python program to create multiple lists."
   ]
  },
  {
   "cell_type": "code",
   "execution_count": 69,
   "metadata": {},
   "outputs": [
    {
     "name": "stdout",
     "output_type": "stream",
     "text": [
      "[[0], [1], [2], [3], [4], [5], [6], [7], [8], [9], [10], [11], [12], [13], [14], [15], [16], [17], [18], [19], [20], [21], [22], [23], [24], [25], [26], [27], [28], [29], [30], [31], [32], [33], [34], [35], [36], [37], [38], [39], [40], [41], [42], [43], [44], [45], [46], [47], [48], [49], [50], [51], [52], [53], [54], [55], [56], [57], [58], [59], [60], [61], [62], [63], [64], [65], [66], [67], [68], [69], [70], [71], [72], [73], [74], [75], [76], [77], [78], [79], [80], [81], [82], [83], [84], [85], [86], [87], [88], [89], [90], [91], [92], [93], [94], [95], [96], [97], [98], [99], [100]]\n"
     ]
    }
   ],
   "source": [
    "my_list = []\n",
    "for i in range(101):\n",
    "    my_list.append([i])\n",
    "print(my_list)"
   ]
  },
  {
   "cell_type": "markdown",
   "metadata": {},
   "source": [
    "42. Write a Python program to find missing and additional values in two lists."
   ]
  },
  {
   "cell_type": "code",
   "execution_count": 75,
   "metadata": {},
   "outputs": [
    {
     "name": "stdout",
     "output_type": "stream",
     "text": [
      "Enter elements of first list separated by spacea  b c d e f g\n",
      "Enter elements of second list separated by spacee f g h i j\n",
      "['a', 'b', 'c', 'd', 'e', 'f', 'g']\n",
      "['e', 'f', 'g', 'h', 'i', 'j']\n",
      "Missing values in second list: ['a', 'b', 'c', 'd']\n",
      "Additional values in second list: ['h', 'i', 'j']\n"
     ]
    }
   ],
   "source": [
    "l1 = input(\"Enter elements of first list separated by space\").split()\n",
    "l2 = input(\"Enter elements of second list separated by space\").split()\n",
    "print(l1)\n",
    "print(l2)\n",
    "additional = []\n",
    "missing = []\n",
    "for i in l1:\n",
    "    for j in l2:\n",
    "        if i != j and j not in l1 and j not in additional:\n",
    "            additional.append(j)\n",
    "        elif i != j and i not in l2 and i not in missing:\n",
    "            missing.append(i)\n",
    "print(\"Missing values in second list:\", missing)\n",
    "print(\"Additional values in second list:\", additional)"
   ]
  },
  {
   "cell_type": "markdown",
   "metadata": {},
   "source": [
    "43. Write a Python program to split a list into different variables."
   ]
  },
  {
   "cell_type": "code",
   "execution_count": 61,
   "metadata": {},
   "outputs": [
    {
     "name": "stdout",
     "output_type": "stream",
     "text": [
      "('s', 'h', 'a', 'n', 't', 'a', 'n', 'u')\n",
      "('s', 'a', 'c', 'h', 'i', 'n')\n",
      "('d', 'i', 'x', 'i', 't')\n"
     ]
    }
   ],
   "source": [
    "name = [('s', 'h', 'a', 'n', 't', 'a', 'n', 'u'), ('s', 'a', 'c', 'h', 'i', 'n'), ('d', 'i', 'x', 'i', 't')]\n",
    "n1, n2, n3 = name\n",
    "print(n1)\n",
    "print(n2)\n",
    "print(n3)"
   ]
  },
  {
   "cell_type": "markdown",
   "metadata": {},
   "source": [
    "44. Write a Python program to generate groups of five consecutive numbers in a list."
   ]
  },
  {
   "cell_type": "code",
   "execution_count": 81,
   "metadata": {
    "scrolled": true
   },
   "outputs": [
    {
     "name": "stdout",
     "output_type": "stream",
     "text": [
      "[[1, 2, 3, 4, 5], [6, 7, 8, 9, 10], [11, 12, 13, 14, 15], [16, 17, 18, 19, 20], [21, 22, 23, 24, 25]]\n"
     ]
    }
   ],
   "source": [
    "my_list = [[5 * i + j for j in range(1, 6)] for i in range(5)]\n",
    "print(my_list)"
   ]
  },
  {
   "cell_type": "markdown",
   "metadata": {},
   "source": [
    "45. Write a Python program to convert a pair of values into a sorted unique array."
   ]
  },
  {
   "cell_type": "code",
   "execution_count": 47,
   "metadata": {},
   "outputs": [
    {
     "name": "stdout",
     "output_type": "stream",
     "text": [
      "[4, 2, 98, 78, 56, 32, 1, 6, 74]\n"
     ]
    }
   ],
   "source": [
    "my_list = [(4, 2), (98, 78), (4, 56), (32, 1), (4, 4), (1, 6), (4, 74)]\n",
    "new = []\n",
    "for i in my_list:\n",
    "    if i[0] not in new:\n",
    "        new.append(i[0])\n",
    "    if i[1] not in new:\n",
    "        new.append(i[1])\n",
    "print(new)"
   ]
  },
  {
   "cell_type": "markdown",
   "metadata": {},
   "source": [
    "46. Write a Python program to select the odd items of a list."
   ]
  },
  {
   "cell_type": "code",
   "execution_count": 38,
   "metadata": {},
   "outputs": [
    {
     "name": "stdout",
     "output_type": "stream",
     "text": [
      "['s', 'h', 'a', 'n', 't', 'a', 'n', 'u']\n",
      "['h', 'n', 'a', 'u']\n"
     ]
    }
   ],
   "source": [
    "char_list = ['s', 'h', 'a', 'n', 't', 'a', 'n', 'u']\n",
    "print(char_list)\n",
    "new = []\n",
    "for i in range(len(char_list)):\n",
    "    if i % 2 != 0:\n",
    "         new.append(char_list[i])\n",
    "print(new)"
   ]
  },
  {
   "cell_type": "markdown",
   "metadata": {},
   "source": [
    "47. Write a Python program to insert an element before each element of a list."
   ]
  },
  {
   "cell_type": "code",
   "execution_count": 36,
   "metadata": {},
   "outputs": [
    {
     "name": "stdout",
     "output_type": "stream",
     "text": [
      "['s', 'h', 'a', 'n', 't', 'a', 'n', 'u']\n",
      "Enter a char: 10\n",
      "['10s', '10h', '10a', '10n', '10t', '10a', '10n', '10u']\n"
     ]
    }
   ],
   "source": [
    "char_list = ['s', 'h', 'a', 'n', 't', 'a', 'n', 'u']\n",
    "print(char_list)\n",
    "element = input(\"Enter a char: \")\n",
    "new = []\n",
    "for i in char_list:\n",
    "    new.append(element + i)\n",
    "print(new)"
   ]
  },
  {
   "cell_type": "markdown",
   "metadata": {},
   "source": [
    "48. Write a\n",
    "Python program to print a nested lists (each list on a new line) using the print() function."
   ]
  },
  {
   "cell_type": "code",
   "execution_count": 32,
   "metadata": {},
   "outputs": [
    {
     "name": "stdout",
     "output_type": "stream",
     "text": [
      "[[1, 2, 3, 4, 5], [6, 7, 8, 9, 10], [11, 12, 13, 14, 15], [16, 17, 18, 19, 20], [21, 22, 23, 24, 25]]\n",
      "Each list on new line: \n",
      "[1, 2, 3, 4, 5]\n",
      "[6, 7, 8, 9, 10]\n",
      "[11, 12, 13, 14, 15]\n",
      "[16, 17, 18, 19, 20]\n",
      "[21, 22, 23, 24, 25]\n"
     ]
    }
   ],
   "source": [
    "my_list = [[5 * i + j for j in range(1, 6)] for i in range(5)]\n",
    "print(my_list)\n",
    "print(\"Each list on new line: \")\n",
    "for i in my_list:\n",
    "    print(i)"
   ]
  },
  {
   "cell_type": "markdown",
   "metadata": {},
   "source": [
    "49. Write a Python program to convert list to list of dictionaries."
   ]
  },
  {
   "cell_type": "code",
   "execution_count": 29,
   "metadata": {},
   "outputs": [
    {
     "name": "stdout",
     "output_type": "stream",
     "text": [
      "[{'color_name': 'Black', 'color_code': '#000000'}, {'color_name': 'Red', 'color_code': '#FF0000'}, {'color_name': 'Maroon', 'color_code': '#800000'}, {'color_name': 'Yellow', 'color_code': '#FFFF00'}]\n"
     ]
    }
   ],
   "source": [
    "l1 = [\"Black\", \"Red\", \"Maroon\", \"Yellow\"]\n",
    "l2 = [\"#000000\", \"#FF0000\", \"#800000\", \"#FFFF00\"]\n",
    "new = []\n",
    "for i, j in zip(l1, l2):\n",
    "    new_dict = {'color_name': i, 'color_code': j}\n",
    "    new.append(new_dict)\n",
    "print(new)"
   ]
  },
  {
   "cell_type": "markdown",
   "metadata": {},
   "source": [
    "50. Write a Python program to sort a list of nested dictionaries."
   ]
  },
  {
   "cell_type": "code",
   "execution_count": null,
   "metadata": {},
   "outputs": [],
   "source": []
  },
  {
   "cell_type": "markdown",
   "metadata": {},
   "source": [
    "51. Write a Python program to split a list every Nth element."
   ]
  },
  {
   "cell_type": "code",
   "execution_count": 102,
   "metadata": {},
   "outputs": [
    {
     "name": "stdout",
     "output_type": "stream",
     "text": [
      "['a', 'b', 'c', 'd', 'e', 'f', 'g', 'h', 'i', 'j', 'k', 'l', 'm', 'n']\n",
      "Enter the value of n: 3\n",
      "[['a', 'b', 'c'], ['d', 'e', 'f'], ['g', 'h', 'i'], ['j', 'k', 'l'], ['m', 'n']]\n"
     ]
    }
   ],
   "source": [
    "sample = ['a', 'b', 'c', 'd', 'e', 'f', 'g', 'h', 'i', 'j', 'k', 'l', 'm', 'n']\n",
    "print(sample)\n",
    "new_list = []\n",
    "my_list = []\n",
    "count = 0\n",
    "n = int(input(\"Enter the value of n: \"))\n",
    "for i in range(len(sample)):\n",
    "    count += 1\n",
    "    my_list.append(sample[i])\n",
    "    if count > 2:\n",
    "        count = 0\n",
    "        new_list.append(my_list)\n",
    "        my_list = []\n",
    "else:\n",
    "    new_list.append(my_list)\n",
    "print(new_list)"
   ]
  },
  {
   "cell_type": "markdown",
   "metadata": {},
   "source": [
    "52. Write a Python program to compute the similarity between two lists."
   ]
  },
  {
   "cell_type": "code",
   "execution_count": 26,
   "metadata": {},
   "outputs": [
    {
     "name": "stdout",
     "output_type": "stream",
     "text": [
      "Sample1 - Sample2 = ['red', 'orange', 'white']\n",
      "Sample2 - Sample1 = ['black', 'yellow']\n"
     ]
    }
   ],
   "source": [
    "sample1 = [\"red\", \"orange\", \"green\", \"blue\", \"white\"]\n",
    "sample2 = [\"black\", \"yellow\", \"green\", \"blue\"]\n",
    "inotinj = []\n",
    "jnotini = []\n",
    "for i in sample1:\n",
    "    for j in sample2:\n",
    "        if i not in sample2 and i not in inotinj:\n",
    "            inotinj.append(i)\n",
    "        if j not in sample1 and j not in jnotini:\n",
    "            jnotini.append(j)\n",
    "print(\"Sample1 - Sample2 =\", inotinj)\n",
    "print(\"Sample2 - Sample1 =\", jnotini)"
   ]
  },
  {
   "cell_type": "markdown",
   "metadata": {},
   "source": [
    "53. Write a Python program to create a list with infinite elements."
   ]
  },
  {
   "cell_type": "code",
   "execution_count": 26,
   "metadata": {},
   "outputs": [
    {
     "ename": "KeyboardInterrupt",
     "evalue": "",
     "output_type": "error",
     "traceback": [
      "\u001b[0;31m---------------------------------------------------------------------------\u001b[0m",
      "\u001b[0;31mKeyboardInterrupt\u001b[0m                         Traceback (most recent call last)",
      "\u001b[0;32m<ipython-input-26-96957d5c7f71>\u001b[0m in \u001b[0;36m<module>\u001b[0;34m\u001b[0m\n\u001b[1;32m      1\u001b[0m \u001b[0mmy_list\u001b[0m \u001b[0;34m=\u001b[0m \u001b[0;34m[\u001b[0m\u001b[0;34m]\u001b[0m\u001b[0;34m\u001b[0m\u001b[0;34m\u001b[0m\u001b[0m\n\u001b[1;32m      2\u001b[0m \u001b[0;32mwhile\u001b[0m \u001b[0;32mTrue\u001b[0m\u001b[0;34m:\u001b[0m\u001b[0;34m\u001b[0m\u001b[0;34m\u001b[0m\u001b[0m\n\u001b[0;32m----> 3\u001b[0;31m     \u001b[0mmy_list\u001b[0m\u001b[0;34m.\u001b[0m\u001b[0mappend\u001b[0m\u001b[0;34m(\u001b[0m\u001b[0;36m1\u001b[0m\u001b[0;34m)\u001b[0m\u001b[0;34m\u001b[0m\u001b[0;34m\u001b[0m\u001b[0m\n\u001b[0m\u001b[1;32m      4\u001b[0m \u001b[0mprint\u001b[0m\u001b[0;34m(\u001b[0m\u001b[0mmy_list\u001b[0m\u001b[0;34m)\u001b[0m\u001b[0;34m\u001b[0m\u001b[0;34m\u001b[0m\u001b[0m\n",
      "\u001b[0;31mKeyboardInterrupt\u001b[0m: "
     ]
    }
   ],
   "source": [
    "my_list = []\n",
    "while True:\n",
    "    my_list.append(1)\n",
    "print(my_list)"
   ]
  },
  {
   "cell_type": "markdown",
   "metadata": {},
   "source": [
    "54. Write a Python program to concatenate elements of a list."
   ]
  },
  {
   "cell_type": "code",
   "execution_count": 17,
   "metadata": {},
   "outputs": [
    {
     "name": "stdout",
     "output_type": "stream",
     "text": [
      "Enter the elements of the list separated by space: a d g dfg try qwe h\n",
      "['a', 'd', 'g', 'dfg', 'try', 'qwe', 'h']\n",
      "['adgdfgtryqweh']\n"
     ]
    }
   ],
   "source": [
    "my_list = input(\"Enter the elements of the list separated by space: \").split()\n",
    "print(my_list)\n",
    "new = \"\"\n",
    "for i in my_list:\n",
    "    new += i\n",
    "my_list = [new]\n",
    "print(my_list)"
   ]
  },
  {
   "cell_type": "markdown",
   "metadata": {},
   "source": [
    "55. Write a Python program to remove key values pairs from a list of dictionaries."
   ]
  },
  {
   "cell_type": "code",
   "execution_count": 16,
   "metadata": {},
   "outputs": [
    {
     "name": "stdout",
     "output_type": "stream",
     "text": [
      "[{'a': 1}, {'b': 2}, {'c': 3}, {'d': 4}, {'e': 5}]\n",
      "Enter the index: 2\n",
      "[{'a': 1}, {'b': 2}, {'d': 4}, {'e': 5}]\n"
     ]
    }
   ],
   "source": [
    "my_list = [{\"a\":1}, {\"b\":2}, {\"c\":3}, {\"d\":4}, {'e':5}]\n",
    "print(my_list)\n",
    "n = int(input(\"Enter the index: \"))\n",
    "my_list.remove(my_list[n])\n",
    "print(my_list)"
   ]
  },
  {
   "cell_type": "markdown",
   "metadata": {},
   "source": [
    "56. Write a Python program to convert a string to a list."
   ]
  },
  {
   "cell_type": "code",
   "execution_count": 12,
   "metadata": {},
   "outputs": [
    {
     "name": "stdout",
     "output_type": "stream",
     "text": [
      "Enter a string: aldkjs\n",
      "['a', 'l', 'd', 'k', 'j', 's']\n"
     ]
    }
   ],
   "source": [
    "string = input(\"Enter a string: \")\n",
    "new = list(string)\n",
    "print(new)"
   ]
  },
  {
   "cell_type": "markdown",
   "metadata": {},
   "source": [
    "57. Write a Python program to check if all items of a list is equal to a given string."
   ]
  },
  {
   "cell_type": "code",
   "execution_count": 11,
   "metadata": {},
   "outputs": [
    {
     "name": "stdout",
     "output_type": "stream",
     "text": [
      "Enter a string: sdeatquplfhvz\n",
      "All items of a list are equal to the string\n"
     ]
    }
   ],
   "source": [
    "my_list = ['s', 'd', 'e', 'a', 't', 'q', 'u', 'p', 'l', 'f', 'h', 'v', 'z']\n",
    "string = input(\"Enter a string: \")\n",
    "new = \"\"\n",
    "for i in my_list:\n",
    "    new += i\n",
    "if new == string:\n",
    "    print(\"All items of a list are equal to the string\")\n",
    "else:\n",
    "    print(\"All items of a list are not equal to the string\")"
   ]
  },
  {
   "cell_type": "markdown",
   "metadata": {},
   "source": [
    "58. Write a Python program to replace the last element in a list with another list."
   ]
  },
  {
   "cell_type": "code",
   "execution_count": 7,
   "metadata": {},
   "outputs": [
    {
     "name": "stdout",
     "output_type": "stream",
     "text": [
      "[54, 54, 52, 8, 66, 4, 8, 52, 14, 14, 56, 32, 30, 85, 78, 85, 94]\n",
      "[54, 54, 52, 8, 66, 4, 8, 52, 14, 14, 56, 32, 30, 85, 78, 85, 85, 78, 25, 94, 98]\n"
     ]
    }
   ],
   "source": [
    "new_list = [54, 54, 52, 8, 66, 4, 8, 52, 14, 14, 56, 32, 30, 85, 78, 85, 94]\n",
    "print(new_list)\n",
    "sample_list = [85, 78, 25, 94, 98]\n",
    "new_list.remove(new_list[len(new_list) - 1])\n",
    "new_list.extend(sample_list)\n",
    "print(new_list)"
   ]
  },
  {
   "cell_type": "markdown",
   "metadata": {},
   "source": [
    "59. Write a Python program to check if the n-th element exists in a given list."
   ]
  },
  {
   "cell_type": "code",
   "execution_count": 4,
   "metadata": {},
   "outputs": [
    {
     "name": "stdout",
     "output_type": "stream",
     "text": [
      "[54, 54, 52, 8, 66, 4, 8, 52, 14, 14, 56, 32, 30, 85, 78, 85, 94]\n",
      "Enter the value of n:27\n",
      "does not exist\n"
     ]
    }
   ],
   "source": [
    "new_list = [54, 54, 52, 8, 66, 4, 8, 52, 14, 14, 56, 32, 30, 85, 78, 85, 94]\n",
    "print(new_list)\n",
    "n = int(input(\"Enter the value of n:\"))\n",
    "if n >= len(new_list):\n",
    "    print(\"does not exist\")\n",
    "else:\n",
    "    print(new_list[n], \"is the\", n,\"th element\")"
   ]
  },
  {
   "cell_type": "markdown",
   "metadata": {},
   "source": [
    "60. Write a Python program to find a tuple, the smallest second index value from a list of tuples."
   ]
  },
  {
   "cell_type": "code",
   "execution_count": 21,
   "metadata": {},
   "outputs": [
    {
     "name": "stdout",
     "output_type": "stream",
     "text": [
      "(32, 1)\n"
     ]
    }
   ],
   "source": [
    "my_list = [(4, 2), (98, 78), (4, 56), (32, 1), (4, 4), (1, 6), (4, 74)]\n",
    "smallest = my_list[0][1]\n",
    "for i in range(1 ,len(my_list)):\n",
    "    if my_list[i][1] < smallest:\n",
    "        smallest = my_list[i][1]\n",
    "        ind = i\n",
    "print(my_list[ind])"
   ]
  },
  {
   "cell_type": "markdown",
   "metadata": {},
   "source": [
    "61. Write a Python program to create a list of empty dictionaries."
   ]
  },
  {
   "cell_type": "code",
   "execution_count": 143,
   "metadata": {},
   "outputs": [
    {
     "name": "stdout",
     "output_type": "stream",
     "text": [
      "[{}, {}, {}, {}, {}, {}, {}, {}, {}, {}, {}]\n"
     ]
    }
   ],
   "source": [
    "my_list = []\n",
    "for i in range(11):\n",
    "    my_list.append({})\n",
    "print(my_list)"
   ]
  },
  {
   "cell_type": "markdown",
   "metadata": {},
   "source": [
    "62. Write a Python program to print a list of space-separated elements."
   ]
  },
  {
   "cell_type": "code",
   "execution_count": 140,
   "metadata": {},
   "outputs": [
    {
     "name": "stdout",
     "output_type": "stream",
     "text": [
      "Enter elements of the list separated by space: s h a n t a n u\n",
      "['s', 'h', 'a', 'n', 't', 'a', 'n', 'u']\n",
      "s h a n t a n u \n"
     ]
    }
   ],
   "source": [
    "my_list = input(\"Enter elements of the list separated by space: \").split()\n",
    "print(my_list)\n",
    "new = \"\"\n",
    "for i in my_list:\n",
    "    new += i + \" \"\n",
    "print(new)"
   ]
  },
  {
   "cell_type": "markdown",
   "metadata": {},
   "source": [
    "63. Write a Python program to insert a given string at the beginning of all items in a list."
   ]
  },
  {
   "cell_type": "code",
   "execution_count": 137,
   "metadata": {},
   "outputs": [
    {
     "name": "stdout",
     "output_type": "stream",
     "text": [
      "Enter a string: staff\n",
      "['staff85', 'staff78', 'staff25', 'staff94', 'staff98']\n"
     ]
    }
   ],
   "source": [
    "sample_list = [85, 78, 25, 94, 98]\n",
    "string = input(\"Enter a string: \")\n",
    "for i in range(len(sample_list)):\n",
    "    sample_list[i] = string + str(sample_list[i])\n",
    "print(sample_list)"
   ]
  },
  {
   "cell_type": "markdown",
   "metadata": {},
   "source": [
    "64. Write a Python program to iterate over two lists simultaneously."
   ]
  },
  {
   "cell_type": "code",
   "execution_count": 134,
   "metadata": {},
   "outputs": [
    {
     "name": "stdout",
     "output_type": "stream",
     "text": [
      "14 85\n",
      "14 78\n",
      "56 85\n",
      "32 94\n",
      "30 98\n"
     ]
    }
   ],
   "source": [
    "new_list = [14, 14, 56, 32, 30]\n",
    "sample_list = [85, 78, 85, 94, 98]\n",
    "for i, j in zip(new_list, sample_list):\n",
    "    print(i, j)"
   ]
  },
  {
   "cell_type": "markdown",
   "metadata": {},
   "source": [
    "65. Write a Python program to access dictionary keys element by index."
   ]
  },
  {
   "cell_type": "code",
   "execution_count": 129,
   "metadata": {},
   "outputs": [
    {
     "name": "stdout",
     "output_type": "stream",
     "text": [
      "{'a': 1, 'b': 2, 'c': 3, 'd': 4, 'e': 5}\n",
      "a\n",
      "b\n",
      "c\n",
      "d\n",
      "e\n"
     ]
    }
   ],
   "source": [
    "my_dict = {\"a\":1, \"b\":2, \"c\":3, \"d\":4, 'e':5}\n",
    "print(my_dict)\n",
    "for i in my_dict.keys():\n",
    "    print(i)"
   ]
  },
  {
   "cell_type": "markdown",
   "metadata": {},
   "source": [
    "66. Write a Python program to find the list in a list of lists whose sum of elements is the\n",
    "highest."
   ]
  },
  {
   "cell_type": "code",
   "execution_count": 124,
   "metadata": {},
   "outputs": [
    {
     "name": "stdout",
     "output_type": "stream",
     "text": [
      "[[10, 20], [40], [30, -56, 25], [10, 20], [33], [40]]\n",
      "Sum of list: [40] is highest\n"
     ]
    }
   ],
   "source": [
    "sample_list = [[10, 20], [40],[30, -56, 25], [10, 20], [33], [40]]\n",
    "print(sample_list)\n",
    "max_sum = 0\n",
    "for i in sample_list:\n",
    "    if sum(i) > max_sum:\n",
    "        max_sum = sum(i)\n",
    "        ind = sample_list.index(i)\n",
    "print(\"Sum of list:\", sample_list[ind], \"is highest\")"
   ]
  },
  {
   "cell_type": "markdown",
   "metadata": {},
   "source": [
    "67. Write a Python program to find all the values in a list are greater than a specified number."
   ]
  },
  {
   "cell_type": "code",
   "execution_count": 117,
   "metadata": {},
   "outputs": [
    {
     "name": "stdout",
     "output_type": "stream",
     "text": [
      "[54, 54, 52, 8, 66, 4, 8, 52, 14, 14, 56, 32, 30, 85, 78, 85, 94]\n",
      "Enter the value of n: 45\n",
      "[54, 52, 66, 56, 85, 78, 94]\n"
     ]
    }
   ],
   "source": [
    "new_list = [54, 54, 52, 8, 66, 4, 8, 52, 14, 14, 56, 32, 30, 85, 78, 85, 94]\n",
    "print(new_list)\n",
    "n = int(input(\"Enter the value of n: \"))\n",
    "greater = []\n",
    "for i in new_list:\n",
    "    if i > n and i not in greater:\n",
    "        greater.append(i)\n",
    "print(greater)"
   ]
  },
  {
   "cell_type": "markdown",
   "metadata": {},
   "source": [
    "68. Write a Python program to extend a list without append."
   ]
  },
  {
   "cell_type": "code",
   "execution_count": 115,
   "metadata": {},
   "outputs": [
    {
     "name": "stdout",
     "output_type": "stream",
     "text": [
      "[10, 20, 30, 40, 50, 60]\n"
     ]
    }
   ],
   "source": [
    "sample_list = [[10, 20, 30], [40, 50, 60]]\n",
    "new = []\n",
    "for i in range(len(sample_list)):\n",
    "    for j in range(len(sample_list[i])):\n",
    "        new.extend([sample_list[i][j]]) \n",
    "print(new)"
   ]
  },
  {
   "cell_type": "markdown",
   "metadata": {},
   "source": [
    "69. Write a Python program to remove duplicates from a list of lists."
   ]
  },
  {
   "cell_type": "code",
   "execution_count": 94,
   "metadata": {},
   "outputs": [
    {
     "name": "stdout",
     "output_type": "stream",
     "text": [
      "[[10, 20], [40], [30, 56, 25], [10, 20], [33], [40]]\n",
      "[[10, 20], [40], [30, 56, 25], [33]]\n"
     ]
    }
   ],
   "source": [
    "sample_list = [[10, 20], [40],[30, 56, 25], [10, 20], [33], [40]]\n",
    "print(sample_list)\n",
    "new = []\n",
    "for i in range(len(sample_list)):\n",
    "    for j in range(i + 1, len(sample_list)):\n",
    "        if i != j and sample_list[i] not in new:\n",
    "            new.append(sample_list[i])\n",
    "print(new)"
   ]
  },
  {
   "cell_type": "markdown",
   "metadata": {},
   "source": [
    "70. Write a Python program to get the depth of a dictionary."
   ]
  },
  {
   "cell_type": "code",
   "execution_count": null,
   "metadata": {},
   "outputs": [],
   "source": []
  },
  {
   "cell_type": "markdown",
   "metadata": {},
   "source": [
    "71. Write a Python program to check if all dictionaries in a list are empty or not."
   ]
  },
  {
   "cell_type": "code",
   "execution_count": 89,
   "metadata": {},
   "outputs": [
    {
     "name": "stdout",
     "output_type": "stream",
     "text": [
      "false\n"
     ]
    }
   ],
   "source": [
    "sample_list = [{1,2}, {}, {}]\n",
    "flag = 0\n",
    "for i in range(len(sample_list)):\n",
    "    if not sample_list[i]:\n",
    "        continue\n",
    "    else:\n",
    "        break\n",
    "else:\n",
    "    flag = 1\n",
    "if flag:\n",
    "    print(\"true\")\n",
    "else:\n",
    "    print(\"false\")"
   ]
  }
 ],
 "metadata": {
  "kernelspec": {
   "display_name": "Python 3",
   "language": "python",
   "name": "python3"
  },
  "language_info": {
   "codemirror_mode": {
    "name": "ipython",
    "version": 3
   },
   "file_extension": ".py",
   "mimetype": "text/x-python",
   "name": "python",
   "nbconvert_exporter": "python",
   "pygments_lexer": "ipython3",
   "version": "3.8.5"
  }
 },
 "nbformat": 4,
 "nbformat_minor": 2
}
