{
 "cells": [
  {
   "cell_type": "markdown",
   "metadata": {},
   "source": [
    "1. Write a Python program to calculate the length of a string."
   ]
  },
  {
   "cell_type": "code",
   "execution_count": 2,
   "metadata": {},
   "outputs": [
    {
     "name": "stdout",
     "output_type": "stream",
     "text": [
      "Enter a string: Shantanu\n",
      "lenth is 8\n"
     ]
    }
   ],
   "source": [
    "print(\"lenth is\", len(input(\"Enter a string: \")))"
   ]
  },
  {
   "cell_type": "markdown",
   "metadata": {},
   "source": [
    "2. Check if given string is palindrome."
   ]
  },
  {
   "cell_type": "code",
   "execution_count": 6,
   "metadata": {},
   "outputs": [
    {
     "name": "stdout",
     "output_type": "stream",
     "text": [
      "Enter a word: hello\n",
      "Palindrome: False\n"
     ]
    }
   ],
   "source": [
    "word = input(\"Enter a word: \")\n",
    "reversed_word = \"\"\n",
    "for i in range(len(word) - 1, -1, -1):\n",
    "    reversed_word += word[i]\n",
    "print(\"Palindrome:\", reversed_word == word)"
   ]
  },
  {
   "cell_type": "markdown",
   "metadata": {},
   "source": [
    "3. Write a Python program to get a string made of the first 2 and the last 2 chars from a\n",
    "given a string. If the string length is less than 2, return instead of the empty string."
   ]
  },
  {
   "cell_type": "code",
   "execution_count": 121,
   "metadata": {},
   "outputs": [
    {
     "name": "stdout",
     "output_type": "stream",
     "text": [
      "Enter a string: 12asdadasd34\n",
      "1234\n"
     ]
    }
   ],
   "source": [
    "string = input(\"Enter a string: \")\n",
    "if len(string) < 3:\n",
    "    print(string)\n",
    "else:\n",
    "    new_str = \"\" \n",
    "    new_str += string[:2]  \n",
    "    new_str += string[-2:]\n",
    "    print(new_str)"
   ]
  },
  {
   "cell_type": "markdown",
   "metadata": {},
   "source": [
    "4. Write a Python program to get a string from a given string where all occurrences of its\n",
    "first char have been changed to '$', except the first char itself."
   ]
  },
  {
   "cell_type": "code",
   "execution_count": 20,
   "metadata": {},
   "outputs": [
    {
     "name": "stdout",
     "output_type": "stream",
     "text": [
      "Enter a string: restart\n",
      "resta$t\n"
     ]
    }
   ],
   "source": [
    "string = input(\"Enter a string: \").lower()\n",
    "hold = string[0]\n",
    "new_str = hold\n",
    "for i in string[1:]:\n",
    "    if i == hold:\n",
    "        new_str += \"$\"\n",
    "    else:\n",
    "        new_str += i\n",
    "print(new_str)"
   ]
  },
  {
   "cell_type": "markdown",
   "metadata": {},
   "source": [
    "5. Write a Python program to get a single string from two given strings, separated by a\n",
    "space and swap the first two characters of each string."
   ]
  },
  {
   "cell_type": "code",
   "execution_count": 2,
   "metadata": {},
   "outputs": [
    {
     "name": "stdout",
     "output_type": "stream",
     "text": [
      "Enter first string: abc\n",
      "Enter second string: xyz\n",
      "xbc ayz\n"
     ]
    }
   ],
   "source": [
    "string1 = input(\"Enter first string: \")\n",
    "string2 = input(\"Enter second string: \")\n",
    "new_str = string2[0] + string1[1:] + \" \" + string1[0] + string2[1:]\n",
    "print(new_str)"
   ]
  },
  {
   "cell_type": "markdown",
   "metadata": {},
   "source": [
    "6. Write a Python program to add 'ing' at the end of a given string (length should be at least\n",
    "3). If the given string already ends with 'ing' then add 'ly' instead. If the string length of\n",
    "the given string is less than 3, leave it unchanged."
   ]
  },
  {
   "cell_type": "code",
   "execution_count": 15,
   "metadata": {},
   "outputs": [
    {
     "name": "stdout",
     "output_type": "stream",
     "text": [
      "Enter a string: string\n",
      "stringly\n"
     ]
    }
   ],
   "source": [
    "string = input(\"Enter a string: \")\n",
    "if len(string) < 3:\n",
    "    pass\n",
    "elif string[-3:] == 'ing':\n",
    "    string += 'ly'\n",
    "else:\n",
    "    string += 'ing'\n",
    "print(string)"
   ]
  },
  {
   "cell_type": "markdown",
   "metadata": {},
   "source": [
    "7. Write a Python program to find the first appearance of the substring 'not' and 'poor' from\n",
    "a given string, if 'bad' follows the 'poor', replace the whole 'not'...'poor' substring with\n",
    "'good'. Return the resulting string."
   ]
  },
  {
   "cell_type": "code",
   "execution_count": 81,
   "metadata": {},
   "outputs": [
    {
     "name": "stdout",
     "output_type": "stream",
     "text": [
      "Enter a string: The music is not that bad\n",
      "The music is good\n"
     ]
    }
   ],
   "source": [
    "def func(string):\n",
    "    pos_not = string.find('not')\n",
    "    pos_poor = string.find('poor')\n",
    "    pos_bad = string.find('bad')\n",
    "    if pos_not < pos_poor or pos_not < pos_bad:\n",
    "        return string[: pos_not] + \"good\"\n",
    "    else:\n",
    "        return string\n",
    "print(func(input(\"Enter a string: \")))"
   ]
  },
  {
   "cell_type": "markdown",
   "metadata": {},
   "source": [
    "8. Write a Python function that takes a list of words and returns the length of the longest\n",
    "one."
   ]
  },
  {
   "cell_type": "code",
   "execution_count": 19,
   "metadata": {},
   "outputs": [
    {
     "name": "stdout",
     "output_type": "stream",
     "text": [
      "Enter list of words separated by comma: Shantanu,Sachin,Dixit\n",
      "The length of the biggest word is:  8\n"
     ]
    }
   ],
   "source": [
    "word = input(\"Enter list of words separated by comma: \")\n",
    "words = word.split(',')\n",
    "max_len = 0\n",
    "for i in words:\n",
    "    if max_len < len(i):\n",
    "        max_len = len(i)\n",
    "else:\n",
    "    print(\"The length of the biggest word is: \", max_len)"
   ]
  },
  {
   "cell_type": "markdown",
   "metadata": {},
   "source": [
    "9. Write a Python program to remove the n th index character from a nonempty string."
   ]
  },
  {
   "cell_type": "code",
   "execution_count": 23,
   "metadata": {},
   "outputs": [
    {
     "name": "stdout",
     "output_type": "stream",
     "text": [
      "Enter a string: ShantanuD\n",
      "Shantanu\n"
     ]
    }
   ],
   "source": [
    "string = input(\"Enter a string: \")\n",
    "string = string[: -1]\n",
    "print(string)"
   ]
  },
  {
   "cell_type": "markdown",
   "metadata": {},
   "source": [
    "10. Write a Python program to change a given string to a new string where the first and last\n",
    "chars have been exchanged."
   ]
  },
  {
   "cell_type": "code",
   "execution_count": 24,
   "metadata": {},
   "outputs": [
    {
     "name": "stdout",
     "output_type": "stream",
     "text": [
      "Enter a string: Shantanu\n",
      "uhantanS\n"
     ]
    }
   ],
   "source": [
    "string = input(\"Enter a string: \")\n",
    "first, last = string[-1], string[0]\n",
    "string = string[1:]\n",
    "string = string[: -1]\n",
    "string = first + string + last\n",
    "print(string)"
   ]
  },
  {
   "cell_type": "markdown",
   "metadata": {},
   "source": [
    "11. Write a Python program to remove the characters which have odd index values of a\n",
    "given string."
   ]
  },
  {
   "cell_type": "code",
   "execution_count": 30,
   "metadata": {},
   "outputs": [
    {
     "name": "stdout",
     "output_type": "stream",
     "text": [
      "Enter a string: Shantanu\n",
      "Satn\n"
     ]
    }
   ],
   "source": [
    "string = input(\"Enter a string: \")\n",
    "new_str = ''\n",
    "for i in range(len(string)):\n",
    "    if i % 2 == 0:\n",
    "        new_str += string[i]\n",
    "print(new_str)"
   ]
  },
  {
   "cell_type": "markdown",
   "metadata": {},
   "source": [
    "12. Write a Python program to count the occurrences of each word in a given sentence."
   ]
  },
  {
   "cell_type": "code",
   "execution_count": 43,
   "metadata": {},
   "outputs": [
    {
     "name": "stdout",
     "output_type": "stream",
     "text": [
      "Enter a sentence: hello bye bye hello bye bye bye bye hello\n",
      "hello has occured 3 times\n",
      "bye has occured 6 times\n"
     ]
    }
   ],
   "source": [
    "sentence = input(\"Enter a sentence: \")\n",
    "word = sentence.split()\n",
    "word_count = {}\n",
    "for i in word:\n",
    "    if i in word_count:\n",
    "        word_count[i] += 1\n",
    "    else:\n",
    "        word_count[i] = 1\n",
    "for i in word_count:\n",
    "    print(i, \"has occured\", word_count[i], \"times\")"
   ]
  },
  {
   "cell_type": "markdown",
   "metadata": {},
   "source": [
    "13. Write a Python script that takes input from the user and displays that input back in upper\n",
    "and lower cases."
   ]
  },
  {
   "cell_type": "code",
   "execution_count": 46,
   "metadata": {},
   "outputs": [
    {
     "name": "stdout",
     "output_type": "stream",
     "text": [
      "Enter a string: Shantanu\n",
      "Upper case: SHANTANU \n",
      "Lower case: shantanu\n"
     ]
    }
   ],
   "source": [
    "string = input(\"Enter a string: \")\n",
    "print(\"Upper case:\", string.upper(), \"\\nLower case:\", string.lower())"
   ]
  },
  {
   "cell_type": "markdown",
   "metadata": {},
   "source": [
    "14. Write a Python program that accepts a comma separated sequence of words as input and\n",
    "prints the unique words in sorted form (alphanumerically)."
   ]
  },
  {
   "cell_type": "code",
   "execution_count": 55,
   "metadata": {},
   "outputs": [
    {
     "name": "stdout",
     "output_type": "stream",
     "text": [
      "Enter comma separated words: red,white,black,green,black,green,red\n",
      "['black', 'green', 'red', 'white']\n"
     ]
    }
   ],
   "source": [
    "words = (input(\"Enter comma separated words: \"). split(','))\n",
    "words_uniq = []\n",
    "for i in words:\n",
    "    if i not in words_uniq:\n",
    "        words_uniq.append(i)\n",
    "print(sorted(words_uniq))"
   ]
  },
  {
   "cell_type": "markdown",
   "metadata": {},
   "source": [
    "15. Write a Python function to create the HTML string with tags around the word(s)."
   ]
  },
  {
   "cell_type": "code",
   "execution_count": 66,
   "metadata": {},
   "outputs": [
    {
     "name": "stdout",
     "output_type": "stream",
     "text": [
      "Enter the tag: b\n",
      "Enter the string: Shantanu\n",
      "<b>Shantanu</b>\n"
     ]
    }
   ],
   "source": [
    "def add_tags(tag, string):\n",
    "    return '<' + tag + '>' + string + '</' + tag + '>'\n",
    "print(add_tags(input(\"Enter the tag: \"), input(\"Enter the string: \")))"
   ]
  },
  {
   "cell_type": "markdown",
   "metadata": {},
   "source": [
    "16. Write a Python function to insert a string in the middle of a string."
   ]
  },
  {
   "cell_type": "code",
   "execution_count": 67,
   "metadata": {},
   "outputs": [
    {
     "name": "stdout",
     "output_type": "stream",
     "text": [
      "Enter outer string: {[(<<>>)]}\n",
      "Enter inner string: Shantanu\n",
      "{[(<<Shantanu>>)]}\n"
     ]
    }
   ],
   "source": [
    "def insert_string_middle(str1, str2):\n",
    "    i = len(str1) // 2\n",
    "    return str1[: i] + str2 + str1[i: ]\n",
    "print(insert_string_middle(input(\"Enter outer string: \"), input(\"Enter inner string: \")))"
   ]
  },
  {
   "cell_type": "markdown",
   "metadata": {},
   "source": [
    "17. Write a Python function to get a string made of 4 copies of the last two characters of a\n",
    "specified string (length must be at least 2)."
   ]
  },
  {
   "cell_type": "code",
   "execution_count": 73,
   "metadata": {},
   "outputs": [
    {
     "name": "stdout",
     "output_type": "stream",
     "text": [
      "Enter a string: Python\n",
      "onononon\n"
     ]
    }
   ],
   "source": [
    "def insert_end(string):\n",
    "    if len(string) < 2:\n",
    "        return string\n",
    "    else:\n",
    "        return string[-2: ] * 4\n",
    "print(insert_end(input(\"Enter a string: \")))"
   ]
  },
  {
   "cell_type": "markdown",
   "metadata": {},
   "source": [
    "19. Write a Python function to get a string made of its first three characters of a specified\n",
    "string. If the length of the string is less than 3 then return the original string."
   ]
  },
  {
   "cell_type": "code",
   "execution_count": 78,
   "metadata": {},
   "outputs": [
    {
     "name": "stdout",
     "output_type": "stream",
     "text": [
      "Enter a stringpython\n",
      "pyt\n"
     ]
    }
   ],
   "source": [
    "def first_three(string):\n",
    "    if len(string) < 3:\n",
    "        return string\n",
    "    else:\n",
    "        return string[: 3]\n",
    "print(first_three(input(\"Enter a string\")))\n",
    "        "
   ]
  },
  {
   "cell_type": "markdown",
   "metadata": {},
   "source": [
    "20.Write a Python program to get the last part of a string before a specified character."
   ]
  },
  {
   "cell_type": "code",
   "execution_count": 87,
   "metadata": {},
   "outputs": [
    {
     "name": "stdout",
     "output_type": "stream",
     "text": [
      "Enter a string: 12348567\n",
      "Enter a char: 8\n",
      "12345678\n"
     ]
    }
   ],
   "source": [
    "def func(string, char):\n",
    "    pos_char = string.find(char)\n",
    "    if pos_char:\n",
    "        return string[:pos_char] + string[pos_char + 1:] + char\n",
    "    else:\n",
    "        return \"Char not found\"\n",
    "print(func(input(\"Enter a string: \"), input(\"Enter a char: \")))"
   ]
  },
  {
   "cell_type": "markdown",
   "metadata": {},
   "source": [
    "21.Write a Python function to reverses a string if it's length is a multiple of 4."
   ]
  },
  {
   "cell_type": "code",
   "execution_count": 98,
   "metadata": {},
   "outputs": [
    {
     "name": "stdout",
     "output_type": "stream",
     "text": [
      "Enter a string: abcdefgh\n",
      "hgfedcba\n"
     ]
    }
   ],
   "source": [
    "def revif4(string):\n",
    "    if len(string) % 4 == 0 and len(string) != 0:\n",
    "        new_str = \"\"\n",
    "        for i in string:\n",
    "            new_str = i + new_str\n",
    "        return new_str\n",
    "    else:\n",
    "        return string\n",
    "print(revif4(input(\"Enter a string: \")))"
   ]
  },
  {
   "cell_type": "markdown",
   "metadata": {},
   "source": [
    "22. Write a Python function to convert a given string to all uppercase if it contains at least 2\n",
    "uppercase characters in the first 4 characters."
   ]
  },
  {
   "cell_type": "code",
   "execution_count": 103,
   "metadata": {},
   "outputs": [
    {
     "name": "stdout",
     "output_type": "stream",
     "text": [
      "Enter a string: AbcDefgjkdfg\n",
      "ABCDEFGJKDFG\n"
     ]
    }
   ],
   "source": [
    "def toupper(string):\n",
    "    if len(string) < 4:\n",
    "        return string\n",
    "    else:\n",
    "        up = 0\n",
    "        for i in range(4):\n",
    "            if string[i].isupper():\n",
    "                up += 1\n",
    "        if up >= 2:\n",
    "            return string.upper()\n",
    "        else:\n",
    "            return string\n",
    "print(toupper(input(\"Enter a string: \")))\n",
    "                "
   ]
  },
  {
   "cell_type": "markdown",
   "metadata": {},
   "source": [
    "23. Write a Python program to sort a string lexicographically."
   ]
  },
  {
   "cell_type": "code",
   "execution_count": 123,
   "metadata": {},
   "outputs": [
    {
     "name": "stdout",
     "output_type": "stream",
     "text": [
      "Enter a string: 31sad2\n",
      "['1', '2', '3', 'a', 'd', 's']\n"
     ]
    }
   ],
   "source": [
    "string = input(\"Enter a string: \")\n",
    "print(sorted(string))"
   ]
  },
  {
   "cell_type": "markdown",
   "metadata": {},
   "source": [
    "24. Write a Python program to remove a newline in Python."
   ]
  },
  {
   "cell_type": "code",
   "execution_count": 21,
   "metadata": {},
   "outputs": [
    {
     "name": "stdout",
     "output_type": "stream",
     "text": [
      "My\n",
      "name\n",
      "is\n",
      "Shantanu\n",
      "Dixit\n",
      "MynameisShantanuDixit\n"
     ]
    }
   ],
   "source": [
    "string = \"My\\nname\\nis\\nShantanu\\nDixit\"\n",
    "print(string)\n",
    "new_str = \"\"\n",
    "for i in string:\n",
    "    if i == '\\n':\n",
    "        pass\n",
    "    else:\n",
    "        new_str += i\n",
    "print(new_str)"
   ]
  },
  {
   "cell_type": "markdown",
   "metadata": {},
   "source": [
    "25. Write a Python program to check whether a string starts with specified characters."
   ]
  },
  {
   "cell_type": "code",
   "execution_count": 26,
   "metadata": {},
   "outputs": [
    {
     "name": "stdout",
     "output_type": "stream",
     "text": [
      "Enter a string: Shantanu\n",
      "Enter a char: s\n",
      "The string starts with s : True\n"
     ]
    }
   ],
   "source": [
    "string = input(\"Enter a string: \")\n",
    "char = input(\"Enter a char: \")\n",
    "print(\"The string starts with\", char, \":\", char.lower() == string[0].lower())"
   ]
  },
  {
   "cell_type": "markdown",
   "metadata": {},
   "source": [
    "28. Write a Python program to remove existing indentation from all of the lines in a given\n",
    "text."
   ]
  },
  {
   "cell_type": "code",
   "execution_count": 5,
   "metadata": {},
   "outputs": [
    {
     "name": "stdout",
     "output_type": "stream",
     "text": [
      "\n",
      "sdasdasdjaslkda;slka;flksd;flkds;fkwpeoifwepflks;d\n",
      "s;ldfk;sdlkf;sldkf;sldkf;sdlfkwefs;dlkf;sdf4fsd;lfks\n",
      "k;dlfk;sdlkf;sldfks;vpwoiw[posdfsdfpds'f;sdlfksd'f0\n",
      ";dslf'sd;lf'sd;lf's;dfl'sd;lf'sd;fl'sd;lf'sd;fl\n",
      "\n"
     ]
    }
   ],
   "source": [
    "import textwrap\n",
    "text = \"\"\"\n",
    "        sdasdasdjaslkda;slka;flksd;flkds;fkwpeoifwepflks;d\n",
    "        s;ldfk;sdlkf;sldkf;sldkf;sdlfkwefs;dlkf;sdf4fsd;lfks\n",
    "        k;dlfk;sdlkf;sldfks;vpwoiw[posdfsdfpds'f;sdlfksd'f0\n",
    "        ;dslf'sd;lf'sd;lf's;dfl'sd;lf'sd;fl'sd;lf'sd;fl\n",
    "\"\"\"\n",
    "print(textwrap.dedent(text))"
   ]
  },
  {
   "cell_type": "markdown",
   "metadata": {},
   "source": [
    "31. Write a Python program to print the following floating numbers upto 2 decimal places."
   ]
  },
  {
   "cell_type": "code",
   "execution_count": 51,
   "metadata": {},
   "outputs": [
    {
     "name": "stdout",
     "output_type": "stream",
     "text": [
      "Enter decimal numbers separated by ',': 45.55,65.325,55.5462\n",
      "45.55\n",
      "65.33\n",
      "55.55\n"
     ]
    }
   ],
   "source": [
    "my_list = input(\"Enter decimal numbers separated by ',': \").split(',')\n",
    "for i in my_list:\n",
    "    print(\"{:.2f}\".format(float(i)))"
   ]
  },
  {
   "cell_type": "markdown",
   "metadata": {},
   "source": [
    "32. Write a Python program to print the following floating numbers upto 2 decimal places\n",
    "with a sign."
   ]
  },
  {
   "cell_type": "code",
   "execution_count": 49,
   "metadata": {},
   "outputs": [
    {
     "name": "stdout",
     "output_type": "stream",
     "text": [
      "-34.55\n"
     ]
    }
   ],
   "source": [
    "num = -34.55\n",
    "print(\"{:.2f}\".format(num))"
   ]
  },
  {
   "cell_type": "markdown",
   "metadata": {},
   "source": [
    "33. Write a Python program to print the following floating numbers with no decimal places."
   ]
  },
  {
   "cell_type": "code",
   "execution_count": 50,
   "metadata": {},
   "outputs": [
    {
     "name": "stdout",
     "output_type": "stream",
     "text": [
      "Enter decimal numbers separated by ',': 2.65,33.66,40.2\n",
      "3\n",
      "34\n",
      "40\n"
     ]
    }
   ],
   "source": [
    "my_list = input(\"Enter decimal numbers separated by ',': \").split(',')\n",
    "for i in my_list:\n",
    "    print(\"{:.0f}\".format(float(i)))"
   ]
  },
  {
   "cell_type": "markdown",
   "metadata": {},
   "source": [
    "34. Write a Python program to print the following integers with zeros on the left of specified\n",
    "width."
   ]
  },
  {
   "cell_type": "code",
   "execution_count": 44,
   "metadata": {},
   "outputs": [
    {
     "name": "stdout",
     "output_type": "stream",
     "text": [
      "Enter numbers separated by ',': 55,22,88,99\n",
      "0000        55\n",
      "0000        22\n",
      "0000        88\n",
      "0000        99\n"
     ]
    }
   ],
   "source": [
    "my_list = input(\"Enter numbers separated by ',': \").split(',')\n",
    "for i in my_list:\n",
    "    print(\"0000{:10d}\".format(int(i)))"
   ]
  },
  {
   "cell_type": "markdown",
   "metadata": {},
   "source": [
    "35. Write a Python program to print the following integers with '*' on the right of specified\n",
    "width."
   ]
  },
  {
   "cell_type": "code",
   "execution_count": 30,
   "metadata": {},
   "outputs": [
    {
     "name": "stdout",
     "output_type": "stream",
     "text": [
      "Enter numbers separated by ',': 21,54,78,69\n",
      "21*\n",
      "54*\n",
      "78*\n",
      "69*\n"
     ]
    }
   ],
   "source": [
    "my_list = input(\"Enter numbers separated by ',': \").split(',')\n",
    "for i in my_list:\n",
    "    print(i, end = '*\\n')"
   ]
  },
  {
   "cell_type": "markdown",
   "metadata": {},
   "source": [
    "36. Write a Python program to display a number with a comma separator."
   ]
  },
  {
   "cell_type": "code",
   "execution_count": 27,
   "metadata": {},
   "outputs": [
    {
     "name": "stdout",
     "output_type": "stream",
     "text": [
      "Enter a number: 5\n",
      "5,"
     ]
    }
   ],
   "source": [
    "num = input(\"Enter a number: \")\n",
    "print(num, end = ',')"
   ]
  },
  {
   "cell_type": "markdown",
   "metadata": {},
   "source": [
    "37. Write a Python program to format a number with a percentage."
   ]
  },
  {
   "cell_type": "code",
   "execution_count": 3,
   "metadata": {},
   "outputs": [
    {
     "name": "stdout",
     "output_type": "stream",
     "text": [
      "Enter a number: 5\n",
      "5%\n"
     ]
    }
   ],
   "source": [
    "num = int(input(\"Enter a number: \"))\n",
    "print(\"{}%\".format(num))"
   ]
  },
  {
   "cell_type": "markdown",
   "metadata": {},
   "source": [
    "38. Write a Python program to display a number in left, right and center aligned of width 10."
   ]
  },
  {
   "cell_type": "code",
   "execution_count": 24,
   "metadata": {},
   "outputs": [
    {
     "name": "stdout",
     "output_type": "stream",
     "text": [
      "Enter a number: 5\n",
      " 5        \n",
      "         5\n",
      "    5     \n"
     ]
    }
   ],
   "source": [
    "num = int(input(\"Enter a number: \"))\n",
    "print(\"{:< 10d}\".format(num))\n",
    "print(\"{:10d}\".format(num))\n",
    "print(\"{:^10d}\".format(num))"
   ]
  },
  {
   "cell_type": "markdown",
   "metadata": {},
   "source": [
    "39. Write a Python program to count occurrences of a substring in a string."
   ]
  },
  {
   "cell_type": "code",
   "execution_count": 3,
   "metadata": {},
   "outputs": [
    {
     "name": "stdout",
     "output_type": "stream",
     "text": [
      "Enter a string: Shantanu\n",
      "Enter a string: an\n",
      "\n",
      "an occurs 2 times in Shantanu\n"
     ]
    }
   ],
   "source": [
    "string = input(\"Enter a string: \")\n",
    "sub_str = input(\"Enter a string: \")\n",
    "new_str = \"\"\n",
    "count = 0\n",
    "for i in string:\n",
    "    if i == sub_str[0]:\n",
    "        new_str = \"\"\n",
    "    if new_str == sub_str:\n",
    "        count += 1\n",
    "        new_str = \"\"\n",
    "    else:\n",
    "        new_str += i\n",
    "print(new_str)\n",
    "print(sub_str, \"occurs\", count, \"times in\", string)"
   ]
  },
  {
   "cell_type": "markdown",
   "metadata": {},
   "source": [
    "40. Write a Python program to reverse a string."
   ]
  },
  {
   "cell_type": "code",
   "execution_count": 120,
   "metadata": {},
   "outputs": [
    {
     "name": "stdout",
     "output_type": "stream",
     "text": [
      "Enter a string: hello\n",
      "olleh\n"
     ]
    }
   ],
   "source": [
    "string = input(\"Enter a string: \")\n",
    "new_str = \"\"\n",
    "for i in string:\n",
    "    new_str = i + new_str\n",
    "print(new_str)"
   ]
  },
  {
   "cell_type": "markdown",
   "metadata": {},
   "source": [
    "41. Write a Python program to reverse words in a string."
   ]
  },
  {
   "cell_type": "code",
   "execution_count": 119,
   "metadata": {},
   "outputs": [
    {
     "name": "stdout",
     "output_type": "stream",
     "text": [
      "Enter a string: my name is shantanu dixit\n",
      "dixit\n",
      "shantanu\n",
      "is\n",
      "name\n",
      "my\n"
     ]
    }
   ],
   "source": [
    "string = input(\"Enter a string: \")\n",
    "str_list = string.split()\n",
    "for i in range(len(str_list) - 1, -1, -1):\n",
    "    print(str_list[i])\n",
    "    "
   ]
  },
  {
   "cell_type": "markdown",
   "metadata": {},
   "source": [
    "42. Write a Python program to strip a set of characters from a string."
   ]
  },
  {
   "cell_type": "code",
   "execution_count": 113,
   "metadata": {},
   "outputs": [
    {
     "name": "stdout",
     "output_type": "stream",
     "text": [
      "Enter a string: Shantanu\n",
      "Enter value of 'n': 5\n",
      "anu\n"
     ]
    }
   ],
   "source": [
    "string = input(\"Enter a string: \")\n",
    "n = int(input(\"Enter value of 'n': \"))\n",
    "new_str = \"\"\n",
    "for i in string:\n",
    "    if n > 0:\n",
    "        n -= 1\n",
    "    else:\n",
    "        new_str += i\n",
    "print(new_str)"
   ]
  },
  {
   "cell_type": "markdown",
   "metadata": {},
   "source": [
    "43. Write a Python program to count repeated characters in a string."
   ]
  },
  {
   "cell_type": "code",
   "execution_count": 110,
   "metadata": {},
   "outputs": [
    {
     "name": "stdout",
     "output_type": "stream",
     "text": [
      "Enter a string: thequickbrownfoxjumpsoverthelazydog\n",
      "t 2\n",
      "h 2\n",
      "e 3\n",
      "u 2\n",
      "r 2\n",
      "o 4\n"
     ]
    }
   ],
   "source": [
    "string = input(\"Enter a string: \")\n",
    "str_count = {}\n",
    "for i in string:\n",
    "    if i in str_count:\n",
    "        str_count[i] += 1\n",
    "    else:\n",
    "        str_count[i] = 1\n",
    "for i in str_count:\n",
    "    if str_count[i] > 1:\n",
    "        print(i, str_count[i])"
   ]
  },
  {
   "cell_type": "markdown",
   "metadata": {},
   "source": [
    "46. Write a Python program to print the index of the character in a string."
   ]
  },
  {
   "cell_type": "code",
   "execution_count": 108,
   "metadata": {},
   "outputs": [
    {
     "name": "stdout",
     "output_type": "stream",
     "text": [
      "Enter a string: we3areresources\n",
      "Character: w at position: 0\n",
      "Character: e at position: 1\n",
      "Character: 3 at position: 2\n",
      "Character: a at position: 3\n",
      "Character: r at position: 4\n",
      "Character: e at position: 5\n",
      "Character: r at position: 6\n",
      "Character: e at position: 7\n",
      "Character: s at position: 8\n",
      "Character: o at position: 9\n",
      "Character: u at position: 10\n",
      "Character: r at position: 11\n",
      "Character: c at position: 12\n",
      "Character: e at position: 13\n",
      "Character: s at position: 14\n"
     ]
    }
   ],
   "source": [
    "string = input(\"Enter a string: \")\n",
    "c = -1\n",
    "for i in string:\n",
    "    c += 1\n",
    "    print(\"Character:\", i, \"at position:\", c)"
   ]
  },
  {
   "cell_type": "markdown",
   "metadata": {},
   "source": [
    "47. Write a Python program to check if a string contains all letters of the alphabet."
   ]
  },
  {
   "cell_type": "code",
   "execution_count": 105,
   "metadata": {},
   "outputs": [
    {
     "name": "stdout",
     "output_type": "stream",
     "text": [
      "Enter a string: abcdefghijklmnopqrstuvwxyz\n",
      "The string has all letters of the alphabet\n"
     ]
    }
   ],
   "source": [
    "asc_list = list(range(97, 123))\n",
    "string = input(\"Enter a string: \")\n",
    "new_list = []\n",
    "for i in string:\n",
    "    new_list.append(ord(i.lower()))\n",
    "if asc_list == new_list:\n",
    "    print(\"The string has all letters of the alphabet\")\n",
    "else:\n",
    "    print(\"The string does not have all letters of the alphabets\")"
   ]
  },
  {
   "cell_type": "markdown",
   "metadata": {},
   "source": [
    "48. Write a Python program to convert a string in a list."
   ]
  },
  {
   "cell_type": "code",
   "execution_count": 97,
   "metadata": {},
   "outputs": [
    {
     "name": "stdout",
     "output_type": "stream",
     "text": [
      "Enter a string: Shantanu\n",
      "Shantanu\n",
      "['S', 'h', 'a', 'n', 't', 'a', 'n', 'u']\n"
     ]
    }
   ],
   "source": [
    "string = input(\"Enter a string: \")\n",
    "print(string)\n",
    "str_list = list(string)\n",
    "print(str_list)"
   ]
  },
  {
   "cell_type": "markdown",
   "metadata": {},
   "source": [
    "49. Write a Python program to lowercase first n characters in a string."
   ]
  },
  {
   "cell_type": "code",
   "execution_count": 96,
   "metadata": {},
   "outputs": [
    {
     "name": "stdout",
     "output_type": "stream",
     "text": [
      "Enter a string: Shantanu Dixit\n",
      "Enter value of n: 5\n",
      "SHANTanu Dixit\n"
     ]
    }
   ],
   "source": [
    "string = input(\"Enter a string: \")\n",
    "n = int(input(\"Enter value of n: \"))\n",
    "new_str = \"\"\n",
    "for i in string:\n",
    "    if n > 0:\n",
    "        new_str += i.upper()\n",
    "        n -= 1\n",
    "    else:\n",
    "        new_str += i\n",
    "print(new_str)"
   ]
  },
  {
   "cell_type": "markdown",
   "metadata": {},
   "source": [
    "50. Write a Python program to swap comma and dot in a string."
   ]
  },
  {
   "cell_type": "code",
   "execution_count": 93,
   "metadata": {},
   "outputs": [
    {
     "name": "stdout",
     "output_type": "stream",
     "text": [
      "Enter a string: S,h.a,n,t,a.n.u.\n",
      "S.h,a.n.t.a,n,u,\n"
     ]
    }
   ],
   "source": [
    "string = input(\"Enter a string: \")\n",
    "new_str = \"\"\n",
    "for i in string:\n",
    "    if i == '.':\n",
    "        new_str += ','\n",
    "    elif i == ',':\n",
    "        new_str += '.'\n",
    "    else:\n",
    "        new_str += i\n",
    "print(new_str)"
   ]
  },
  {
   "cell_type": "markdown",
   "metadata": {},
   "source": [
    "51. Write a Python program to count and display the vowels of a given text."
   ]
  },
  {
   "cell_type": "code",
   "execution_count": 92,
   "metadata": {},
   "outputs": [
    {
     "name": "stdout",
     "output_type": "stream",
     "text": [
      "Enter a string: AbsfdfkDEfioO\n",
      "A\n",
      "E\n",
      "i\n",
      "o\n",
      "O\n",
      "Count = 5\n"
     ]
    }
   ],
   "source": [
    "vowels = ['a', 'e', 'i', 'o', 'u']\n",
    "string = input(\"Enter a string: \")\n",
    "count = 0\n",
    "for i in string:\n",
    "    if i.lower() in vowels:\n",
    "        count += 1\n",
    "        print(i)\n",
    "print(\"Count =\", count)"
   ]
  },
  {
   "cell_type": "markdown",
   "metadata": {},
   "source": [
    "52. Write a Python program to split a string on the last occurrence of the delimiter."
   ]
  },
  {
   "cell_type": "code",
   "execution_count": 91,
   "metadata": {},
   "outputs": [
    {
     "name": "stdout",
     "output_type": "stream",
     "text": [
      "Enter a string with delimiter ',': a,b,f,s,e,h\n",
      "['a,b,f,s,e', 'h']\n"
     ]
    }
   ],
   "source": [
    "string = input(\"Enter a string with delimiter ',': \")\n",
    "str_list = string.rsplit(',', 1)\n",
    "print(str_list)"
   ]
  },
  {
   "cell_type": "markdown",
   "metadata": {},
   "source": [
    "53. Write a Python program to find the first non-repeating character in given string."
   ]
  },
  {
   "cell_type": "code",
   "execution_count": 86,
   "metadata": {},
   "outputs": [
    {
     "name": "stdout",
     "output_type": "stream",
     "text": [
      "Enter a string: abdcba\n",
      "The frist non-repeating character is d\n"
     ]
    }
   ],
   "source": [
    "string = input(\"Enter a string: \")\n",
    "repeats = {}\n",
    "for i in string:\n",
    "    if i in repeats:\n",
    "        repeats[i] += 1\n",
    "    else:\n",
    "        repeats[i] = 1\n",
    "keys = list(repeats.keys())\n",
    "values = list(repeats.values())\n",
    "key = values.index(1)\n",
    "if key:\n",
    "    print(\"The frist non-repeating character is\", keys[key])\n",
    "else:\n",
    "    print(\"All characters are repeated\")"
   ]
  },
  {
   "cell_type": "markdown",
   "metadata": {},
   "source": [
    "55. Write a Python program to find the first repeated character in a given string."
   ]
  },
  {
   "cell_type": "code",
   "execution_count": 66,
   "metadata": {},
   "outputs": [
    {
     "name": "stdout",
     "output_type": "stream",
     "text": [
      "Enter a string: sweets\n",
      "First repeated char is e\n"
     ]
    }
   ],
   "source": [
    "string = input(\"Enter a string: \")\n",
    "new_str = \"\"\n",
    "for i in string:\n",
    "    if i not in new_str:\n",
    "        new_str += i\n",
    "    else:\n",
    "        print(\"First repeated char is\", i)\n",
    "        break\n",
    "else:\n",
    "    print(\"No char is repeated\")"
   ]
  },
  {
   "cell_type": "markdown",
   "metadata": {},
   "source": [
    "56. Write a Python program to find the first repeated character of a given string where the\n",
    "index of first occurrence is smallest."
   ]
  },
  {
   "cell_type": "code",
   "execution_count": 40,
   "metadata": {},
   "outputs": [
    {
     "name": "stdout",
     "output_type": "stream",
     "text": [
      "Enter a string: abbcca\n",
      "First repeated char is a\n"
     ]
    }
   ],
   "source": [
    "string = input(\"Enter a string: \")\n",
    "for i in range(len(string)):\n",
    "    for j in range(i + 1, len(string)):\n",
    "        if string[i].lower() == string[j].lower():\n",
    "            print(\"First repeated char is\", string[j])\n",
    "            break\n",
    "    else:\n",
    "        continue\n",
    "    break\n",
    "else:\n",
    "    print(\"No char repeated\")"
   ]
  },
  {
   "cell_type": "markdown",
   "metadata": {},
   "source": [
    "57. Write a Python program to find the first repeated word in a given string."
   ]
  },
  {
   "cell_type": "code",
   "execution_count": 65,
   "metadata": {},
   "outputs": [
    {
     "name": "stdout",
     "output_type": "stream",
     "text": [
      "Enter a string: aa bb bb aa\n",
      "First repeated word is:  bb\n"
     ]
    }
   ],
   "source": [
    "string = input(\"Enter a string: \").split()\n",
    "repeat = []\n",
    "for i in string:\n",
    "    if i not in repeat:\n",
    "        repeat.append(i)\n",
    "    else:\n",
    "        print(\"First repeated word is: \", i)\n",
    "        break\n",
    "else:\n",
    "    print(\"No word is repeated\")"
   ]
  },
  {
   "cell_type": "markdown",
   "metadata": {},
   "source": [
    "58. Write a Python program to find the second most repeated word in a given string."
   ]
  },
  {
   "cell_type": "code",
   "execution_count": 37,
   "metadata": {},
   "outputs": [
    {
     "name": "stdout",
     "output_type": "stream",
     "text": [
      "Enter a string: my name name name name my my is is\n",
      "my\n"
     ]
    }
   ],
   "source": [
    "def second_occur(string):\n",
    "    occurs = {}\n",
    "    for i in string:\n",
    "        if i in occurs:\n",
    "            occurs[i] += 1\n",
    "        else:\n",
    "            occurs[i] = 1\n",
    "    to_del = max(occurs, key = occurs.get)\n",
    "    del occurs[to_del]\n",
    "    return max(occurs, key = occurs.get)\n",
    "string = input(\"Enter a string: \").split()\n",
    "print(second_occur(string))"
   ]
  },
  {
   "cell_type": "markdown",
   "metadata": {},
   "source": [
    "59. Write a Python program to remove spaces from a given string."
   ]
  },
  {
   "cell_type": "code",
   "execution_count": 27,
   "metadata": {},
   "outputs": [
    {
     "name": "stdout",
     "output_type": "stream",
     "text": [
      "Enter a string: My name is Shantanu\n",
      "MynameisShantanu\n"
     ]
    }
   ],
   "source": [
    "string = input(\"Enter a string: \")\n",
    "new_str = \"\"\n",
    "for i in string:\n",
    "    if i != \" \":\n",
    "        new_str += i\n",
    "print(new_str)"
   ]
  },
  {
   "cell_type": "markdown",
   "metadata": {},
   "source": [
    "60. Write a Python program to move spaces to the front of a given string."
   ]
  },
  {
   "cell_type": "code",
   "execution_count": 14,
   "metadata": {},
   "outputs": [
    {
     "name": "stdout",
     "output_type": "stream",
     "text": [
      "Enter a string: my name is shantanu dixit\n",
      "mynameisshantanudixit      ends here"
     ]
    }
   ],
   "source": [
    "string = input(\"Enter a string: \").split()\n",
    "new_str = \"\"\n",
    "spaces = \" \"\n",
    "for i in string:\n",
    "    new_str += i\n",
    "    spaces += \" \"\n",
    "new_str += spaces\n",
    "print(new_str, end = 'ends here')"
   ]
  },
  {
   "cell_type": "markdown",
   "metadata": {},
   "source": [
    "61. Write a Python program to find the maximum occurring character in a given string."
   ]
  },
  {
   "cell_type": "code",
   "execution_count": 27,
   "metadata": {},
   "outputs": [
    {
     "name": "stdout",
     "output_type": "stream",
     "text": [
      "Enter a string: environment\n",
      "n\n"
     ]
    }
   ],
   "source": [
    "string = input(\"Enter a string: \")\n",
    "occurs = {}\n",
    "for i in string:\n",
    "    if i in occurs:\n",
    "        occurs[i] += 1\n",
    "    else:\n",
    "        occurs[i] = 1\n",
    "print(max(occurs, key = occurs.get))"
   ]
  },
  {
   "cell_type": "markdown",
   "metadata": {},
   "source": [
    "62. Write a Python program to capitalize first and last letters of each word of a given string."
   ]
  },
  {
   "cell_type": "code",
   "execution_count": 11,
   "metadata": {},
   "outputs": [
    {
     "name": "stdout",
     "output_type": "stream",
     "text": [
      "Enter a string: my name is shantanu dixit\n",
      "MY NamE IS ShantanU DixiT \n"
     ]
    }
   ],
   "source": [
    "string = input(\"Enter a string: \").split()\n",
    "new_str = ''\n",
    "for i in string:\n",
    "    new_str += i[0].upper() + i[1: len(i) - 1] + i[len(i) - 1].upper() + \" \"\n",
    "print(new_str)"
   ]
  },
  {
   "cell_type": "markdown",
   "metadata": {},
   "source": [
    "63. Write a Python program to remove duplicate characters of a given string."
   ]
  },
  {
   "cell_type": "code",
   "execution_count": 57,
   "metadata": {},
   "outputs": [
    {
     "name": "stdout",
     "output_type": "stream",
     "text": [
      "Enter a string: abcabdfec\n",
      "abcdfe\n"
     ]
    }
   ],
   "source": [
    "string = input(\"Enter a string: \")\n",
    "new_str = \"\"\n",
    "for i in string:\n",
    "    if i in new_str:\n",
    "        pass\n",
    "    else:\n",
    "        new_str += i\n",
    "print(new_str)"
   ]
  },
  {
   "cell_type": "markdown",
   "metadata": {},
   "source": [
    "64. Write a Python program to compute sum of digits of a given string."
   ]
  },
  {
   "cell_type": "code",
   "execution_count": 3,
   "metadata": {},
   "outputs": [
    {
     "name": "stdout",
     "output_type": "stream",
     "text": [
      "Enter a string: 8465\n",
      "Sum of 8465 = 23\n"
     ]
    }
   ],
   "source": [
    "string = input(\"Enter a string: \")\n",
    "s = 0\n",
    "for i in string:\n",
    "    s += int(i)\n",
    "print(\"Sum of\", string, \"=\", s)\n"
   ]
  },
  {
   "cell_type": "markdown",
   "metadata": {},
   "source": [
    "65.Write a Python program to remove leading zeros from an IP address."
   ]
  },
  {
   "cell_type": "code",
   "execution_count": 2,
   "metadata": {},
   "outputs": [
    {
     "name": "stdout",
     "output_type": "stream",
     "text": [
      "Enter a string: 00454.64.646.00060\n",
      "454.64.646.0006\n"
     ]
    }
   ],
   "source": [
    "string = input(\"Enter a string: \")\n",
    "string = string.strip('0')\n",
    "print(string)"
   ]
  }
 ],
 "metadata": {
  "kernelspec": {
   "display_name": "Python 3",
   "language": "python",
   "name": "python3"
  },
  "language_info": {
   "codemirror_mode": {
    "name": "ipython",
    "version": 3
   },
   "file_extension": ".py",
   "mimetype": "text/x-python",
   "name": "python",
   "nbconvert_exporter": "python",
   "pygments_lexer": "ipython3",
   "version": "3.8.5"
  }
 },
 "nbformat": 4,
 "nbformat_minor": 2
}
