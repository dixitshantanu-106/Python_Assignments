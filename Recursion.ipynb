{
 "cells": [
  {
   "cell_type": "markdown",
   "metadata": {},
   "source": [
    "1. Python Program to Determine Whether a Given Number is Even or Odd\n",
    "Recursively"
   ]
  },
  {
   "cell_type": "code",
   "execution_count": 14,
   "metadata": {},
   "outputs": [
    {
     "name": "stdout",
     "output_type": "stream",
     "text": [
      "Enter a number: 321\n",
      "Odd\n"
     ]
    }
   ],
   "source": [
    "def OddEven(n):\n",
    "    if n < 2:\n",
    "        return n % 2 == 0\n",
    "    else:\n",
    "        return OddEven(n - 2)\n",
    "if OddEven(int(input(\"Enter a number: \"))):\n",
    "    print(\"Even\")\n",
    "else:\n",
    "    print(\"Odd\")"
   ]
  },
  {
   "cell_type": "markdown",
   "metadata": {},
   "source": [
    "2. Python Program to Determine How Many Times a Given Letter Occurs in a\n",
    "String Recursively"
   ]
  },
  {
   "cell_type": "code",
   "execution_count": 18,
   "metadata": {},
   "outputs": [
    {
     "name": "stdout",
     "output_type": "stream",
     "text": [
      "Enter a string: shantanu\n",
      "Enter a letter to search in the string: a\n",
      "a occurs 2 times in shantanu\n"
     ]
    }
   ],
   "source": [
    "def occurs(string, letter):\n",
    "    if not string:\n",
    "        return 0\n",
    "    elif string[0] == letter:\n",
    "        return 1 + occurs(string[1: ], letter)\n",
    "    else:\n",
    "        return occurs(string[1: ], letter)\n",
    "string = input(\"Enter a string: \")\n",
    "let = input(\"Enter a letter to search in the string: \")\n",
    "print(\"{} occurs {} times in {}\".format(let, occurs(string, let), string))"
   ]
  },
  {
   "cell_type": "markdown",
   "metadata": {},
   "source": [
    "3. Python Program to Find the Fibonacci Series Using Recursion"
   ]
  },
  {
   "cell_type": "code",
   "execution_count": 26,
   "metadata": {},
   "outputs": [
    {
     "name": "stdout",
     "output_type": "stream",
     "text": [
      "Enter a number: 15\n",
      "0\n",
      "1\n",
      "1\n",
      "2\n",
      "3\n",
      "5\n",
      "8\n",
      "13\n",
      "21\n",
      "34\n",
      "55\n",
      "89\n",
      "144\n",
      "233\n",
      "377\n"
     ]
    }
   ],
   "source": [
    "def fibo(n):\n",
    "    if n < 2:\n",
    "        return n\n",
    "    else:\n",
    "        return (fibo(n - 1) + fibo(n - 2))\n",
    "n = int(input(\"Enter a number: \"))\n",
    "for i in range(n):\n",
    "    print(fibo(i))"
   ]
  },
  {
   "cell_type": "markdown",
   "metadata": {},
   "source": [
    "4. Python Program to Find the Factorial of a Number Using Recursion"
   ]
  },
  {
   "cell_type": "code",
   "execution_count": 34,
   "metadata": {},
   "outputs": [
    {
     "name": "stdout",
     "output_type": "stream",
     "text": [
      "Enter a number: 10\n",
      "3628800\n"
     ]
    }
   ],
   "source": [
    "def fact(n):\n",
    "    if n < 2:\n",
    "        return n\n",
    "    else:\n",
    "        return (n * fact(n - 1))\n",
    "n = int(input(\"Enter a number: \"))\n",
    "print(fact(n))"
   ]
  },
  {
   "cell_type": "markdown",
   "metadata": {},
   "source": [
    "5. Python Program to Find the Sum of Elements in a List Recursively"
   ]
  },
  {
   "cell_type": "code",
   "execution_count": 38,
   "metadata": {},
   "outputs": [
    {
     "name": "stdout",
     "output_type": "stream",
     "text": [
      "Enter numbers separated by space: 56 99 454 25 -89 65 -6\n",
      "Total = 604\n"
     ]
    }
   ],
   "source": [
    "def sum_list(numbers):\n",
    "    if len(numbers) < 2:\n",
    "        return int(numbers[0])\n",
    "    else:\n",
    "        return int(numbers[0]) + int(sum_list(numbers[1:]))\n",
    "numbers = input(\"Enter numbers separated by space: \").split()\n",
    "print(\"Total = {}\".format(sum_list(numbers)))"
   ]
  },
  {
   "cell_type": "markdown",
   "metadata": {},
   "source": [
    "6. Python Program to Find the Binary Equivalent of a Number Recursively"
   ]
  },
  {
   "cell_type": "code",
   "execution_count": 54,
   "metadata": {},
   "outputs": [
    {
     "name": "stdout",
     "output_type": "stream",
     "text": [
      "Enter a number: 15\n",
      "Binary equivalent of 15 is [1, 1, 1, 1]\n"
     ]
    }
   ],
   "source": [
    "b = []\n",
    "def binary(num):\n",
    "    if num == 0:\n",
    "        return b\n",
    "    else:\n",
    "        b.append(num % 2)\n",
    "        return binary(num // 2)\n",
    "num = int(input(\"Enter a number: \"))\n",
    "b = binary(num)\n",
    "b.reverse()\n",
    "print(\"Binary equivalent of {} is {}\".format(num, b))"
   ]
  },
  {
   "cell_type": "markdown",
   "metadata": {},
   "source": [
    "7. Python Program to Find the Sum of the Digits of the Number Recursively"
   ]
  },
  {
   "cell_type": "code",
   "execution_count": 64,
   "metadata": {},
   "outputs": [
    {
     "name": "stdout",
     "output_type": "stream",
     "text": [
      "Enter a number: 125463\n",
      "The sum of digits of 125463 is 21\n"
     ]
    }
   ],
   "source": [
    "def SumOfDigits(num):\n",
    "    if num < 10:\n",
    "        return num\n",
    "    else:\n",
    "        return (num % 10 + SumOfDigits(num // 10))\n",
    "num = int(input(\"Enter a number: \"))\n",
    "print(\"The sum of digits of {} is {}\".format(num, SumOfDigits(num)))"
   ]
  },
  {
   "cell_type": "markdown",
   "metadata": {},
   "source": [
    "8. Python Program to Find the LCM of Two Numbers Using Recursion"
   ]
  },
  {
   "cell_type": "code",
   "execution_count": 3,
   "metadata": {},
   "outputs": [
    {
     "name": "stdout",
     "output_type": "stream",
     "text": [
      "Enter first number: 7\n",
      "Enter second number: 12\n",
      "84\n"
     ]
    }
   ],
   "source": [
    "def lcm(a, b, m):\n",
    "    if m % a == 0 and m % b == 0:\n",
    "        return m\n",
    "    else:\n",
    "        return lcm(a, b, m + 1)\n",
    "n1 = int(input(\"Enter first number: \"))\n",
    "n2 = int(input(\"Enter second number: \"))\n",
    "\n",
    "if n1 < n2:\n",
    "    print(lcm(n1, n2, n2))\n",
    "else:\n",
    "    print(lcm(n2, n1, n1))"
   ]
  },
  {
   "cell_type": "markdown",
   "metadata": {},
   "source": [
    "9. Python Program to Find the GCD of Two Numbers Using Recursion"
   ]
  },
  {
   "cell_type": "code",
   "execution_count": 7,
   "metadata": {},
   "outputs": [
    {
     "name": "stdout",
     "output_type": "stream",
     "text": [
      "Enter first number: 27\n",
      "Enter second number: 72\n",
      "9\n"
     ]
    }
   ],
   "source": [
    "def gcd(a, b):\n",
    "    if b == 0:\n",
    "        return a\n",
    "    else:\n",
    "        return gcd(b, a % b)\n",
    "n1 = int(input(\"Enter first number: \"))\n",
    "n2 = int(input(\"Enter second number: \"))\n",
    "print(gcd(n1, n2))"
   ]
  },
  {
   "cell_type": "markdown",
   "metadata": {},
   "source": [
    "10.Python Program to Find if a Number is Prime or Not Prime Using Recursion"
   ]
  },
  {
   "cell_type": "code",
   "execution_count": 16,
   "metadata": {},
   "outputs": [
    {
     "name": "stdout",
     "output_type": "stream",
     "text": [
      "Enter a number: 33\n",
      "Not Prime\n"
     ]
    }
   ],
   "source": [
    "def prime(n, d):\n",
    "    while d >= 2:\n",
    "        if n % d == 0:\n",
    "            return \"Not Prime\"\n",
    "        else:\n",
    "            return prime(n, d - 1)\n",
    "    else:\n",
    "        return \"Prime\"\n",
    "n = int(input(\"Enter a number: \"))\n",
    "print(prime(n, n - 1))"
   ]
  },
  {
   "cell_type": "markdown",
   "metadata": {},
   "source": [
    "11.Python Program to Find the Product of two Numbers Using Recursion"
   ]
  },
  {
   "cell_type": "code",
   "execution_count": 41,
   "metadata": {},
   "outputs": [
    {
     "name": "stdout",
     "output_type": "stream",
     "text": [
      "Enter first number: 8\n",
      "Enter second number: 6\n",
      "48\n"
     ]
    }
   ],
   "source": [
    "def product(n1, n2):\n",
    "    if n2 == 0:\n",
    "        return \n",
    "    else:\n",
    "        global total\n",
    "        total += n1\n",
    "        return product(n1, n2 - 1)\n",
    "total = 0\n",
    "n1 = int(input(\"Enter first number: \"))\n",
    "n2 = int(input(\"Enter second number: \"))\n",
    "product(n1, n2)\n",
    "print(total)"
   ]
  },
  {
   "cell_type": "markdown",
   "metadata": {},
   "source": [
    "12.Python Program to Find the Power of a Number Using Recursion"
   ]
  },
  {
   "cell_type": "code",
   "execution_count": 48,
   "metadata": {},
   "outputs": [
    {
     "name": "stdout",
     "output_type": "stream",
     "text": [
      "Enter a number: 12\n",
      "Enter degree: 3\n",
      "1728\n"
     ]
    }
   ],
   "source": [
    "def power(n, x):\n",
    "    global prod\n",
    "    if x == 1:\n",
    "        prod *= n\n",
    "        return \n",
    "    else:\n",
    "        prod *= n\n",
    "        return power(n, x - 1)\n",
    "prod = 1\n",
    "n = int(input(\"Enter a number: \"))\n",
    "x = int(input(\"Enter degree: \"))\n",
    "power(n, x)\n",
    "print(prod)"
   ]
  },
  {
   "cell_type": "markdown",
   "metadata": {},
   "source": [
    "13.Python Program to Check Whether a String is a Palindrome or not Using\n",
    "Recursion"
   ]
  },
  {
   "cell_type": "code",
   "execution_count": 66,
   "metadata": {},
   "outputs": [
    {
     "name": "stdout",
     "output_type": "stream",
     "text": [
      "Enter a string: madam\n",
      "madam is palindrome: True\n"
     ]
    }
   ],
   "source": [
    "def palindrome(string):\n",
    "    if not string or len(string) == 1:\n",
    "        return True\n",
    "    else:\n",
    "        if string[0] == string[len(string) - 1]:\n",
    "            return palindrome(string[1: len(string) - 1])\n",
    "        else:\n",
    "            return False\n",
    "string = input(\"Enter a string: \")\n",
    "print(\"{} is palindrome: {}\".format(string, palindrome(string)))"
   ]
  },
  {
   "cell_type": "markdown",
   "metadata": {},
   "source": [
    "14.Python Program to Reverse a String Using Recursion"
   ]
  },
  {
   "cell_type": "code",
   "execution_count": 74,
   "metadata": {},
   "outputs": [
    {
     "name": "stdout",
     "output_type": "stream",
     "text": [
      "Enter a string: madam\n",
      "Reverse of madam is madam\n"
     ]
    }
   ],
   "source": [
    "def reverse(string):\n",
    "    global rev\n",
    "    if not string:\n",
    "        return \n",
    "    else:\n",
    "        rev += string[len(string) - 1]\n",
    "        return reverse(string[:len(string) - 1])\n",
    "rev = \"\"\n",
    "string = input(\"Enter a string: \")\n",
    "reverse(string)\n",
    "print(\"Reverse of {} is {}\".format(string, rev))"
   ]
  },
  {
   "cell_type": "markdown",
   "metadata": {},
   "source": [
    "15.Python Program to Flatten a Nested List using Recursion"
   ]
  },
  {
   "cell_type": "code",
   "execution_count": 80,
   "metadata": {},
   "outputs": [
    {
     "name": "stdout",
     "output_type": "stream",
     "text": [
      "Original List: [4, 5, [88, 66, 55], [44], [85, 96, 1025, 453, 66], 123, 55, 1456, [5]]\n",
      "[4, 5, 88, 66, 55, 44, 85, 96, 1025, 453, 66, 123, 55, 1456, 5]\n"
     ]
    }
   ],
   "source": [
    "def flatten(my_list):\n",
    "    if not my_list:\n",
    "        return\n",
    "    else:\n",
    "        if type(my_list[0]) == list:\n",
    "            for i in my_list[0]:\n",
    "                new.append(i)\n",
    "        else:\n",
    "            new.append(my_list[0])\n",
    "        return flatten(my_list[1:])\n",
    "my_list = [4, 5, [88, 66, 55], [44], [85, 96, 1025, 453, 66], 123, 55, 1456, [5]]\n",
    "print(\"Original List: {}\".format(my_list))\n",
    "new = []\n",
    "flatten(my_list)\n",
    "print(new)"
   ]
  },
  {
   "cell_type": "markdown",
   "metadata": {},
   "source": [
    "16.Python Program to Find the Total Sum of a Nested List Using Recursion"
   ]
  },
  {
   "cell_type": "code",
   "execution_count": 82,
   "metadata": {},
   "outputs": [
    {
     "name": "stdout",
     "output_type": "stream",
     "text": [
      "3626\n"
     ]
    }
   ],
   "source": [
    "def SumOfNested(my_list):\n",
    "    if not my_list:\n",
    "        return\n",
    "    else:\n",
    "        global sumofnested\n",
    "        if type(my_list[0]) == list:\n",
    "            for i in my_list[0]:\n",
    "                sumofnested += i\n",
    "        else:\n",
    "            sumofnested += my_list[0]\n",
    "        return SumOfNested(my_list[1:])\n",
    "my_list = [4, 5, [88, 66, 55], [44], [85, 96, 1025, 453, 66], 123, 55, 1456, [5]]\n",
    "sumofnested = 0\n",
    "SumOfNested(my_list)\n",
    "print(sumofnested)"
   ]
  },
  {
   "cell_type": "markdown",
   "metadata": {},
   "source": [
    "17.Python Program to Find the Length of a List Using Recursion"
   ]
  },
  {
   "cell_type": "code",
   "execution_count": 84,
   "metadata": {},
   "outputs": [
    {
     "name": "stdout",
     "output_type": "stream",
     "text": [
      "Enter elements of the list separated by space: as fdkjl ope e0ri al sldkf cjv\n",
      "['as', 'fdkjl', 'ope', 'e0ri', 'al', 'sldkf', 'cjv']\n",
      "Length of the list is 7\n"
     ]
    }
   ],
   "source": [
    "def length(my_list):\n",
    "    global lengthoflist\n",
    "    if not my_list:\n",
    "        return\n",
    "    else:\n",
    "        lengthoflist += 1\n",
    "        return length(my_list[1:])\n",
    "my_list = input(\"Enter elements of the list separated by space: \").split()\n",
    "lengthoflist = 0\n",
    "length(my_list)\n",
    "print(my_list)\n",
    "print(\"Length of the list is {}\".format(lengthoflist))"
   ]
  }
 ],
 "metadata": {
  "kernelspec": {
   "display_name": "Python 3",
   "language": "python",
   "name": "python3"
  },
  "language_info": {
   "codemirror_mode": {
    "name": "ipython",
    "version": 3
   },
   "file_extension": ".py",
   "mimetype": "text/x-python",
   "name": "python",
   "nbconvert_exporter": "python",
   "pygments_lexer": "ipython3",
   "version": "3.8.5"
  }
 },
 "nbformat": 4,
 "nbformat_minor": 2
}
