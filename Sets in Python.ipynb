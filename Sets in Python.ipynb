{
 "cells": [
  {
   "cell_type": "markdown",
   "id": "right-scott",
   "metadata": {},
   "source": [
    "# Sets in Python"
   ]
  },
  {
   "cell_type": "markdown",
   "id": "complex-carolina",
   "metadata": {},
   "source": [
    "* `What is a set?`"
   ]
  },
  {
   "cell_type": "markdown",
   "id": "material-dependence",
   "metadata": {},
   "source": [
    "A set is one of the four built-in data structures in Python."
   ]
  },
  {
   "cell_type": "markdown",
   "id": "excellent-electric",
   "metadata": {},
   "source": [
    "Sets are used to store multiple items in a single variable."
   ]
  },
  {
   "cell_type": "markdown",
   "id": "expected-stick",
   "metadata": {},
   "source": [
    "It is unordered and unindexed."
   ]
  },
  {
   "cell_type": "markdown",
   "id": "growing-transportation",
   "metadata": {},
   "source": [
    "It cannot contain duplicate values."
   ]
  },
  {
   "cell_type": "markdown",
   "id": "organized-nerve",
   "metadata": {},
   "source": [
    "* `Delcaring a Set.`"
   ]
  },
  {
   "cell_type": "code",
   "execution_count": 14,
   "id": "dimensional-slovakia",
   "metadata": {},
   "outputs": [
    {
     "name": "stdout",
     "output_type": "stream",
     "text": [
      "{'Tuesday', 'Sunday', 'Wednesday', 'Saturday', 'Thursday', 'Friday', 'Monday'}\n",
      "{'Tuesday', 'Sunday', 'Wednesday', 'Saturday', 'Thursday', 'Friday', 'Monday'}\n"
     ]
    }
   ],
   "source": [
    "myset = {'Monday', 'Tuesday', 'Wednesday', 'Thursday', 'Friday', 'Saturday', 'Sunday'}\n",
    "newset = set(['Monday', 'Tuesday', 'Wednesday', 'Thursday', 'Friday', 'Saturday', 'Sunday'])\n",
    "print(myset)\n",
    "print(newset)"
   ]
  },
  {
   "cell_type": "markdown",
   "id": "virgin-candy",
   "metadata": {},
   "source": [
    "* `Declaring an empty Set.`"
   ]
  },
  {
   "cell_type": "code",
   "execution_count": 15,
   "id": "provincial-andorra",
   "metadata": {},
   "outputs": [],
   "source": [
    "emptyset = {} # creates an empty dictionary\n",
    "emptyset = set() # creates an empty set"
   ]
  },
  {
   "cell_type": "markdown",
   "id": "searching-mexico",
   "metadata": {},
   "source": [
    "* `Accessing elements of a Set.`"
   ]
  },
  {
   "cell_type": "code",
   "execution_count": 16,
   "id": "whole-carnival",
   "metadata": {},
   "outputs": [
    {
     "name": "stdout",
     "output_type": "stream",
     "text": [
      "Tuesday\n",
      "Sunday\n",
      "Wednesday\n",
      "Saturday\n",
      "Thursday\n",
      "Friday\n",
      "Monday\n"
     ]
    }
   ],
   "source": [
    "for i in myset:\n",
    "    print(i)"
   ]
  },
  {
   "cell_type": "markdown",
   "id": "frank-delhi",
   "metadata": {},
   "source": [
    "* `Adding items into a Set.`"
   ]
  },
  {
   "cell_type": "code",
   "execution_count": 17,
   "id": "distant-labor",
   "metadata": {},
   "outputs": [
    {
     "name": "stdout",
     "output_type": "stream",
     "text": [
      "{'Tuesday', 'Sunday', 'Wednesday', 'Saturday', 'Thursday', 'Friday', 'Monday'}\n",
      "{'Tuesday', 'Sunday', 'Wednesday', 'Saturday', 'Thursday', 'January', 'Friday', 'Monday'}\n"
     ]
    }
   ],
   "source": [
    "print(myset)\n",
    "myset.add('January') # For adding single element to the Set.\n",
    "print(myset)"
   ]
  },
  {
   "cell_type": "code",
   "execution_count": 18,
   "id": "tested-disney",
   "metadata": {},
   "outputs": [
    {
     "name": "stdout",
     "output_type": "stream",
     "text": [
      "{'May', 'March', 'June', 'Tuesday', 'Sunday', 'Wednesday', 'Saturday', 'April', 'Thursday', 'July', 'January', 'February', 'Friday', 'Monday'}\n"
     ]
    }
   ],
   "source": [
    "myset.update(['February', 'March', 'April']) # For adding more than one element to the Set.\n",
    "myset.update(['May'], ['June', 'July']) \n",
    "print(myset)"
   ]
  },
  {
   "cell_type": "markdown",
   "id": "quiet-median",
   "metadata": {},
   "source": [
    "* `Removing items from the Set.`"
   ]
  },
  {
   "cell_type": "code",
   "execution_count": 19,
   "id": "photographic-nancy",
   "metadata": {},
   "outputs": [
    {
     "name": "stdout",
     "output_type": "stream",
     "text": [
      "{'March', 'Tuesday', 'Sunday', 'Wednesday', 'Saturday', 'April', 'Thursday', 'January', 'February', 'Friday', 'Monday'}\n"
     ]
    }
   ],
   "source": [
    "myset.remove('May') # will raise an error if 'May' is not present in the Set.\n",
    "myset.discard('June') # will ignore if 'June' is not present in the Set.\n",
    "myset.discard('July')\n",
    "print(myset)"
   ]
  },
  {
   "cell_type": "markdown",
   "id": "wicked-compensation",
   "metadata": {},
   "source": [
    "* `Union of Sets.`"
   ]
  },
  {
   "cell_type": "code",
   "execution_count": 20,
   "id": "dominant-testament",
   "metadata": {},
   "outputs": [
    {
     "name": "stdout",
     "output_type": "stream",
     "text": [
      "{'Wednesday', 'Tuesday', 'Monday'}\n",
      "{'Sunday', 'Saturday', 'Friday', 'Thursday'}\n"
     ]
    }
   ],
   "source": [
    "daysA = set(['Monday', 'Tuesday', 'Wednesday'])\n",
    "daysB = set(['Thursday', 'Friday', 'Saturday', 'Sunday'])\n",
    "print(daysA)\n",
    "print(daysB)"
   ]
  },
  {
   "cell_type": "code",
   "execution_count": 21,
   "id": "fifth-workshop",
   "metadata": {},
   "outputs": [
    {
     "name": "stdout",
     "output_type": "stream",
     "text": [
      "{'Wednesday', 'Saturday', 'Tuesday', 'Thursday', 'Sunday', 'Friday', 'Monday'}\n",
      "{'Wednesday', 'Saturday', 'Tuesday', 'Thursday', 'Sunday', 'Friday', 'Monday'}\n"
     ]
    }
   ],
   "source": [
    "print(daysA.union(daysB)) # returns a set which is the union of two Sets.\n",
    "print(daysA | daysB)"
   ]
  },
  {
   "cell_type": "markdown",
   "id": "listed-mailing",
   "metadata": {},
   "source": [
    "* `Intersection of Sets.`"
   ]
  },
  {
   "cell_type": "code",
   "execution_count": 22,
   "id": "alien-spelling",
   "metadata": {},
   "outputs": [
    {
     "name": "stdout",
     "output_type": "stream",
     "text": [
      "set()\n",
      "{'Saturday', 'Sunday'}\n"
     ]
    }
   ],
   "source": [
    "daysC = {'Saturday', 'Sunday'}\n",
    "print(daysA.intersection(daysB)) # returns a set which is the intersection of two Sets.\n",
    "print(daysB & daysC)"
   ]
  },
  {
   "cell_type": "markdown",
   "id": "unlikely-fraud",
   "metadata": {},
   "source": [
    "* `Difference between two Sets.`"
   ]
  },
  {
   "cell_type": "code",
   "execution_count": 23,
   "id": "paperback-weekend",
   "metadata": {},
   "outputs": [
    {
     "name": "stdout",
     "output_type": "stream",
     "text": [
      "set()\n",
      "{'Saturday', 'Sunday', 'Thursday', 'Friday'}\n"
     ]
    }
   ],
   "source": [
    "daysA = set(['Monday', 'Tuesday', 'Wednesday'])\n",
    "daysB = set(['Monday', 'Tuesday', 'Wednesday', 'Thursday', 'Friday', 'Saturday', 'Sunday'])\n",
    "print(daysA.difference(daysB)) # displays the elements which are present in A but not in B\n",
    "print(daysB - daysA) "
   ]
  },
  {
   "cell_type": "code",
   "execution_count": 24,
   "id": "labeled-investment",
   "metadata": {},
   "outputs": [
    {
     "name": "stdout",
     "output_type": "stream",
     "text": [
      "{'Saturday', 'Thursday', 'Sunday', 'Friday'}\n"
     ]
    }
   ],
   "source": [
    "print(daysA.symmetric_difference(daysB))"
   ]
  },
  {
   "cell_type": "markdown",
   "id": "specialized-bangladesh",
   "metadata": {},
   "source": [
    "* `Examples where Set can be used`"
   ]
  },
  {
   "cell_type": "markdown",
   "id": "consolidated-scanning",
   "metadata": {},
   "source": [
    "To display distinct characters present in a string."
   ]
  },
  {
   "cell_type": "code",
   "execution_count": 25,
   "id": "outside-newport",
   "metadata": {},
   "outputs": [
    {
     "name": "stdout",
     "output_type": "stream",
     "text": [
      "['S', 'h', 'a', 'n', 't', 'u']\n"
     ]
    }
   ],
   "source": [
    "string = 'Shantanu'\n",
    "mylist = []\n",
    "for i in string:\n",
    "    if i not in mylist:\n",
    "        mylist.append(i)\n",
    "print(mylist)"
   ]
  },
  {
   "cell_type": "code",
   "execution_count": 26,
   "id": "crucial-renaissance",
   "metadata": {},
   "outputs": [
    {
     "name": "stdout",
     "output_type": "stream",
     "text": [
      "{'u', 'S', 't', 'a', 'h', 'n'}\n"
     ]
    }
   ],
   "source": [
    "print(set(string))"
   ]
  },
  {
   "cell_type": "markdown",
   "id": "diagnostic-blackberry",
   "metadata": {},
   "source": [
    "To display the characters which are common in two strings."
   ]
  },
  {
   "cell_type": "code",
   "execution_count": 27,
   "id": "elegant-accordance",
   "metadata": {},
   "outputs": [
    {
     "name": "stdout",
     "output_type": "stream",
     "text": [
      "['d', 's', 'a', 'y']\n"
     ]
    }
   ],
   "source": [
    "str1 = 'Wednesday'\n",
    "str2 = 'Thursday'\n",
    "\n",
    "common = []\n",
    "for i in str1:\n",
    "    if i in str2 and i not in common:\n",
    "        common.append(i)\n",
    "print(common)"
   ]
  },
  {
   "cell_type": "code",
   "execution_count": 28,
   "id": "educational-convention",
   "metadata": {},
   "outputs": [
    {
     "name": "stdout",
     "output_type": "stream",
     "text": [
      "{'y', 'd', 'a', 's'}\n"
     ]
    }
   ],
   "source": [
    "print(set(str1) & set(str2))"
   ]
  },
  {
   "cell_type": "markdown",
   "id": "cardiac-clinic",
   "metadata": {},
   "source": [
    "To display the difference between two strings."
   ]
  },
  {
   "cell_type": "code",
   "execution_count": 29,
   "id": "altered-asthma",
   "metadata": {},
   "outputs": [
    {
     "name": "stdout",
     "output_type": "stream",
     "text": [
      "['W', 'e', 'n', 'T', 'h', 'u', 'r']\n"
     ]
    }
   ],
   "source": [
    "str1 = 'Wednesday'\n",
    "str2 = 'Thursday'\n",
    "\n",
    "diff = []\n",
    "\n",
    "for i in str1:\n",
    "    if i not in diff and i not in str2:\n",
    "        diff.append(i)\n",
    "for i in str2:\n",
    "    if i not in diff and i not in str1:\n",
    "        diff.append(i)\n",
    "print(diff)"
   ]
  },
  {
   "cell_type": "code",
   "execution_count": 30,
   "id": "remarkable-import",
   "metadata": {},
   "outputs": [
    {
     "name": "stdout",
     "output_type": "stream",
     "text": [
      "{'u', 'W', 'r', 'e', 'h', 'n', 'T'}\n"
     ]
    }
   ],
   "source": [
    "print(set(str1).symmetric_difference(str2))"
   ]
  }
 ],
 "metadata": {
  "kernelspec": {
   "display_name": "Python 3",
   "language": "python",
   "name": "python3"
  },
  "language_info": {
   "codemirror_mode": {
    "name": "ipython",
    "version": 3
   },
   "file_extension": ".py",
   "mimetype": "text/x-python",
   "name": "python",
   "nbconvert_exporter": "python",
   "pygments_lexer": "ipython3",
   "version": "3.8.5"
  }
 },
 "nbformat": 4,
 "nbformat_minor": 5
}
