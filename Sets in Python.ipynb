{
 "cells": [
  {
   "cell_type": "markdown",
   "id": "right-scott",
   "metadata": {},
   "source": [
    "# Sets in Python"
   ]
  },
  {
   "cell_type": "markdown",
   "id": "complex-carolina",
   "metadata": {},
   "source": [
    "* `What is a set?`"
   ]
  },
  {
   "cell_type": "markdown",
   "id": "material-dependence",
   "metadata": {},
   "source": [
    "A set is one of the four built-in data structures in Python."
   ]
  },
  {
   "cell_type": "markdown",
   "id": "excellent-electric",
   "metadata": {},
   "source": [
    "Sets are used to store multiple items in a single variable."
   ]
  },
  {
   "cell_type": "markdown",
   "id": "expected-stick",
   "metadata": {},
   "source": [
    "It is unordered and unindexed."
   ]
  },
  {
   "cell_type": "markdown",
   "id": "growing-transportation",
   "metadata": {},
   "source": [
    "It cannot contain duplicate values."
   ]
  },
  {
   "cell_type": "markdown",
   "id": "organized-nerve",
   "metadata": {},
   "source": [
    "* `Delcaring a Set.`"
   ]
  },
  {
   "cell_type": "code",
   "execution_count": 29,
   "id": "dimensional-slovakia",
   "metadata": {},
   "outputs": [
    {
     "name": "stdout",
     "output_type": "stream",
     "text": [
      "{'Wednesday', 'Monday', 'Thursday', 'Friday', 'Saturday', 'Sunday', 'Tuesday'}\n",
      "{'Wednesday', 'Monday', 'Thursday', 'Friday', 'Saturday', 'Sunday', 'Tuesday'}\n"
     ]
    }
   ],
   "source": [
    "myset = {'Monday', 'Tuesday', 'Wednesday', 'Thursday', 'Friday', 'Saturday', 'Sunday'}\n",
    "newset = set(['Monday', 'Tuesday', 'Wednesday', 'Thursday', 'Friday', 'Saturday', 'Sunday'])\n",
    "print(myset)\n",
    "print(newset)"
   ]
  },
  {
   "cell_type": "markdown",
   "id": "virgin-candy",
   "metadata": {},
   "source": [
    "* `Declaring an empty Set.`"
   ]
  },
  {
   "cell_type": "code",
   "execution_count": 30,
   "id": "provincial-andorra",
   "metadata": {},
   "outputs": [],
   "source": [
    "emptyset = {} # creates an empty dictionary\n",
    "emptyset = set() # creates an empty set"
   ]
  },
  {
   "cell_type": "markdown",
   "id": "searching-mexico",
   "metadata": {},
   "source": [
    "* `Accessing elements of a Set.`"
   ]
  },
  {
   "cell_type": "code",
   "execution_count": 31,
   "id": "whole-carnival",
   "metadata": {},
   "outputs": [
    {
     "name": "stdout",
     "output_type": "stream",
     "text": [
      "Wednesday\n",
      "Monday\n",
      "Thursday\n",
      "Friday\n",
      "Saturday\n",
      "Sunday\n",
      "Tuesday\n"
     ]
    }
   ],
   "source": [
    "for i in myset:\n",
    "    print(i)"
   ]
  },
  {
   "cell_type": "markdown",
   "id": "frank-delhi",
   "metadata": {},
   "source": [
    "* `Adding items into a Set.`"
   ]
  },
  {
   "cell_type": "code",
   "execution_count": 32,
   "id": "distant-labor",
   "metadata": {},
   "outputs": [
    {
     "name": "stdout",
     "output_type": "stream",
     "text": [
      "{'Wednesday', 'Monday', 'Thursday', 'Friday', 'Saturday', 'Sunday', 'Tuesday'}\n",
      "{'Wednesday', 'January', 'Monday', 'Thursday', 'Friday', 'Saturday', 'Sunday', 'Tuesday'}\n"
     ]
    }
   ],
   "source": [
    "print(myset)\n",
    "myset.add('January') # For adding single element to the Set.\n",
    "print(myset)"
   ]
  },
  {
   "cell_type": "code",
   "execution_count": 33,
   "id": "tested-disney",
   "metadata": {},
   "outputs": [
    {
     "name": "stdout",
     "output_type": "stream",
     "text": [
      "{'Wednesday', 'January', 'June', 'July', 'Monday', 'Thursday', 'Friday', 'Saturday', 'February', 'April', 'Sunday', 'May', 'March', 'Tuesday'}\n"
     ]
    }
   ],
   "source": [
    "myset.update(['February', 'March', 'April']) # For adding more than one element to the Set.\n",
    "myset.update(['May'], ['June', 'July']) \n",
    "print(myset)"
   ]
  },
  {
   "cell_type": "markdown",
   "id": "quiet-median",
   "metadata": {},
   "source": [
    "* `Removing items from the Set.`"
   ]
  },
  {
   "cell_type": "code",
   "execution_count": 34,
   "id": "photographic-nancy",
   "metadata": {},
   "outputs": [
    {
     "name": "stdout",
     "output_type": "stream",
     "text": [
      "{'Wednesday', 'January', 'Monday', 'Thursday', 'Friday', 'Saturday', 'February', 'April', 'Sunday', 'March', 'Tuesday'}\n"
     ]
    }
   ],
   "source": [
    "myset.remove('May') # will raise an error if 'May' is not present in the Set.\n",
    "myset.discard('June') # will ignore if 'June' is not present in the Set.\n",
    "myset.discard('July')\n",
    "print(myset)"
   ]
  },
  {
   "cell_type": "markdown",
   "id": "wicked-compensation",
   "metadata": {},
   "source": [
    "* `Union of Sets.`"
   ]
  },
  {
   "cell_type": "code",
   "execution_count": 35,
   "id": "dominant-testament",
   "metadata": {},
   "outputs": [
    {
     "name": "stdout",
     "output_type": "stream",
     "text": [
      "{'Wednesday', 'Tuesday', 'Monday'}\n",
      "{'Friday', 'Saturday', 'Thursday', 'Sunday'}\n"
     ]
    }
   ],
   "source": [
    "daysA = set(['Monday', 'Tuesday', 'Wednesday'])\n",
    "daysB = set(['Thursday', 'Friday', 'Saturday', 'Sunday'])\n",
    "print(daysA)\n",
    "print(daysB)"
   ]
  },
  {
   "cell_type": "code",
   "execution_count": 36,
   "id": "fifth-workshop",
   "metadata": {},
   "outputs": [
    {
     "name": "stdout",
     "output_type": "stream",
     "text": [
      "{'Friday', 'Saturday', 'Sunday', 'Thursday', 'Wednesday', 'Tuesday', 'Monday'}\n",
      "{'Friday', 'Saturday', 'Sunday', 'Thursday', 'Wednesday', 'Tuesday', 'Monday'}\n"
     ]
    }
   ],
   "source": [
    "print(daysA.union(daysB)) # returns a set which is the union of two Sets.\n",
    "print(daysA | daysB)"
   ]
  },
  {
   "cell_type": "markdown",
   "id": "listed-mailing",
   "metadata": {},
   "source": [
    "* `Intersection of Sets.`"
   ]
  },
  {
   "cell_type": "code",
   "execution_count": 37,
   "id": "alien-spelling",
   "metadata": {},
   "outputs": [
    {
     "name": "stdout",
     "output_type": "stream",
     "text": [
      "set()\n",
      "{'Saturday', 'Sunday'}\n"
     ]
    }
   ],
   "source": [
    "daysC = {'Saturday', 'Sunday'}\n",
    "print(daysA.intersection(daysB)) # returns a set which is the intersection of two Sets.\n",
    "print(daysB & daysC)"
   ]
  },
  {
   "cell_type": "markdown",
   "id": "unlikely-fraud",
   "metadata": {},
   "source": [
    "* `Comparison of Sets.`"
   ]
  },
  {
   "cell_type": "code",
   "execution_count": 38,
   "id": "paperback-weekend",
   "metadata": {},
   "outputs": [
    {
     "name": "stdout",
     "output_type": "stream",
     "text": [
      "True\n",
      "True\n"
     ]
    }
   ],
   "source": [
    "daysA = set(['Monday', 'Tuesday', 'Wednesday'])\n",
    "daysB = set(['Monday', 'Tuesday', 'Wednesday', 'Thursday', 'Friday', 'Saturday', 'Sunday'])\n",
    "print(daysA <= daysB) # Checking if A is subset of B\n",
    "print(daysB >= daysA) # Checking if B is superset of A"
   ]
  },
  {
   "cell_type": "markdown",
   "id": "specialized-bangladesh",
   "metadata": {},
   "source": [
    "* `Examples where Set can be used`"
   ]
  },
  {
   "cell_type": "markdown",
   "id": "consolidated-scanning",
   "metadata": {},
   "source": [
    "To display distinct characters present in a string."
   ]
  },
  {
   "cell_type": "code",
   "execution_count": 39,
   "id": "outside-newport",
   "metadata": {},
   "outputs": [
    {
     "name": "stdout",
     "output_type": "stream",
     "text": [
      "['S', 'h', 'a', 'n', 't', 'u']\n"
     ]
    }
   ],
   "source": [
    "string = 'Shantanu'\n",
    "mylist = []\n",
    "for i in string:\n",
    "    if i not in mylist:\n",
    "        mylist.append(i)\n",
    "print(mylist)"
   ]
  },
  {
   "cell_type": "code",
   "execution_count": 40,
   "id": "crucial-renaissance",
   "metadata": {},
   "outputs": [
    {
     "name": "stdout",
     "output_type": "stream",
     "text": [
      "{'n', 'u', 'S', 't', 'h', 'a'}\n"
     ]
    }
   ],
   "source": [
    "print(set(string))"
   ]
  },
  {
   "cell_type": "markdown",
   "id": "diagnostic-blackberry",
   "metadata": {},
   "source": [
    "To display the characters which are common in two strings."
   ]
  },
  {
   "cell_type": "code",
   "execution_count": 41,
   "id": "elegant-accordance",
   "metadata": {},
   "outputs": [
    {
     "name": "stdout",
     "output_type": "stream",
     "text": [
      "['d', 's', 'a', 'y']\n"
     ]
    }
   ],
   "source": [
    "str1 = 'Wednesday'\n",
    "str2 = 'Thursday'\n",
    "\n",
    "common = []\n",
    "for i in str1:\n",
    "    if i in str2 and i not in common:\n",
    "        common.append(i)\n",
    "print(common)"
   ]
  },
  {
   "cell_type": "code",
   "execution_count": 42,
   "id": "educational-convention",
   "metadata": {},
   "outputs": [
    {
     "name": "stdout",
     "output_type": "stream",
     "text": [
      "{'y', 's', 'a', 'd'}\n"
     ]
    }
   ],
   "source": [
    "print(set(str1) & set(str2))"
   ]
  }
 ],
 "metadata": {
  "kernelspec": {
   "display_name": "Python 3",
   "language": "python",
   "name": "python3"
  },
  "language_info": {
   "codemirror_mode": {
    "name": "ipython",
    "version": 3
   },
   "file_extension": ".py",
   "mimetype": "text/x-python",
   "name": "python",
   "nbconvert_exporter": "python",
   "pygments_lexer": "ipython3",
   "version": "3.8.5"
  }
 },
 "nbformat": 4,
 "nbformat_minor": 5
}
