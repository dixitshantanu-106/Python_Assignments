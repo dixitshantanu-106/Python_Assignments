{
 "cells": [
  {
   "cell_type": "markdown",
   "metadata": {},
   "source": [
    "1. Write a Python function IterateLogistic() that takes three parameters: Two real numbers and an integer. Interpret the first two as the current state and the control parameter value for the one-dimensional map: f(x) = r x (1 - x). The function should return the state after the given number of iterations, which is the third parameter. "
   ]
  },
  {
   "cell_type": "code",
   "execution_count": 1,
   "metadata": {},
   "outputs": [
    {
     "name": "stdout",
     "output_type": "stream",
     "text": [
      "512.8\n"
     ]
    }
   ],
   "source": [
    "def IterateLogistic(x, r, n):\n",
    "    for i in range(n):\n",
    "        x = r * (1 - x)\n",
    "    return x\n",
    "print(IterateLogistic(0.3, 4.0, 5))"
   ]
  },
  {
   "cell_type": "markdown",
   "metadata": {},
   "source": [
    "2. Experimental data: Write a Python program LogisticData.py that generates 10 data files, each with 50 logistic map iterates, at map parameter r = 4.0. Each line in the files should list the iteration number n and then the iteration value xn. Start each program run with a different initial condition x0. The initial conditions should be close: Use x0 = 0.3 + deltai, where deltai = i * 0.00005, i = 0, 1, 2, 3, ..., 9. Name the 10 files \"data1\" to \"data10\"."
   ]
  },
  {
   "cell_type": "code",
   "execution_count": 2,
   "metadata": {},
   "outputs": [],
   "source": [
    "def IterateLogistic(x, r):\n",
    "    return r * (1 - x)\n",
    "\n",
    "names = [\"data1\",\"data2\",\"data3\",\"data4\",\"data5\",\"data6\",\"data7\",\"data8\",\"data9\",\"data10\"]\n",
    "for i in range(10):\n",
    "    x = 0.3 + i * 0.00005\n",
    "    myfile = open(names[i], 'w')\n",
    "    for k in range(50):\n",
    "        x = IterateLogistic(x, 4.0)\n",
    "        myfile.write(str(k + 1) + \": \" + str(x) + '\\n')\n",
    "    else:\n",
    "        myfile.close()\n",
    "        \n",
    "    "
   ]
  },
  {
   "cell_type": "markdown",
   "metadata": {},
   "source": [
    "3. Write a Python module MatrixIO.py containing two functions. One function should read a file containing a text representation of a matrix; that is, a certain number of lines each containing the same number of numbers separated by spaces. The function should return an array containing this data. Note that the function should work for matrices of any size. The second function should do the inverse: write a matrix of any size to a text file. Use these in a Python program MatrixReadWrite.py that reads in file data7 from the previous exercise and then writes it out to a file data7.out."
   ]
  },
  {
   "cell_type": "code",
   "execution_count": 4,
   "metadata": {},
   "outputs": [],
   "source": [
    "import MatrixIO\n",
    "\n",
    "array = MatrixIO.readMatrix('matrix')\n",
    "MatrixIO.writeMatrix(array, 'matrixout')"
   ]
  },
  {
   "cell_type": "markdown",
   "metadata": {},
   "source": [
    "4. Processing experimental data: Recall that each line in the data files you just generated has an iteration number and then a state value. Assume that all files have the same length and that these time values agree line by line. Write a Python program MaxSeparation.py that produces another time series consisting of lines with iteration number and d_max, where d_max is the largest distance between all pairs of states taken from the different files at the same iteration number. Store this new times series in a file."
   ]
  },
  {
   "cell_type": "code",
   "execution_count": null,
   "metadata": {},
   "outputs": [],
   "source": []
  }
 ],
 "metadata": {
  "kernelspec": {
   "display_name": "Python 3",
   "language": "python",
   "name": "python3"
  },
  "language_info": {
   "codemirror_mode": {
    "name": "ipython",
    "version": 3
   },
   "file_extension": ".py",
   "mimetype": "text/x-python",
   "name": "python",
   "nbconvert_exporter": "python",
   "pygments_lexer": "ipython3",
   "version": "3.8.5"
  }
 },
 "nbformat": 4,
 "nbformat_minor": 2
}
