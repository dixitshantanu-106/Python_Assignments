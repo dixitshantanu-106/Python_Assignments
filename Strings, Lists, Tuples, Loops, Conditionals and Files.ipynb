{
 "cells": [
  {
   "cell_type": "markdown",
   "metadata": {},
   "source": [
    "1. Write a program GetGA.py that uses the GettheAddresses.txt to grab a text file containing the\n",
    "Gettysburg Address. Have the program write this to a file named ga.txt."
   ]
  },
  {
   "cell_type": "code",
   "execution_count": 7,
   "metadata": {},
   "outputs": [],
   "source": [
    "myfile = open('GettheAdresses.txt', 'r')\n",
    "data = myfile.read()\n",
    "newfile = open('ga.txt', 'w')\n",
    "newfile.write(data)\n",
    "myfile.close()\n",
    "newfile.close()"
   ]
  },
  {
   "cell_type": "markdown",
   "metadata": {},
   "source": [
    "2. Write a program WordLineCounts.py that counts the number of lines and words in ga.txt,\n",
    "printing the resulting counts to the terminal. Annotate the output so that it is understandable:"
   ]
  },
  {
   "cell_type": "code",
   "execution_count": 9,
   "metadata": {},
   "outputs": [
    {
     "name": "stdout",
     "output_type": "stream",
     "text": [
      "The file has 254 words and 27 lines\n"
     ]
    }
   ],
   "source": [
    "myfile = open('ga.txt', 'r')\n",
    "data = myfile.read()\n",
    "words = 0\n",
    "lines = 0\n",
    "for i in data:\n",
    "    if i == ' ':\n",
    "        words += 1\n",
    "    if i == '\\n':\n",
    "        lines += 1\n",
    "print('The file has {} words and {} lines'.format(words, lines))\n",
    "myfile.close()"
   ]
  },
  {
   "cell_type": "markdown",
   "metadata": {},
   "source": [
    "3. Write a program VowelCounts.py that reads in ga.txt and counts the number of each kind of\n",
    "vowel, printing the results for each vowel to the terminal. Annotate the output so that it is\n",
    "understandable."
   ]
  },
  {
   "cell_type": "code",
   "execution_count": 13,
   "metadata": {},
   "outputs": [
    {
     "name": "stdout",
     "output_type": "stream",
     "text": [
      "{'o': 93, 'u': 21, 'e': 165, 'a': 102, 'i': 68}\n"
     ]
    }
   ],
   "source": [
    "myfile = open('ga.txt', 'r')\n",
    "data = myfile.read()\n",
    "vowels = {}\n",
    "vowel = ['a', 'e', 'i', 'o', 'u']\n",
    "for i in data:\n",
    "    if i.lower() in vowel and i.lower() not in vowels:\n",
    "        vowels[i.lower()] = 1\n",
    "    elif i.lower() in vowel and i.lower() in vowels:\n",
    "        vowels[i.lower()] += 1\n",
    "print(vowels)\n",
    "myfile.close()"
   ]
  },
  {
   "cell_type": "markdown",
   "metadata": {},
   "source": [
    "4. Write a program SortFile.py that reads in and alphabetically sorts the lines (not individual\n",
    "words) in ga.txt and outputs those lines to a new file ga_sorted.txt."
   ]
  },
  {
   "cell_type": "code",
   "execution_count": 19,
   "metadata": {},
   "outputs": [],
   "source": [
    "myfile = open('ga.txt', 'r')\n",
    "data = myfile.read()\n",
    "sortedlines = []\n",
    "line = ''\n",
    "for i in data:\n",
    "    if i == '\\n':\n",
    "        sortedlines.append(line)\n",
    "        line = ''\n",
    "    else:\n",
    "        line += i\n",
    "myfile.close()\n",
    "sortedlines.sort()\n",
    "myfile = open('ga_sorted.txt', 'w')\n",
    "for i in sortedlines:\n",
    "    myfile.write(i + '\\n')\n",
    "myfile.close()"
   ]
  },
  {
   "cell_type": "markdown",
   "metadata": {},
   "source": [
    "5. Iterate a chaotic one-dimensional map: Write a program OneDMapIterate.py that iterates the\n",
    "function f(x) = 4.0 x ( 1 - x ). First, set the initial condition x = 0.3. Then apply f(x) repeatedly to\n",
    "each new x. Iterate for 100 steps, printing on each line the iteration number and the successive\n",
    "x values to file onedmap.txt."
   ]
  },
  {
   "cell_type": "code",
   "execution_count": null,
   "metadata": {},
   "outputs": [],
   "source": []
  }
 ],
 "metadata": {
  "kernelspec": {
   "display_name": "Python 3",
   "language": "python",
   "name": "python3"
  },
  "language_info": {
   "codemirror_mode": {
    "name": "ipython",
    "version": 3
   },
   "file_extension": ".py",
   "mimetype": "text/x-python",
   "name": "python",
   "nbconvert_exporter": "python",
   "pygments_lexer": "ipython3",
   "version": "3.8.5"
  }
 },
 "nbformat": 4,
 "nbformat_minor": 2
}
