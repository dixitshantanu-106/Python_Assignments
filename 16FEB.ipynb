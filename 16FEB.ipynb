{
 "cells": [
  {
   "cell_type": "code",
   "execution_count": 31,
   "id": "unexpected-banks",
   "metadata": {},
   "outputs": [
    {
     "name": "stdout",
     "output_type": "stream",
     "text": [
      "\"((a+b)*c(a/h)-d)\"\n",
      "True\n"
     ]
    }
   ],
   "source": [
    "def match(string):\n",
    "    if string[0] == ')':\n",
    "        return False\n",
    "    new = []\n",
    "    for i in string:\n",
    "        if i == '(':\n",
    "            new.append(i)\n",
    "        elif i == ')':\n",
    "            if new:\n",
    "                new.pop()\n",
    "            else:\n",
    "                return False\n",
    "    if new:\n",
    "        return False\n",
    "    else:\n",
    "        return True\n",
    "\n",
    "string = input()\n",
    "print(match(string))"
   ]
  },
  {
   "cell_type": "code",
   "execution_count": 38,
   "id": "pressed-fraud",
   "metadata": {},
   "outputs": [],
   "source": [
    "def descending(l):\n",
    "    if not l:\n",
    "        return True\n",
    "    if sorted(l, reverse=True) == l:\n",
    "        return True\n",
    "    return False"
   ]
  },
  {
   "cell_type": "code",
   "execution_count": 40,
   "id": "little-stream",
   "metadata": {},
   "outputs": [
    {
     "name": "stdout",
     "output_type": "stream",
     "text": [
      "\n",
      "True\n"
     ]
    }
   ],
   "source": [
    "print(descending(input().split()))"
   ]
  },
  {
   "cell_type": "code",
   "execution_count": 42,
   "id": "western-trouble",
   "metadata": {},
   "outputs": [
    {
     "name": "stdout",
     "output_type": "stream",
     "text": [
      "4 4 3\n",
      "True\n"
     ]
    }
   ],
   "source": [
    "print(descending(input().split()))"
   ]
  },
  {
   "cell_type": "code",
   "execution_count": 43,
   "id": "neutral-socket",
   "metadata": {},
   "outputs": [
    {
     "name": "stdout",
     "output_type": "stream",
     "text": [
      "19 17 18 7\n",
      "False\n"
     ]
    }
   ],
   "source": [
    "print(descending(input().split()))"
   ]
  },
  {
   "cell_type": "code",
   "execution_count": 81,
   "id": "emotional-russian",
   "metadata": {},
   "outputs": [],
   "source": [
    "import math\n",
    "def valley(path):\n",
    "    if len(path) < 4:\n",
    "        return False\n",
    "    first = path[:math.ceil(len(path)/2)]\n",
    "    second = path[int(len(path)/2):]\n",
    "    if (sorted(first, reverse=True) == first) and (sorted(second) == second) and (second[0] == first[-1]):\n",
    "        return True\n",
    "    else:\n",
    "        return False"
   ]
  },
  {
   "cell_type": "code",
   "execution_count": 82,
   "id": "downtown-senegal",
   "metadata": {},
   "outputs": [
    {
     "name": "stdout",
     "output_type": "stream",
     "text": [
      "True\n"
     ]
    }
   ],
   "source": [
    "print(valley([3,2,1,2,3]))"
   ]
  },
  {
   "cell_type": "code",
   "execution_count": 83,
   "id": "demographic-dream",
   "metadata": {},
   "outputs": [
    {
     "name": "stdout",
     "output_type": "stream",
     "text": [
      "False\n"
     ]
    }
   ],
   "source": [
    "print(valley([3,2,1]))"
   ]
  },
  {
   "cell_type": "code",
   "execution_count": 84,
   "id": "settled-happiness",
   "metadata": {},
   "outputs": [
    {
     "name": "stdout",
     "output_type": "stream",
     "text": [
      "False\n"
     ]
    }
   ],
   "source": [
    "print(valley([3,3,5,1,2]))"
   ]
  },
  {
   "cell_type": "code",
   "execution_count": null,
   "id": "another-lyric",
   "metadata": {},
   "outputs": [],
   "source": [
    "import math\n",
    "def valley(path):\n",
    "    if len(path) < 4:\n",
    "        return False\n",
    "    first = path[:math.ceil(len(path)/2)]\n",
    "    second = path[int(len(path)/2):]\n",
    "    second.reverse()\n",
    "    if (sorted(first, reverse=True) == first) and (second == first):\n",
    "        return True\n",
    "    else:\n",
    "        return False"
   ]
  },
  {
   "cell_type": "code",
   "execution_count": 2,
   "id": "composed-element",
   "metadata": {},
   "outputs": [],
   "source": [
    "myfile = open('GettheAdresses.txt', 'r')\n",
    "data = myfile.read()\n",
    "newfile = open('ga.txt', 'w')\n",
    "newfile.write(data)\n",
    "myfile.close()\n",
    "newfile.close()"
   ]
  },
  {
   "cell_type": "code",
   "execution_count": 11,
   "id": "chemical-arabic",
   "metadata": {},
   "outputs": [
    {
     "name": "stdout",
     "output_type": "stream",
     "text": [
      "The file has 278 words and 27 lines\n"
     ]
    }
   ],
   "source": [
    "myfile = open('ga.txt', 'r')\n",
    "data = myfile.read()\n",
    "words = data.split()\n",
    "lines = data.split('\\n')\n",
    "print('The file has {} words and {} lines'.format(len(words), len(lines)))\n",
    "myfile.close()"
   ]
  },
  {
   "cell_type": "code",
   "execution_count": 23,
   "id": "about-association",
   "metadata": {},
   "outputs": [
    {
     "name": "stdout",
     "output_type": "stream",
     "text": [
      "{'o': 93, 'u': 21, 'e': 165, 'a': 102, 'i': 68}\n"
     ]
    }
   ],
   "source": [
    "myfile = open('ga.txt', 'r')\n",
    "data = myfile.read()\n",
    "vowels = {}\n",
    "vowel = ['a', 'e', 'i', 'o', 'u']\n",
    "for i in data:\n",
    "    if i.lower() in vowel and i.lower() not in vowels:\n",
    "        vowels[i.lower()] = 1\n",
    "    elif i.lower() in vowel and i.lower() in vowels:\n",
    "        vowels[i.lower()] += 1\n",
    "print(vowels)\n",
    "myfile.close()"
   ]
  },
  {
   "cell_type": "code",
   "execution_count": 24,
   "id": "defined-slovakia",
   "metadata": {},
   "outputs": [],
   "source": [
    "myfile = open('ga.txt', 'r')\n",
    "data = myfile.read()\n",
    "myfile.close()\n",
    "sortedlines = data.split('\\n')\n",
    "sortedlines.sort()\n",
    "myfile = open('ga_sorted.txt', 'w')\n",
    "for i in sortedlines:\n",
    "    myfile.write(i + '\\n')\n",
    "myfile.close()"
   ]
  },
  {
   "cell_type": "code",
   "execution_count": 2,
   "id": "through-procurement",
   "metadata": {},
   "outputs": [
    {
     "name": "stdout",
     "output_type": "stream",
     "text": [
      "5\n",
      "3\n",
      "2\n",
      "5\n",
      "[(0, 0, 0), (0, 0, 1), (0, 0, 2), (0, 0, 3), (0, 0, 4), (0, 1, 0), (0, 1, 1), (0, 1, 2), (0, 1, 3), (0, 1, 5), (0, 2, 0), (0, 2, 1), (0, 2, 2), (0, 2, 4), (0, 2, 5), (1, 0, 0), (1, 0, 1), (1, 0, 2), (1, 0, 3), (1, 0, 5), (1, 1, 0), (1, 1, 1), (1, 1, 2), (1, 1, 4), (1, 1, 5), (1, 2, 0), (1, 2, 1), (1, 2, 3), (1, 2, 4), (1, 2, 5), (2, 0, 0), (2, 0, 1), (2, 0, 2), (2, 0, 4), (2, 0, 5), (2, 1, 0), (2, 1, 1), (2, 1, 3), (2, 1, 4), (2, 1, 5), (2, 2, 0), (2, 2, 2), (2, 2, 3), (2, 2, 4), (2, 2, 5), (3, 0, 0), (3, 0, 1), (3, 0, 3), (3, 0, 4), (3, 0, 5), (3, 1, 0), (3, 1, 2), (3, 1, 3), (3, 1, 4), (3, 1, 5), (3, 2, 1), (3, 2, 2), (3, 2, 3), (3, 2, 4), (3, 2, 5)]\n"
     ]
    }
   ],
   "source": [
    "n = int(input())\n",
    "x = int(input())\n",
    "y = int(input())\n",
    "z = int(input())\n",
    "\n",
    "new = [(i, j, k) for i in range(x+1) for j in range(y+1) for k in range(z+1) if (i+j+k) != n]\n",
    "print(new)"
   ]
  }
 ],
 "metadata": {
  "kernelspec": {
   "display_name": "Python 3",
   "language": "python",
   "name": "python3"
  },
  "language_info": {
   "codemirror_mode": {
    "name": "ipython",
    "version": 3
   },
   "file_extension": ".py",
   "mimetype": "text/x-python",
   "name": "python",
   "nbconvert_exporter": "python",
   "pygments_lexer": "ipython3",
   "version": "3.8.5"
  }
 },
 "nbformat": 4,
 "nbformat_minor": 5
}
