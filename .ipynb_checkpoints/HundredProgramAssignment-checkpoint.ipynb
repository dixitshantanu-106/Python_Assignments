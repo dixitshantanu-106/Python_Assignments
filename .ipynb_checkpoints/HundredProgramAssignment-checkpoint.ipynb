{
 "cells": [
  {
   "cell_type": "markdown",
   "id": "expected-popularity",
   "metadata": {},
   "source": [
    "1. Write a program which will find all such numbers which are divisible by 7 but are not a\n",
    "multiple of 5, between 2000 and 3200 (both included). The numbers obtained should be\n",
    "printed in a comma-separated sequence on a single line."
   ]
  },
  {
   "cell_type": "code",
   "execution_count": 2,
   "id": "representative-trading",
   "metadata": {},
   "outputs": [
    {
     "name": "stdout",
     "output_type": "stream",
     "text": [
      "2002,2009,2016,2023,2037,2044,2051,2058,2072,2079,2086,2093,2107,2114,2121,2128,2142,2149,2156,2163,2177,2184,2191,2198,2212,2219,2226,2233,2247,2254,2261,2268,2282,2289,2296,2303,2317,2324,2331,2338,2352,2359,2366,2373,2387,2394,2401,2408,2422,2429,2436,2443,2457,2464,2471,2478,2492,2499,2506,2513,2527,2534,2541,2548,2562,2569,2576,2583,2597,2604,2611,2618,2632,2639,2646,2653,2667,2674,2681,2688,2702,2709,2716,2723,2737,2744,2751,2758,2772,2779,2786,2793,2807,2814,2821,2828,2842,2849,2856,2863,2877,2884,2891,2898,2912,2919,2926,2933,2947,2954,2961,2968,2982,2989,2996,3003,3017,3024,3031,3038,3052,3059,3066,3073,3087,3094,3101,3108,3122,3129,3136,3143,3157,3164,3171,3178,3192,3199,"
     ]
    }
   ],
   "source": [
    "for i in range(2000, 3201):\n",
    "    if i % 7 == 0 and i % 5 != 0:\n",
    "        print(i, end = ',')"
   ]
  },
  {
   "cell_type": "markdown",
   "id": "arabic-fleece",
   "metadata": {},
   "source": [
    "2. Write a program which can compute the factorial of a given numbers. The results should be\n",
    "printed in a comma-separated sequence on a single line.\n",
    "Suppose the following input is supplied to the program: 8 Then, the output should be:\n",
    "40320"
   ]
  },
  {
   "cell_type": "code",
   "execution_count": 4,
   "id": "strategic-fields",
   "metadata": {},
   "outputs": [
    {
     "name": "stdout",
     "output_type": "stream",
     "text": [
      "Enter a number: 8\n",
      "40320\n"
     ]
    }
   ],
   "source": [
    "def fact(n):\n",
    "    if n <= 1:\n",
    "        return 1\n",
    "    else:\n",
    "        return n * fact(n - 1)\n",
    "print(fact(int(input(\"Enter a number: \"))))"
   ]
  },
  {
   "cell_type": "markdown",
   "id": "spread-windsor",
   "metadata": {},
   "source": [
    "3. With a given integral number n, write a program to generate a dictionary that contains (i, i*i)\n",
    "such that is an integral number between 1 and n (both included). and then the program\n",
    "should print the dictionary."
   ]
  },
  {
   "cell_type": "code",
   "execution_count": 6,
   "id": "japanese-functionality",
   "metadata": {},
   "outputs": [
    {
     "name": "stdout",
     "output_type": "stream",
     "text": [
      "Enter a number: 8\n",
      "{1: 1, 2: 4, 3: 9, 4: 16, 5: 25, 6: 36, 7: 49, 8: 64}\n"
     ]
    }
   ],
   "source": [
    "n = int(input(\"Enter a number: \"))\n",
    "mydict = {i: i ** 2 for i in range(1, n + 1)}\n",
    "print(mydict)"
   ]
  },
  {
   "cell_type": "markdown",
   "id": "mysterious-commodity",
   "metadata": {},
   "source": [
    "4. Write a program which accepts a sequence of comma-separated numbers from console and\n",
    "generate a list and a tuple which contains every number."
   ]
  },
  {
   "cell_type": "code",
   "execution_count": 7,
   "id": "changed-riding",
   "metadata": {},
   "outputs": [
    {
     "name": "stdout",
     "output_type": "stream",
     "text": [
      "Enter numbers separated by ',': 54,22,88,66,4\n",
      "['54', '22', '88', '66', '4']\n",
      "('54', '22', '88', '66', '4')\n"
     ]
    }
   ],
   "source": [
    "mylist = input(\"Enter numbers separated by ',': \").split(',')\n",
    "mytuple = tuple(mylist)\n",
    "print(mylist)\n",
    "print(mytuple)"
   ]
  },
  {
   "cell_type": "markdown",
   "id": "hydraulic-right",
   "metadata": {},
   "source": [
    "5. Define a class which has at least two methods:\n",
    "getString: to get a string from console input\n",
    "printString: to print the string in upper case.\n",
    "Also please include simple test function to test the class methods."
   ]
  },
  {
   "cell_type": "code",
   "execution_count": 2,
   "id": "purple-century",
   "metadata": {},
   "outputs": [
    {
     "name": "stdout",
     "output_type": "stream",
     "text": [
      "Enter a string: Shantanu\n",
      "String:  Shantanu\n"
     ]
    }
   ],
   "source": [
    "class sample:\n",
    "    def __init__(self):\n",
    "        self.string = \"\"\n",
    "    def getString(self):\n",
    "        self.string = input(\"Enter a string: \")\n",
    "    def printString(self):\n",
    "        print(\"String: \", self.string)\n",
    "s = sample()\n",
    "s.getString()\n",
    "s.printString()"
   ]
  },
  {
   "cell_type": "markdown",
   "id": "reasonable-energy",
   "metadata": {},
   "source": [
    "   6.Write a program that calculates and prints the value according to the given formula:Q = Square root of [(2 * C * D)/H]"
   ]
  },
  {
   "cell_type": "code",
   "execution_count": 15,
   "id": "progressive-punishment",
   "metadata": {},
   "outputs": [
    {
     "name": "stdout",
     "output_type": "stream",
     "text": [
      "Enter values of 'd' separated by ',': 100.3,150,180\n",
      "18,22,24,"
     ]
    }
   ],
   "source": [
    "import math\n",
    "c = 50\n",
    "h = 30\n",
    "val_d = input(\"Enter values of 'd' separated by ',': \").split(',')\n",
    "for i in val_d:\n",
    "    q = int(math.sqrt((2 * c * float(i))/ h))\n",
    "    print(q, end = ',')"
   ]
  },
  {
   "cell_type": "markdown",
   "id": "finnish-carpet",
   "metadata": {},
   "source": [
    "7. Write a program which takes 2 digits, X,Y as input and generates a 2-dimensional array. The\n",
    "element value in the i-th row and j-th column of the array should be i*j."
   ]
  },
  {
   "cell_type": "code",
   "execution_count": 26,
   "id": "assigned-landing",
   "metadata": {},
   "outputs": [
    {
     "name": "stdout",
     "output_type": "stream",
     "text": [
      "Enter the value for i and j seaprated by ',': 3,5\n",
      "[[0, 0, 0, 0, 0], [0, 1, 2, 3, 4], [0, 2, 4, 6, 8]]\n"
     ]
    }
   ],
   "source": [
    "val = input(\"Enter the value for i and j seaprated by ',': \").split(',')\n",
    "my_matrix = [[x * y for x in range(int(val[1]))] for y in range(int(val[0]))]\n",
    "print(my_matrix)"
   ]
  },
  {
   "cell_type": "markdown",
   "id": "extended-costa",
   "metadata": {},
   "source": [
    "8. Write a program that accepts a comma separated sequence of words as input and prints the\n",
    "words in a comma-separated sequence after sorting them alphabetically."
   ]
  },
  {
   "cell_type": "code",
   "execution_count": 29,
   "id": "faced-cologne",
   "metadata": {},
   "outputs": [
    {
     "name": "stdout",
     "output_type": "stream",
     "text": [
      "Enter the words separated by ',': without,hello,bag,world\n",
      "['bag', 'hello', 'without', 'world']\n"
     ]
    }
   ],
   "source": [
    "words = input(\"Enter the words separated by ',': \").split(',')\n",
    "print(sorted(words))"
   ]
  },
  {
   "cell_type": "markdown",
   "id": "aggressive-termination",
   "metadata": {},
   "source": [
    "9. Write a program that accepts sequence of lines as input and prints the lines after making all\n",
    "characters in the sentence capitalized. Suppose the following input is supplied to the\n",
    "program:"
   ]
  },
  {
   "cell_type": "code",
   "execution_count": 2,
   "id": "hollywood-digit",
   "metadata": {},
   "outputs": [
    {
     "name": "stdout",
     "output_type": "stream",
     "text": [
      "Enter the number of lines: 2\n",
      "Enter a line: Hello world\n",
      "HELLO WORLD\n",
      "Enter a line: Practice makes perfect\n",
      "PRACTICE MAKES PERFECT\n"
     ]
    }
   ],
   "source": [
    "n = int(input(\"Enter the number of lines: \"))\n",
    "for i in range(n):\n",
    "    print(input(\"Enter a line: \").upper())"
   ]
  },
  {
   "cell_type": "markdown",
   "id": "photographic-ordinary",
   "metadata": {},
   "source": [
    "10. Write a program that accepts a sequence of whitespace separated words as input and prints\n",
    "the words after removing all duplicate words and sorting them alphanumerically."
   ]
  },
  {
   "cell_type": "code",
   "execution_count": 5,
   "id": "funded-happening",
   "metadata": {},
   "outputs": [
    {
     "name": "stdout",
     "output_type": "stream",
     "text": [
      "Enter words separated by space: hello world and practice makes perfect and hello world again\n",
      "again and hello makes perfect practice world "
     ]
    }
   ],
   "source": [
    "words = input(\"Enter words separated by space: \").split(' ')\n",
    "words = sorted(set(words))\n",
    "for i in words:\n",
    "    print(i, end = ' ')"
   ]
  },
  {
   "cell_type": "markdown",
   "id": "funded-protein",
   "metadata": {},
   "source": [
    "11. Write a program which accepts a sequence of comma separated 4 digit binary numbers as\n",
    "its input and then check whether they are divisible by 5 or not. The numbers that are\n",
    "divisible by 5 are to be printed in a comma separated sequence."
   ]
  },
  {
   "cell_type": "code",
   "execution_count": 15,
   "id": "structured-increase",
   "metadata": {},
   "outputs": [
    {
     "name": "stdout",
     "output_type": "stream",
     "text": [
      "Enter binary numbers separated by ',': 0100,0011,1010,1001\n",
      "1010,"
     ]
    }
   ],
   "source": [
    "binary = input(\"Enter binary numbers separated by ',': \").split(',')\n",
    "for i in binary:\n",
    "    if int(i, 2) % 5 == 0:\n",
    "        print(i, end = ',')"
   ]
  },
  {
   "cell_type": "markdown",
   "id": "secondary-progress",
   "metadata": {},
   "source": [
    "12. Write a program, which will find all such numbers between 1000 and 3000 (both included)\n",
    "such that each digit of the number is an even number. The numbers obtained should be\n",
    "printed in a comma-separated sequence on a single line."
   ]
  },
  {
   "cell_type": "code",
   "execution_count": 18,
   "id": "medium-wrapping",
   "metadata": {},
   "outputs": [
    {
     "name": "stdout",
     "output_type": "stream",
     "text": [
      "2000,2002,2004,2006,2008,2020,2022,2024,2026,2028,2040,2042,2044,2046,2048,2060,2062,2064,2066,2068,2080,2082,2084,2086,2088,2200,2202,2204,2206,2208,2220,2222,2224,2226,2228,2240,2242,2244,2246,2248,2260,2262,2264,2266,2268,2280,2282,2284,2286,2288,2400,2402,2404,2406,2408,2420,2422,2424,2426,2428,2440,2442,2444,2446,2448,2460,2462,2464,2466,2468,2480,2482,2484,2486,2488,2600,2602,2604,2606,2608,2620,2622,2624,2626,2628,2640,2642,2644,2646,2648,2660,2662,2664,2666,2668,2680,2682,2684,2686,2688,2800,2802,2804,2806,2808,2820,2822,2824,2826,2828,2840,2842,2844,2846,2848,2860,2862,2864,2866,2868,2880,2882,2884,2886,2888,"
     ]
    }
   ],
   "source": [
    "def checkdigit(n):\n",
    "    new = str(n)\n",
    "    for i in range(len(new)):\n",
    "        if int(new[i]) % 2 != 0:\n",
    "            return False\n",
    "    else:\n",
    "        return True\n",
    "    \n",
    "for i in range(1000, 3001):\n",
    "    if checkdigit(i):\n",
    "        print(i, end = ',')"
   ]
  },
  {
   "cell_type": "markdown",
   "id": "worthy-wallet",
   "metadata": {},
   "source": [
    "13. Write a program that accepts a sentence and calculate the number of letters and digits."
   ]
  },
  {
   "cell_type": "code",
   "execution_count": 21,
   "id": "military-runner",
   "metadata": {},
   "outputs": [
    {
     "name": "stdout",
     "output_type": "stream",
     "text": [
      "Enter a sentence: hello world! 123\n",
      "hello world! 123 has 3 digits and 10 letters\n"
     ]
    }
   ],
   "source": [
    "sentence = input(\"Enter a sentence: \")\n",
    "letter = 0\n",
    "digit = 0\n",
    "for i in sentence:\n",
    "    if i.isdigit():\n",
    "        digit += 1\n",
    "    elif i.isalpha():\n",
    "        letter += 1\n",
    "print(\"{} has {} digits and {} letters\".format(sentence, digit, letter))"
   ]
  },
  {
   "cell_type": "markdown",
   "id": "catholic-inspector",
   "metadata": {},
   "source": [
    "14. Write a program that accepts a sentence and calculate the number of upper case letters and\n",
    "lower case letters."
   ]
  },
  {
   "cell_type": "code",
   "execution_count": 23,
   "id": "preliminary-buddy",
   "metadata": {},
   "outputs": [
    {
     "name": "stdout",
     "output_type": "stream",
     "text": [
      "Enter a sentence: Hello world!\n",
      "UPPER CASE 1 \n",
      "LOWER CASE 9\n"
     ]
    }
   ],
   "source": [
    "sentence = input(\"Enter a sentence: \")\n",
    "up = 0\n",
    "low = 0\n",
    "for i in sentence:\n",
    "    if i.islower():\n",
    "        low += 1\n",
    "    elif i.isupper():\n",
    "        up += 1\n",
    "print(\"UPPER CASE {} \\nLOWER CASE {}\".format(up, low))"
   ]
  },
  {
   "cell_type": "markdown",
   "id": "excited-iceland",
   "metadata": {},
   "source": [
    "15. Write a program that computes the value of a+aa+aaa+aaaa with a given digit as the value of\n",
    "a. Suppose the following input is supplied to the program:"
   ]
  },
  {
   "cell_type": "code",
   "execution_count": 29,
   "id": "aggressive-stamp",
   "metadata": {},
   "outputs": [
    {
     "name": "stdout",
     "output_type": "stream",
     "text": [
      "Enter a number: 9\n",
      "11106\n"
     ]
    }
   ],
   "source": [
    "digit = input(\"Enter a number: \")\n",
    "digit = int(digit) + int(digit * 2) + int(digit * 3) + int(digit * 4)\n",
    "print(digit)"
   ]
  },
  {
   "cell_type": "markdown",
   "id": "criminal-figure",
   "metadata": {},
   "source": [
    "16. Use a list comprehension to square each odd number in a list. The list is input by a sequence\n",
    "of comma-separated numbers."
   ]
  },
  {
   "cell_type": "code",
   "execution_count": 33,
   "id": "removed-birthday",
   "metadata": {},
   "outputs": [
    {
     "name": "stdout",
     "output_type": "stream",
     "text": [
      "Enter the numbers separated by comma: 1,2,3,4,5,6,7,8,9\n",
      "[1, 9, 25, 49, 81]\n"
     ]
    }
   ],
   "source": [
    "mylist = input(\"Enter the numbers separated by comma: \").split(',')\n",
    "newlist = [int(i) ** 2 for i in mylist if int(i) % 2 != 0]\n",
    "print(newlist)"
   ]
  },
  {
   "cell_type": "markdown",
   "id": "angry-japan",
   "metadata": {},
   "source": [
    "17. Write a program that computes the net amount of a bank account based a transaction log\n",
    "from console input. The transaction log format is shown as following:"
   ]
  },
  {
   "cell_type": "code",
   "execution_count": 36,
   "id": "wooden-press",
   "metadata": {},
   "outputs": [
    {
     "name": "stdout",
     "output_type": "stream",
     "text": [
      "Enter the transactions separated by comma: D 300,D 300,W 200,D 100\n",
      "500\n"
     ]
    }
   ],
   "source": [
    "transactions = input(\"Enter the transactions separated by comma: \").split(',')\n",
    "total = 0\n",
    "for i in transactions:\n",
    "    if i[0] == 'D':\n",
    "        total += int(i[2: ])\n",
    "    elif i[0] == 'W':\n",
    "        total -= int(i[2: ])\n",
    "print(total)"
   ]
  },
  {
   "cell_type": "markdown",
   "id": "muslim-product",
   "metadata": {},
   "source": [
    "18. A website requires the users to input username and password to register. Write a program\n",
    "to check the validity of password input by users."
   ]
  },
  {
   "cell_type": "code",
   "execution_count": 39,
   "id": "matched-somewhere",
   "metadata": {},
   "outputs": [
    {
     "name": "stdout",
     "output_type": "stream",
     "text": [
      "Enter passwords separated by comma: ABd1234@1,a F1#,2w3E*,2We3345\n",
      "ABd1234@1,"
     ]
    }
   ],
   "source": [
    "def validity(string):\n",
    "    if len(string) > 5 and len(string) < 13:\n",
    "        pass\n",
    "    else:\n",
    "        return 0\n",
    "    up, low, sp, dig = 0, 0, 0, 0\n",
    "    for i in string:\n",
    "        if i.isalpha() and i.isupper():\n",
    "            up = 1\n",
    "        elif i.isalpha() and i.islower():\n",
    "            low = 1\n",
    "        elif i.isdigit():\n",
    "            dig = 1\n",
    "        elif not i.isalpha() and not i.isdigit():\n",
    "            sp = 1\n",
    "    return up and low and sp and dig\n",
    "\n",
    "passwords = input(\"Enter passwords separated by comma: \").split(',')\n",
    "for i in passwords:\n",
    "    if validity(i):\n",
    "        print(i, end = ',')"
   ]
  },
  {
   "cell_type": "markdown",
   "id": "public-annual",
   "metadata": {},
   "source": [
    "19. You are required to write a program to sort the (name, age, height) tuples by ascending\n",
    "order where name is string, age and height are numbers. The tuples are input by console.\n",
    "The sort criteria is:"
   ]
  },
  {
   "cell_type": "code",
   "execution_count": 32,
   "id": "connected-klein",
   "metadata": {},
   "outputs": [
    {
     "name": "stdout",
     "output_type": "stream",
     "text": [
      "Enter data separated by ',': Tom,19,80,John,20,90,Jony,17,91,Jony,17,93,Json,21,85\n",
      "[('John', '20', '90'), ('Jony', '17', '91'), ('Jony', '17', '93'), ('Json', '21', '85'), ('Tom', '19', '80')]\n"
     ]
    }
   ],
   "source": [
    "from operator import itemgetter\n",
    "tuples = input(\"Enter data separated by ',': \").split(',')\n",
    "key = [\"name\", \"age\", \"height\"]\n",
    "newDict = []\n",
    "for i in range(0, len(tuples) - 2, 3):\n",
    "    myDict = {}\n",
    "    myDict[key[0]] = tuples[i]\n",
    "    myDict[key[1]] = tuples[i+1]\n",
    "    myDict[key[2]] = tuples[i + 2]\n",
    "    newDict.append(myDict)\n",
    "newList = sorted(newDict, key = itemgetter(\"name\", \"age\", \"height\"))\n",
    "printList = [(i[key[0]], i[key[1]], i[key[2]]) for i in newList]\n",
    "print(printList)"
   ]
  },
  {
   "cell_type": "markdown",
   "id": "crucial-tuesday",
   "metadata": {},
   "source": [
    "20. Define a class with a generator which can iterate the numbers, which are divisible by 7,\n",
    "between a given range 0 and n."
   ]
  },
  {
   "cell_type": "code",
   "execution_count": 141,
   "id": "prerequisite-rochester",
   "metadata": {},
   "outputs": [
    {
     "name": "stdout",
     "output_type": "stream",
     "text": [
      "Enter value of n: 300\n",
      "35,70,105,140,175,210,245,280,"
     ]
    }
   ],
   "source": [
    "def Div5and7(n):\n",
    "    for i in range(1, n):\n",
    "        if i % 5 == 0 and i % 7 == 0:\n",
    "            yield i\n",
    "\n",
    "n = int(input(\"Enter value of n: \"))\n",
    "for i in Div5and7(n):\n",
    "    print(i, end = ',')"
   ]
  },
  {
   "cell_type": "markdown",
   "id": "vietnamese-century",
   "metadata": {},
   "source": [
    "21. A robot moves in a plane starting from the original point (0,0). The robot can move toward\n",
    "UP, DOWN, LEFT and RIGHT with a given steps. The trace of robot movement is shown as the\n",
    "following:"
   ]
  },
  {
   "cell_type": "code",
   "execution_count": 8,
   "id": "designing-kennedy",
   "metadata": {},
   "outputs": [
    {
     "name": "stdout",
     "output_type": "stream",
     "text": [
      "Enter the moves separated by comma: UP 5,DOWN 3,LEFT 3,RIGHT 2\n",
      "[2, -1]\n"
     ]
    }
   ],
   "source": [
    "start = [0, 0]\n",
    "moves = input(\"Enter the moves separated by comma: \").split(',')\n",
    "for i in moves:\n",
    "    if i[0] == \"U\":\n",
    "        start[0] += int(i[3:])\n",
    "    elif i[0] == \"D\":\n",
    "        start[0] -= int(i[5: ])\n",
    "    elif i[0] == \"L\":\n",
    "        start[1] -= int(i[5: ])\n",
    "    elif i[0] == \"R\":\n",
    "        start[1] += int(i[6: ])\n",
    "print(start)"
   ]
  },
  {
   "cell_type": "markdown",
   "id": "historic-bowling",
   "metadata": {},
   "source": [
    "22. Write a program to compute the frequency of the words from the input. The output should\n",
    "output after sorting the key alphanumerically. Suppose the following input is supplied to the\n",
    "program: New to Python or choosing between Python 2 and Python 3? Read Python 2 or\n",
    "Python 3."
   ]
  },
  {
   "cell_type": "code",
   "execution_count": 13,
   "id": "acceptable-swiss",
   "metadata": {},
   "outputs": [
    {
     "name": "stdout",
     "output_type": "stream",
     "text": [
      "Enter words separated by space: New to Python or choosing between Python 2 and Python 3? Read Python 2 or Python 3.\n",
      "2 : 2\n",
      "3. : 1\n",
      "3? : 1\n",
      "New : 1\n",
      "Python : 5\n",
      "Read : 1\n",
      "and : 1\n",
      "between : 1\n",
      "choosing : 1\n",
      "or : 2\n",
      "to : 1\n"
     ]
    }
   ],
   "source": [
    "words = input(\"Enter words separated by space: \").split()\n",
    "words.sort()\n",
    "myDict = {}\n",
    "for i in words:\n",
    "    if i in myDict:\n",
    "        myDict[i] += 1\n",
    "    else:\n",
    "        myDict[i] = 1\n",
    "for i in myDict:     \n",
    "    print(i,':',myDict[i])"
   ]
  },
  {
   "cell_type": "markdown",
   "id": "intensive-sustainability",
   "metadata": {},
   "source": [
    "23. Write a method which can calculate square value of number"
   ]
  },
  {
   "cell_type": "code",
   "execution_count": 42,
   "id": "smart-passing",
   "metadata": {},
   "outputs": [
    {
     "name": "stdout",
     "output_type": "stream",
     "text": [
      "Enter a number: 16\n",
      "256\n"
     ]
    }
   ],
   "source": [
    "def square(n):\n",
    "    return n ** 2\n",
    "print(square(int(input(\"Enter a number: \"))))"
   ]
  },
  {
   "cell_type": "markdown",
   "id": "enormous-contemporary",
   "metadata": {},
   "source": [
    "24. Python has many built-in functions, and if you do not know how to use it, you can read\n",
    "document online or find some books. But Python has a built-in document function for every\n",
    "built-in functions.Please write a program to print some Python built-in functions documents,\n",
    "such as abs(), int(), raw_input() And add document for your own function"
   ]
  },
  {
   "cell_type": "code",
   "execution_count": 59,
   "id": "congressional-closing",
   "metadata": {},
   "outputs": [
    {
     "name": "stdout",
     "output_type": "stream",
     "text": [
      "Return the absolute value of the argument.\n",
      "----------------------------------------------------\n",
      "int([x]) -> integer\n",
      "int(x, base=10) -> integer\n",
      "\n",
      "Convert a number or string to an integer, or return 0 if no arguments\n",
      "are given.  If x is a number, return x.__int__().  For floating point\n",
      "numbers, this truncates towards zero.\n",
      "\n",
      "If x is not a number or if base is given, then x must be a string,\n",
      "bytes, or bytearray instance representing an integer literal in the\n",
      "given base.  The literal can be preceded by '+' or '-' and be surrounded\n",
      "by whitespace.  The base defaults to 10.  Valid bases are 0 and 2-36.\n",
      "Base 0 means to interpret the base from the string as an integer literal.\n",
      ">>> int('0b100', base=0)\n",
      "4\n",
      "----------------------------------------------------\n",
      "'Returns my name\n"
     ]
    }
   ],
   "source": [
    "def MyName():\n",
    "    ''''Returns my name'''\n",
    "    return \"Shantanu Dixit\"\n",
    "print(abs.__doc__)\n",
    "print(\"----------------------------------------------------\")\n",
    "print(int.__doc__)\n",
    "print(\"----------------------------------------------------\")\n",
    "print(MyName.__doc__)"
   ]
  },
  {
   "cell_type": "markdown",
   "id": "computational-electric",
   "metadata": {},
   "source": [
    "25. Define a class, which have a class parameter and have a same instance parameter."
   ]
  },
  {
   "cell_type": "code",
   "execution_count": 39,
   "id": "cloudy-alabama",
   "metadata": {},
   "outputs": [],
   "source": [
    "class sample:\n",
    "    need = 5\n",
    "    def __init__(self):\n",
    "        self.need = 0"
   ]
  },
  {
   "cell_type": "markdown",
   "id": "coordinate-willow",
   "metadata": {},
   "source": [
    "26. Define a function which can compute the sum of two numbers."
   ]
  },
  {
   "cell_type": "code",
   "execution_count": 43,
   "id": "republican-appraisal",
   "metadata": {},
   "outputs": [
    {
     "name": "stdout",
     "output_type": "stream",
     "text": [
      "Enter first number: 8\n",
      "Enter second number: 6\n",
      "14\n"
     ]
    }
   ],
   "source": [
    "def sum(a, b):\n",
    "    return a + b\n",
    "print(sum(int(input(\"Enter first number: \")), int(input(\"Enter second number: \"))))"
   ]
  },
  {
   "cell_type": "markdown",
   "id": "driving-valentine",
   "metadata": {},
   "source": [
    "27. Define a function that can convert a integer into a string and print it in console."
   ]
  },
  {
   "cell_type": "code",
   "execution_count": 46,
   "id": "enclosed-teaching",
   "metadata": {},
   "outputs": [
    {
     "name": "stdout",
     "output_type": "stream",
     "text": [
      "Enter a number55\n",
      "<class 'int'>\n",
      "<class 'str'>\n"
     ]
    }
   ],
   "source": [
    "def toString(n):\n",
    "    return str(n)\n",
    "n = int(input(\"Enter a number\"))\n",
    "print(type(n))\n",
    "n = toString(n)\n",
    "print(type(n))"
   ]
  },
  {
   "cell_type": "markdown",
   "id": "simple-recall",
   "metadata": {},
   "source": [
    "28. Define a function that can convert a integer into a string and print it in console."
   ]
  },
  {
   "cell_type": "code",
   "execution_count": 47,
   "id": "protected-douglas",
   "metadata": {},
   "outputs": [
    {
     "name": "stdout",
     "output_type": "stream",
     "text": [
      "Enter a number65\n",
      "<class 'int'>\n",
      "<class 'str'>\n"
     ]
    }
   ],
   "source": [
    "def toString(n):\n",
    "    return str(n)\n",
    "n = int(input(\"Enter a number\"))\n",
    "print(type(n))\n",
    "n = toString(n)\n",
    "print(type(n))"
   ]
  },
  {
   "cell_type": "markdown",
   "id": "expired-trial",
   "metadata": {},
   "source": [
    "29. Define a function that can receive two integral numbers in string form and compute their\n",
    "sum and then print it in console."
   ]
  },
  {
   "cell_type": "code",
   "execution_count": 48,
   "id": "clinical-paintball",
   "metadata": {},
   "outputs": [
    {
     "name": "stdout",
     "output_type": "stream",
     "text": [
      "Enter first number: 65 \n",
      "Enter second number: 23\n",
      "88\n"
     ]
    }
   ],
   "source": [
    "def sum(a, b):\n",
    "    return int(a) + int(b)\n",
    "print(sum(input(\"Enter first number: \"), input(\"Enter second number: \")))"
   ]
  },
  {
   "cell_type": "markdown",
   "id": "manual-arrival",
   "metadata": {},
   "source": [
    "30. Define a function that can accept two strings as input and concatenate them and then print\n",
    "it in console."
   ]
  },
  {
   "cell_type": "code",
   "execution_count": 49,
   "id": "shared-australian",
   "metadata": {},
   "outputs": [
    {
     "name": "stdout",
     "output_type": "stream",
     "text": [
      "Enter first string: Shantanu\n",
      "Enter second string: Dixit\n",
      "ShantanuDixit\n"
     ]
    }
   ],
   "source": [
    "def concat(a, b):\n",
    "    return a + b\n",
    "print(concat(input(\"Enter first string: \"), input(\"Enter second string: \")))"
   ]
  },
  {
   "cell_type": "markdown",
   "id": "traditional-accordance",
   "metadata": {},
   "source": [
    "31. Define a function that can accept two strings as input and print the string with maximum\n",
    "length in console. If two strings have the same length, then the function should print al l\n",
    "strings line by line."
   ]
  },
  {
   "cell_type": "code",
   "execution_count": 52,
   "id": "conservative-antenna",
   "metadata": {},
   "outputs": [
    {
     "name": "stdout",
     "output_type": "stream",
     "text": [
      "Enter first string: good\n",
      "Enter second string: nice\n",
      "good\n",
      "nice\n"
     ]
    }
   ],
   "source": [
    "def longest(a, b):\n",
    "    if len(a) < len(b):\n",
    "        return b\n",
    "    elif len(a) > len(b):\n",
    "        return a\n",
    "    else:\n",
    "        return a + '\\n' + b\n",
    "print(longest(input(\"Enter first string: \"), input(\"Enter second string: \")))"
   ]
  },
  {
   "cell_type": "markdown",
   "id": "commercial-numbers",
   "metadata": {},
   "source": [
    "32. Define a function that can accept an integer number as input and print the \"It is an even\n",
    "number\" if the number is even, otherwise print \"It is an odd number\"."
   ]
  },
  {
   "cell_type": "code",
   "execution_count": 53,
   "id": "stopped-school",
   "metadata": {},
   "outputs": [
    {
     "name": "stdout",
     "output_type": "stream",
     "text": [
      "Enter a number: 65\n",
      "It is an odd number\n"
     ]
    }
   ],
   "source": [
    "def EvenOdd(n):\n",
    "    if n % 2 == 0:\n",
    "        return \"It is an even number\"\n",
    "    else:\n",
    "        return \"It is an odd number\"\n",
    "print(EvenOdd(int(input(\"Enter a number: \"))))"
   ]
  },
  {
   "cell_type": "markdown",
   "id": "finished-weather",
   "metadata": {},
   "source": [
    "33. Define a function which can print a dictionary where the keys are numbers between 1 and 3\n",
    "(both included) and the values are square of keys."
   ]
  },
  {
   "cell_type": "code",
   "execution_count": 56,
   "id": "comic-precipitation",
   "metadata": {},
   "outputs": [
    {
     "name": "stdout",
     "output_type": "stream",
     "text": [
      "{1: 1, 2: 4, 3: 9}\n"
     ]
    }
   ],
   "source": [
    "def mydictfunc():\n",
    "    mydict = {}\n",
    "    for i in range(1, 4):\n",
    "        mydict[i] = i ** 2\n",
    "    return mydict\n",
    "print(mydictfunc())"
   ]
  },
  {
   "cell_type": "markdown",
   "id": "valuable-duration",
   "metadata": {},
   "source": [
    "34. Define a function which can print a dictionary where the keys are numbers between 1 and\n",
    "20 (both included) and the values are square of keys."
   ]
  },
  {
   "cell_type": "code",
   "execution_count": 58,
   "id": "south-bermuda",
   "metadata": {},
   "outputs": [
    {
     "name": "stdout",
     "output_type": "stream",
     "text": [
      "{1: 1, 2: 4, 3: 9, 4: 16, 5: 25, 6: 36, 7: 49, 8: 64, 9: 81, 10: 100, 11: 121, 12: 144, 13: 169, 14: 196, 15: 225, 16: 256, 17: 289, 18: 324, 19: 361, 20: 400}\n"
     ]
    }
   ],
   "source": [
    "def mydictfunc():\n",
    "    mydict = {}\n",
    "    for i in range(1, 21):\n",
    "        mydict[i] = i ** 2\n",
    "    return mydict\n",
    "print(mydictfunc())"
   ]
  },
  {
   "cell_type": "markdown",
   "id": "mounted-layout",
   "metadata": {},
   "source": [
    "35. Define a function which can generate a dictionary where the keys are numbers between 1\n",
    "and 20 (both included) and the values are square of keys. The function should just print the\n",
    "values only."
   ]
  },
  {
   "cell_type": "code",
   "execution_count": 26,
   "id": "substantial-celebration",
   "metadata": {},
   "outputs": [
    {
     "name": "stdout",
     "output_type": "stream",
     "text": [
      "1\n",
      "4\n",
      "9\n",
      "16\n",
      "25\n",
      "36\n",
      "49\n",
      "64\n",
      "81\n",
      "100\n",
      "121\n",
      "144\n",
      "169\n",
      "196\n",
      "225\n",
      "256\n",
      "289\n",
      "324\n",
      "361\n",
      "400\n"
     ]
    }
   ],
   "source": [
    "def dictVal():\n",
    "    myDict = {}\n",
    "    for i in range(1, 21):\n",
    "        myDict[i] = i ** 2\n",
    "    for i in myDict.keys():\n",
    "        print(myDict[i])\n",
    "dictVal()"
   ]
  },
  {
   "cell_type": "markdown",
   "id": "medical-budapest",
   "metadata": {},
   "source": [
    "36. Define a function which can generate a dictionary where the keys are numbers between 1\n",
    "and 20 (both included) and the values are square of keys. The function should just print the\n",
    "keys only."
   ]
  },
  {
   "cell_type": "code",
   "execution_count": 27,
   "id": "complete-dutch",
   "metadata": {},
   "outputs": [
    {
     "name": "stdout",
     "output_type": "stream",
     "text": [
      "1\n",
      "2\n",
      "3\n",
      "4\n",
      "5\n",
      "6\n",
      "7\n",
      "8\n",
      "9\n",
      "10\n",
      "11\n",
      "12\n",
      "13\n",
      "14\n",
      "15\n",
      "16\n",
      "17\n",
      "18\n",
      "19\n",
      "20\n"
     ]
    }
   ],
   "source": [
    "def dictVal():\n",
    "    myDict = {}\n",
    "    for i in range(1, 21):\n",
    "        myDict[i] = i ** 2\n",
    "    for i in myDict.keys():\n",
    "        print(i)\n",
    "dictVal()"
   ]
  },
  {
   "cell_type": "markdown",
   "id": "characteristic-lebanon",
   "metadata": {},
   "source": [
    "37. Define a function which can generate and print a list where the values are square of\n",
    "numbers between 1 and 20 (both included)."
   ]
  },
  {
   "cell_type": "code",
   "execution_count": 59,
   "id": "terminal-daisy",
   "metadata": {},
   "outputs": [
    {
     "name": "stdout",
     "output_type": "stream",
     "text": [
      "[1, 4, 9, 16, 25, 36, 49, 64, 81, 100, 121, 144, 169, 196, 225, 256, 289, 324, 361, 400]\n"
     ]
    }
   ],
   "source": [
    "def listfunc():\n",
    "    mylist = []\n",
    "    for i in range(1, 21):\n",
    "        mylist.append(i ** 2)\n",
    "    return mylist\n",
    "print(listfunc())"
   ]
  },
  {
   "cell_type": "markdown",
   "id": "contained-study",
   "metadata": {},
   "source": [
    "38. Define a function which can generate a list where the values are square of numbers between\n",
    "1 and 20 (both included). Then the function needs to print the first 5 elements in the list."
   ]
  },
  {
   "cell_type": "code",
   "execution_count": 61,
   "id": "tough-baghdad",
   "metadata": {},
   "outputs": [
    {
     "name": "stdout",
     "output_type": "stream",
     "text": [
      "[1, 4, 9, 16, 25]\n"
     ]
    }
   ],
   "source": [
    "def listfunc():\n",
    "    mylist = []\n",
    "    for i in range(1, 21):\n",
    "        mylist.append(i ** 2)\n",
    "    return mylist[: 5]\n",
    "print(listfunc())"
   ]
  },
  {
   "cell_type": "markdown",
   "id": "polished-california",
   "metadata": {},
   "source": [
    "39. Define a function which can generate a list where the values are square of numbers between\n",
    "1 and 20 (both included). Then the function needs to print the last 5 elements in the list."
   ]
  },
  {
   "cell_type": "code",
   "execution_count": 65,
   "id": "favorite-percentage",
   "metadata": {},
   "outputs": [
    {
     "name": "stdout",
     "output_type": "stream",
     "text": [
      "[256, 289, 324, 361, 400]\n"
     ]
    }
   ],
   "source": [
    "def listfunc():\n",
    "    mylist = []\n",
    "    for i in range(1, 21):\n",
    "        mylist.append(i ** 2)\n",
    "    return mylist[-5: ]\n",
    "print(listfunc())"
   ]
  },
  {
   "cell_type": "markdown",
   "id": "cubic-italian",
   "metadata": {},
   "source": [
    "40. Define a function which can generate a list where the values are square of numbers between\n",
    "1 and 20 (both included). Then the function needs to print all values except the first 5\n",
    "elements in the list."
   ]
  },
  {
   "cell_type": "code",
   "execution_count": 66,
   "id": "tight-flexibility",
   "metadata": {},
   "outputs": [
    {
     "name": "stdout",
     "output_type": "stream",
     "text": [
      "[36, 49, 64, 81, 100, 121, 144, 169, 196, 225, 256, 289, 324, 361, 400]\n"
     ]
    }
   ],
   "source": [
    "def listfunc():\n",
    "    mylist = []\n",
    "    for i in range(1, 21):\n",
    "        mylist.append(i ** 2)\n",
    "    return mylist[5: ]\n",
    "print(listfunc())"
   ]
  },
  {
   "cell_type": "markdown",
   "id": "manual-passage",
   "metadata": {},
   "source": [
    "41. Define a function which can generate and print a tuple where the value are square of\n",
    "numbers between 1 and 20 (both included)."
   ]
  },
  {
   "cell_type": "code",
   "execution_count": 67,
   "id": "civic-description",
   "metadata": {},
   "outputs": [
    {
     "name": "stdout",
     "output_type": "stream",
     "text": [
      "(1, 4, 9, 16, 25, 36, 49, 64, 81, 100, 121, 144, 169, 196, 225, 256, 289, 324, 361, 400)\n"
     ]
    }
   ],
   "source": [
    "def listfunc():\n",
    "    mylist = []\n",
    "    for i in range(1, 21):\n",
    "        mylist.append(i ** 2)\n",
    "    return tuple(mylist)\n",
    "print(listfunc())"
   ]
  },
  {
   "cell_type": "markdown",
   "id": "regulated-ballet",
   "metadata": {},
   "source": [
    "42. With a given tuple (1,2,3,4,5,6,7,8,9,10), write a program to print the first half values in one\n",
    "line and the last half values in one line."
   ]
  },
  {
   "cell_type": "code",
   "execution_count": 71,
   "id": "daily-sustainability",
   "metadata": {},
   "outputs": [
    {
     "name": "stdout",
     "output_type": "stream",
     "text": [
      "(1, 2, 3, 4, 5) \n",
      " (6, 7, 8, 9, 10)\n"
     ]
    }
   ],
   "source": [
    "mytuple = (1,2,3,4,5,6,7,8,9,10)\n",
    "print(mytuple[: len(mytuple)// 2], '\\n', mytuple[len(mytuple)// 2: ])"
   ]
  },
  {
   "cell_type": "markdown",
   "id": "casual-house",
   "metadata": {},
   "source": [
    "43. Write a program to generate and print another tuple whose values are even numbers in the\n",
    "given tuple (1,2,3,4,5,6,7,8,9,10)."
   ]
  },
  {
   "cell_type": "code",
   "execution_count": 73,
   "id": "numerical-frank",
   "metadata": {},
   "outputs": [
    {
     "name": "stdout",
     "output_type": "stream",
     "text": [
      "(2, 4, 6, 8, 10)\n"
     ]
    }
   ],
   "source": [
    "mytuple = (1,2,3,4,5,6,7,8,9,10)\n",
    "newtuple = [i for i in mytuple if i % 2 == 0]\n",
    "print(tuple(newtuple))"
   ]
  },
  {
   "cell_type": "markdown",
   "id": "subjective-hydrogen",
   "metadata": {},
   "source": [
    "44. Write a program which accepts a string as input to print \"Yes\" if the string is \"yes\" or \"YES\"\n",
    "or \"Yes\", otherwise print \"No\"."
   ]
  },
  {
   "cell_type": "code",
   "execution_count": 75,
   "id": "interstate-verification",
   "metadata": {},
   "outputs": [
    {
     "name": "stdout",
     "output_type": "stream",
     "text": [
      "Enter a string: yES\n",
      "No\n"
     ]
    }
   ],
   "source": [
    "string = input(\"Enter a string: \")\n",
    "if string == 'yes' or string == \"Yes\" or string == \"YES\":\n",
    "    print(\"Yes\")\n",
    "else:\n",
    "    print(\"No\")"
   ]
  },
  {
   "cell_type": "markdown",
   "id": "powered-master",
   "metadata": {},
   "source": [
    "45. Write a program which can filter even numbers in a list by using filter function. The list is:\n",
    "[1,2,3,4,5,6,7,8,9,10]."
   ]
  },
  {
   "cell_type": "code",
   "execution_count": 52,
   "id": "environmental-soccer",
   "metadata": {},
   "outputs": [
    {
     "name": "stdout",
     "output_type": "stream",
     "text": [
      "[2, 4, 6, 8, 10]\n"
     ]
    }
   ],
   "source": [
    "myList = [1,2,3,4,5,6,7,8,9,10]\n",
    "print(list(filter(lambda x: x % 2 == 0, myList)))"
   ]
  },
  {
   "cell_type": "markdown",
   "id": "native-marble",
   "metadata": {},
   "source": [
    "46. Write a program which can map() to make a list whose elements are square of elements in\n",
    "[1,2,3,4,5,6,7,8,9,10]."
   ]
  },
  {
   "cell_type": "code",
   "execution_count": 54,
   "id": "coordinated-group",
   "metadata": {},
   "outputs": [
    {
     "name": "stdout",
     "output_type": "stream",
     "text": [
      "[1, 4, 9, 16, 25, 36, 49, 64, 81, 100]\n"
     ]
    }
   ],
   "source": [
    "myList = [1,2,3,4,5,6,7,8,9,10]\n",
    "print(list(map(lambda x: x ** 2, myList)))"
   ]
  },
  {
   "cell_type": "markdown",
   "id": "surprised-dividend",
   "metadata": {},
   "source": [
    "47. Write a program which can map() and filter() to make a list whose elements are square of\n",
    "even number in [1,2,3,4,5,6,7,8,9,10]."
   ]
  },
  {
   "cell_type": "code",
   "execution_count": 56,
   "id": "sticky-divide",
   "metadata": {},
   "outputs": [
    {
     "name": "stdout",
     "output_type": "stream",
     "text": [
      "[4, 16, 36, 64, 100]\n"
     ]
    }
   ],
   "source": [
    "myList = [1,2,3,4,5,6,7,8,9,10]\n",
    "result = list(map(lambda x: x ** 2, myList))\n",
    "result = list(filter(lambda x: x % 2 == 0, result))\n",
    "print(result)"
   ]
  },
  {
   "cell_type": "markdown",
   "id": "mysterious-bulgarian",
   "metadata": {},
   "source": [
    "48. Write a program which can filter() to make a list whose elements are even number between\n",
    "1 and 20 (both included)."
   ]
  },
  {
   "cell_type": "code",
   "execution_count": 59,
   "id": "worth-lemon",
   "metadata": {},
   "outputs": [
    {
     "name": "stdout",
     "output_type": "stream",
     "text": [
      "[2, 4, 6, 8, 10, 12, 14, 16, 18, 20]\n"
     ]
    }
   ],
   "source": [
    "print(list(filter(lambda x: x % 2 == 0, [i for i in range(1, 21)])))"
   ]
  },
  {
   "cell_type": "markdown",
   "id": "ecological-regular",
   "metadata": {},
   "source": [
    "49. Write a program which can map() to make a list whose elements are square of numbers\n",
    "between 1 and 20 (both included)."
   ]
  },
  {
   "cell_type": "code",
   "execution_count": 60,
   "id": "historic-biography",
   "metadata": {},
   "outputs": [
    {
     "name": "stdout",
     "output_type": "stream",
     "text": [
      "[1, 4, 9, 16, 25, 36, 49, 64, 81, 100, 121, 144, 169, 196, 225, 256, 289, 324, 361, 400]\n"
     ]
    }
   ],
   "source": [
    "print(list(map(lambda x: x ** 2, [i for i in range(1, 21)])))"
   ]
  },
  {
   "cell_type": "markdown",
   "id": "legislative-machinery",
   "metadata": {},
   "source": [
    "50. Define a class named American which has a static method called printNationality."
   ]
  },
  {
   "cell_type": "code",
   "execution_count": 31,
   "id": "demographic-imagination",
   "metadata": {},
   "outputs": [
    {
     "name": "stdout",
     "output_type": "stream",
     "text": [
      "American\n"
     ]
    }
   ],
   "source": [
    "class American:\n",
    "    @staticmethod\n",
    "    def printNationality():\n",
    "        print(\"American\")\n",
    "American.printNationality()"
   ]
  },
  {
   "cell_type": "markdown",
   "id": "compound-christopher",
   "metadata": {},
   "source": [
    "51. Define a class named American and its subclass NewYorker."
   ]
  },
  {
   "cell_type": "code",
   "execution_count": 32,
   "id": "dietary-lyric",
   "metadata": {},
   "outputs": [],
   "source": [
    "class American:\n",
    "    pass\n",
    "class NewYork(American):\n",
    "    pass"
   ]
  },
  {
   "cell_type": "markdown",
   "id": "covered-rider",
   "metadata": {},
   "source": [
    "52. Define a class named Circle which can be constructed by a radius. The Circle class has a\n",
    "method which can compute the area."
   ]
  },
  {
   "cell_type": "code",
   "execution_count": 40,
   "id": "enhanced-coordinator",
   "metadata": {},
   "outputs": [
    {
     "data": {
      "text/plain": [
       "28.27"
      ]
     },
     "execution_count": 40,
     "metadata": {},
     "output_type": "execute_result"
    }
   ],
   "source": [
    "from math import pi\n",
    "\n",
    "class Circle:\n",
    "    def __init__(self, r):\n",
    "        self.radius = r\n",
    "    def area(self):\n",
    "        return round(pi * self.radius ** 2, 2)\n",
    "\n",
    "c = Circle(3)\n",
    "c.area()"
   ]
  },
  {
   "cell_type": "markdown",
   "id": "subjective-terrorism",
   "metadata": {},
   "source": [
    "53. Define a class named Rectangle which can be constructed by a length and width. The\n",
    "Rectangle class has a method which can compute the area."
   ]
  },
  {
   "cell_type": "code",
   "execution_count": 42,
   "id": "exempt-legislature",
   "metadata": {},
   "outputs": [
    {
     "data": {
      "text/plain": [
       "15"
      ]
     },
     "execution_count": 42,
     "metadata": {},
     "output_type": "execute_result"
    }
   ],
   "source": [
    "class Rectangle:\n",
    "    def __init__(self, l, b):\n",
    "        self.length = l\n",
    "        self.breadth = b\n",
    "    def area(self):\n",
    "        return self.length * self.breadth\n",
    "\n",
    "r = Rectangle(3, 5)\n",
    "r.area()"
   ]
  },
  {
   "cell_type": "markdown",
   "id": "quarterly-strip",
   "metadata": {},
   "source": [
    "54. Define a class named Shape and its subclass Square. The Square class has an init function\n",
    "which takes a length as argument. Both classes have a area function which can print the area\n",
    "of the shape where Shape's area is 0 by default."
   ]
  },
  {
   "cell_type": "code",
   "execution_count": 46,
   "id": "demanding-match",
   "metadata": {},
   "outputs": [
    {
     "name": "stdout",
     "output_type": "stream",
     "text": [
      "25\n"
     ]
    }
   ],
   "source": [
    "class Shape:\n",
    "    def area(self):\n",
    "        self.area = 0\n",
    "        print(area)\n",
    "    \n",
    "class Sqaure(Shape):\n",
    "    def __init__(self, l):\n",
    "        self.length = l\n",
    "    def area(self):\n",
    "        self.area = self.length ** 2\n",
    "        print(self.area)\n",
    "sq = Sqaure(5)\n",
    "sq.area()"
   ]
  },
  {
   "cell_type": "markdown",
   "id": "dress-posting",
   "metadata": {},
   "source": [
    "55. Please raise a RuntimeError exception."
   ]
  },
  {
   "cell_type": "code",
   "execution_count": 37,
   "id": "liquid-tract",
   "metadata": {},
   "outputs": [
    {
     "name": "stdout",
     "output_type": "stream",
     "text": [
      "Runtime error encountered\n"
     ]
    }
   ],
   "source": [
    "try:\n",
    "    raise RuntimeError\n",
    "except RuntimeError:\n",
    "    print(\"Runtime error encountered\")"
   ]
  },
  {
   "cell_type": "markdown",
   "id": "appropriate-fashion",
   "metadata": {},
   "source": [
    "56. Write a function to compute 5/0 and use try/except to catch the exceptions."
   ]
  },
  {
   "cell_type": "code",
   "execution_count": 38,
   "id": "pointed-parent",
   "metadata": {},
   "outputs": [
    {
     "name": "stdout",
     "output_type": "stream",
     "text": [
      "cannot divide by zero\n"
     ]
    }
   ],
   "source": [
    "try:\n",
    "    total = 5/0\n",
    "except ZeroDivisionError:\n",
    "    print(\"cannot divide by zero\")"
   ]
  },
  {
   "cell_type": "markdown",
   "id": "representative-triangle",
   "metadata": {},
   "source": [
    "57. Define a custom exception class which takes a string message as attribute.\n",
    "To define a custom exception, we need to define a class inherited from Exception."
   ]
  },
  {
   "cell_type": "code",
   "execution_count": 89,
   "id": "limited-syndicate",
   "metadata": {},
   "outputs": [],
   "source": [
    "class CustomException(Exception):\n",
    "    def __init__(self, attr):\n",
    "        self.msg = attr"
   ]
  },
  {
   "cell_type": "markdown",
   "id": "second-samoa",
   "metadata": {},
   "source": [
    "58. Assuming that we have some email addresses in the \"username@companyname.com\"\n",
    "format, please write program to print the user name of a given email address. Both user\n",
    "names and company names are composed of letters only."
   ]
  },
  {
   "cell_type": "code",
   "execution_count": 86,
   "id": "breeding-ladder",
   "metadata": {},
   "outputs": [
    {
     "name": "stdout",
     "output_type": "stream",
     "text": [
      "Enter the email id: john@google.com\n",
      "john\n"
     ]
    }
   ],
   "source": [
    "import re\n",
    "email = input(\"Enter the email id: \")\n",
    "regex = '(\\w+)@'\n",
    "ans = re.search(regex, email)\n",
    "print(ans.group(1))"
   ]
  },
  {
   "cell_type": "markdown",
   "id": "female-direction",
   "metadata": {},
   "source": [
    "59. Assuming that we have some email addresses in the \"username@companyname.com\"\n",
    "format, please write program to print the company name of a given email address. Both user\n",
    "names and company names are composed of letters only."
   ]
  },
  {
   "cell_type": "code",
   "execution_count": 2,
   "id": "smaller-labor",
   "metadata": {},
   "outputs": [
    {
     "name": "stdout",
     "output_type": "stream",
     "text": [
      "Enter the email id: John@google.com\n",
      "google\n"
     ]
    }
   ],
   "source": [
    "import re \n",
    "email = input(\"Enter the email id: \")\n",
    "regex = '@(\\w+)'\n",
    "ans = re.search(regex, email)\n",
    "print(ans.group(1))"
   ]
  },
  {
   "cell_type": "markdown",
   "id": "veterinary-communications",
   "metadata": {},
   "source": [
    "60. Write a program which accepts a sequence of words separated by whitespace as input to\n",
    "print the words composed of digits only."
   ]
  },
  {
   "cell_type": "code",
   "execution_count": 69,
   "id": "emotional-delight",
   "metadata": {},
   "outputs": [
    {
     "name": "stdout",
     "output_type": "stream",
     "text": [
      "Enter words separated by text2 cats and 3 dogs.\n",
      "['2', '3']\n"
     ]
    }
   ],
   "source": [
    "import re\n",
    "words = input(\"Enter words separated by text\")\n",
    "regex = '\\d+'\n",
    "match = re.findall(regex, words)\n",
    "print(match)"
   ]
  },
  {
   "cell_type": "markdown",
   "id": "dried-musician",
   "metadata": {},
   "source": [
    "61. Print a unicode string \"hello world\"."
   ]
  },
  {
   "cell_type": "code",
   "execution_count": 6,
   "id": "comic-monkey",
   "metadata": {},
   "outputs": [
    {
     "name": "stdout",
     "output_type": "stream",
     "text": [
      "hello world\n"
     ]
    }
   ],
   "source": [
    "string = u\"hello world\"\n",
    "print(string)"
   ]
  },
  {
   "cell_type": "markdown",
   "id": "imperial-optimum",
   "metadata": {},
   "source": [
    "62. Write a program to read an ASCII string and to convert it to a unicode string encoded by utf-8."
   ]
  },
  {
   "cell_type": "code",
   "execution_count": 17,
   "id": "checked-guinea",
   "metadata": {},
   "outputs": [
    {
     "name": "stdout",
     "output_type": "stream",
     "text": [
      "Enter a string: Shantanu\n",
      "b'Shantanu'\n"
     ]
    }
   ],
   "source": [
    "string = input(\"Enter a string: \")\n",
    "print(string.encode())"
   ]
  },
  {
   "cell_type": "markdown",
   "id": "stainless-external",
   "metadata": {},
   "source": [
    "63. Write a special comment to indicate a Python source code file is in unicode."
   ]
  },
  {
   "cell_type": "code",
   "execution_count": 7,
   "id": "lovely-found",
   "metadata": {},
   "outputs": [],
   "source": [
    "# -*- coding: utf-8 -*-"
   ]
  },
  {
   "cell_type": "markdown",
   "id": "paperback-newfoundland",
   "metadata": {},
   "source": [
    "64. Write a program to compute 1/2+2/3+3/4+...+n/n+1 with a given n input by console (n>0)."
   ]
  },
  {
   "cell_type": "code",
   "execution_count": 2,
   "id": "intelligent-denmark",
   "metadata": {},
   "outputs": [
    {
     "name": "stdout",
     "output_type": "stream",
     "text": [
      "Enter the value of n: 5\n",
      "3.55\n"
     ]
    }
   ],
   "source": [
    "n = int(input(\"Enter the value of n: \"))\n",
    "total = 0\n",
    "for i in range(1, n + 1):\n",
    "    total += i / (i + 1)\n",
    "print(round(total, 2))"
   ]
  },
  {
   "cell_type": "markdown",
   "id": "vietnamese-editing",
   "metadata": {},
   "source": [
    "65. Write a program to compute:\n",
    "f(n)=f(n-1)+100 when n>0\n",
    "and f(0)=1\n",
    "with a given n input by console (n>0)."
   ]
  },
  {
   "cell_type": "code",
   "execution_count": 76,
   "id": "empty-barrier",
   "metadata": {},
   "outputs": [
    {
     "name": "stdout",
     "output_type": "stream",
     "text": [
      "Enter a number: 5\n",
      "500\n"
     ]
    }
   ],
   "source": [
    "def f(n):\n",
    "    if n > 0:\n",
    "        return 100 + f(n - 1)\n",
    "    else:\n",
    "        return n\n",
    "print(f(int(input(\"Enter a number: \"))))"
   ]
  },
  {
   "cell_type": "markdown",
   "id": "mineral-filling",
   "metadata": {},
   "source": [
    "66. The Fibonacci Sequence is computed based on the following formula:\n",
    "f(n)=0 if n=0\n",
    "f(n)=1 if n=1\n",
    "f(n)=f(n-1)+f(n-2) if n>1\n",
    "Please write a program to compute the value of f(n) with a given n input by console."
   ]
  },
  {
   "cell_type": "code",
   "execution_count": 81,
   "id": "industrial-scholar",
   "metadata": {},
   "outputs": [
    {
     "name": "stdout",
     "output_type": "stream",
     "text": [
      "Enter a number: 7\n",
      "13\n"
     ]
    }
   ],
   "source": [
    "def fibo(n):\n",
    "    if n <= 1:\n",
    "        return n\n",
    "    else:\n",
    "        return fibo(n - 1) + fibo(n - 2)\n",
    "print(fibo(int(input(\"Enter a number: \"))))"
   ]
  },
  {
   "cell_type": "markdown",
   "id": "early-forum",
   "metadata": {},
   "source": [
    "67. The Fibonacci Sequence is computed based on the following formula:\n",
    "f(n)=0 if n=0\n",
    "f(n)=1 if n=1\n",
    "f(n)=f(n-1)+f(n-2) if n>1\n",
    "Please write a program using list comprehension to print the Fibonacci Sequence in comma\n",
    "separated form with a given n input by console."
   ]
  },
  {
   "cell_type": "code",
   "execution_count": 47,
   "id": "durable-potential",
   "metadata": {},
   "outputs": [
    {
     "name": "stdout",
     "output_type": "stream",
     "text": [
      "Enter a number: 7\n",
      "0,1,1,2,3,5,8,13,"
     ]
    }
   ],
   "source": [
    "def fibo(n):\n",
    "    if n <= 1:\n",
    "        return n\n",
    "    else:\n",
    "        return fibo(n - 1) + fibo(n - 2)\n",
    "n = int(input(\"Enter a number: \"))\n",
    "for i in range(n + 1):\n",
    "    print(fibo(i), end = ',')"
   ]
  },
  {
   "cell_type": "markdown",
   "id": "northern-former",
   "metadata": {},
   "source": [
    "68. Please write a program using generator to print the even numbers between 0 and n in\n",
    "comma separated form while n is input by console."
   ]
  },
  {
   "cell_type": "code",
   "execution_count": 131,
   "id": "boolean-escape",
   "metadata": {},
   "outputs": [
    {
     "name": "stdout",
     "output_type": "stream",
     "text": [
      "Enter value of n: 10\n",
      "0,2,4,6,8,10,"
     ]
    }
   ],
   "source": [
    "def EvenGen(n):\n",
    "    for i in range(n):\n",
    "        if i % 2 == 0:\n",
    "            yield i\n",
    "\n",
    "n = int(input(\"Enter value of n: \"))\n",
    "for i in EvenGen(n + 1):\n",
    "    print(i, end = ',')"
   ]
  },
  {
   "cell_type": "markdown",
   "id": "extended-ranking",
   "metadata": {},
   "source": [
    "69. Please write a program using generator to print the numbers which can be divisible by 5 and\n",
    "7 between 0 and n in comma separated form while n is input by console."
   ]
  },
  {
   "cell_type": "code",
   "execution_count": 135,
   "id": "mathematical-english",
   "metadata": {},
   "outputs": [
    {
     "name": "stdout",
     "output_type": "stream",
     "text": [
      "Enter value of n: 100\n",
      "0,35,70,"
     ]
    }
   ],
   "source": [
    "def Div5and7(n):\n",
    "    for i in range(n):\n",
    "        if i % 5 == 0 and i % 7 == 0:\n",
    "            yield i\n",
    "\n",
    "n = int(input(\"Enter value of n: \"))\n",
    "for i in Div5and7(n + 1):\n",
    "    print(i, end = ',')"
   ]
  },
  {
   "cell_type": "markdown",
   "id": "loved-garbage",
   "metadata": {},
   "source": [
    "70. Please write assert statements to verify that every number in the list [2,4,6,8] is even."
   ]
  },
  {
   "cell_type": "code",
   "execution_count": 139,
   "id": "rural-charm",
   "metadata": {},
   "outputs": [],
   "source": [
    "myList = [2, 4, 6, 8]\n",
    "for i in myList:\n",
    "    assert i % 2 == 0, \"Not an even\""
   ]
  },
  {
   "cell_type": "markdown",
   "id": "varying-ultimate",
   "metadata": {},
   "source": [
    "71. Please write a program which accepts basic mathematic expression from console and print\n",
    "the evaluation result."
   ]
  },
  {
   "cell_type": "code",
   "execution_count": 49,
   "id": "constitutional-spain",
   "metadata": {},
   "outputs": [
    {
     "name": "stdout",
     "output_type": "stream",
     "text": [
      "Enter an expression: 58 + 33 -25 * 0\n",
      "91\n"
     ]
    }
   ],
   "source": [
    "expression = input(\"Enter an expression: \")\n",
    "print(eval(expression))"
   ]
  },
  {
   "cell_type": "markdown",
   "id": "agricultural-membership",
   "metadata": {},
   "source": [
    "72. Please write a binary search function which searches an item in a sorted list. The function\n",
    "should return the index of element to be searched in the list."
   ]
  },
  {
   "cell_type": "code",
   "execution_count": 74,
   "id": "equivalent-indiana",
   "metadata": {},
   "outputs": [
    {
     "name": "stdout",
     "output_type": "stream",
     "text": [
      "Enter the elements of the list separated by space: 44 55 22 88 66 33 21 14\n",
      "['14', '21', '22', '33', '44', '55', '66', '88']\n",
      "Enter the element to search: 33\n",
      "33 is present at index: 3\n"
     ]
    }
   ],
   "source": [
    "def BinarySearch(myList, search):\n",
    "    l = 0\n",
    "    r = len(myList) - 1\n",
    "    while(l <= r):\n",
    "        m = l + r// 2\n",
    "        if myList[m] == search:\n",
    "            return m\n",
    "        elif myList[m] < search:\n",
    "            l = m + 1\n",
    "        else:\n",
    "            r = m - 1\n",
    "myList = input(\"Enter the elements of the list separated by space: \").split(\" \")\n",
    "myList.sort()\n",
    "print(myList)\n",
    "search = input(\"Enter the element to search: \")\n",
    "print(search, 'is present at index:', BinarySearch(myList, search))"
   ]
  },
  {
   "cell_type": "markdown",
   "id": "stopped-engineering",
   "metadata": {},
   "source": [
    "73. Please write a binary search function which searches an item in a sorted list. The function\n",
    "should return the index of element to be searched in the list."
   ]
  },
  {
   "cell_type": "code",
   "execution_count": 75,
   "id": "reserved-pavilion",
   "metadata": {},
   "outputs": [
    {
     "name": "stdout",
     "output_type": "stream",
     "text": [
      "Enter the elements of the list separated by space: Shantanu Sameet Anay Sanket Atharva Parthesh\n",
      "['Anay', 'Atharva', 'Parthesh', 'Sameet', 'Sanket', 'Shantanu']\n",
      "Enter the element to search: Shantanu\n",
      "Shantanu is present at index: 5\n"
     ]
    }
   ],
   "source": [
    "def BinarySearch(myList, search):\n",
    "    l = 0\n",
    "    r = len(myList) - 1\n",
    "    while(l <= r):\n",
    "        m = l + r// 2\n",
    "        if myList[m] == search:\n",
    "            return m\n",
    "        elif myList[m] < search:\n",
    "            l = m + 1\n",
    "        else:\n",
    "            r = m - 1\n",
    "myList = input(\"Enter the elements of the list separated by space: \").split(\" \")\n",
    "myList.sort()\n",
    "print(myList)\n",
    "search = input(\"Enter the element to search: \")\n",
    "print(search, 'is present at index:', BinarySearch(myList, search))"
   ]
  },
  {
   "cell_type": "markdown",
   "id": "accepted-blood",
   "metadata": {},
   "source": [
    "74. Please generate a random float where the value is between 10 and 100 using Python math\n",
    "module."
   ]
  },
  {
   "cell_type": "code",
   "execution_count": 84,
   "id": "fewer-municipality",
   "metadata": {},
   "outputs": [
    {
     "name": "stdout",
     "output_type": "stream",
     "text": [
      "74.52405753796258\n"
     ]
    }
   ],
   "source": [
    "import random\n",
    "print(random.uniform(10, 101))"
   ]
  },
  {
   "cell_type": "markdown",
   "id": "blessed-shark",
   "metadata": {},
   "source": [
    "75. Please generate a random float where the value is between 5 and 95 using Python math\n",
    "module."
   ]
  },
  {
   "cell_type": "code",
   "execution_count": 85,
   "id": "congressional-grocery",
   "metadata": {},
   "outputs": [
    {
     "name": "stdout",
     "output_type": "stream",
     "text": [
      "46.014161319462595\n"
     ]
    }
   ],
   "source": [
    "import random\n",
    "print(random.uniform(5, 95))"
   ]
  },
  {
   "cell_type": "markdown",
   "id": "spectacular-terrorism",
   "metadata": {},
   "source": [
    "76. Please write a program to output a random even number between 0 and 10 inclusive using\n",
    "random module and list comprehension."
   ]
  },
  {
   "cell_type": "code",
   "execution_count": 100,
   "id": "possible-aviation",
   "metadata": {},
   "outputs": [
    {
     "name": "stdout",
     "output_type": "stream",
     "text": [
      "8\n"
     ]
    }
   ],
   "source": [
    "import random\n",
    "myList = [i for i in range(11) if i % 2 == 0]\n",
    "print(random.choice(myList))"
   ]
  },
  {
   "cell_type": "markdown",
   "id": "guilty-involvement",
   "metadata": {},
   "source": [
    "77. Please write a program to output a random number, which is divisible by 5 and 7, between 0\n",
    "and 10 inclusive using random module and list comprehension."
   ]
  },
  {
   "cell_type": "code",
   "execution_count": 113,
   "id": "incorporate-enlargement",
   "metadata": {},
   "outputs": [
    {
     "name": "stdout",
     "output_type": "stream",
     "text": [
      "0\n"
     ]
    }
   ],
   "source": [
    "import random\n",
    "myList = [i for i in range(11) if i % 5 == 0 and i % 7 == 0]\n",
    "print(random.choice(myList))"
   ]
  },
  {
   "cell_type": "markdown",
   "id": "polished-dress",
   "metadata": {},
   "source": [
    "78. Please write a program to generate a list with 5 random numbers between 100 and 200\n",
    "inclusive."
   ]
  },
  {
   "cell_type": "code",
   "execution_count": 87,
   "id": "later-dependence",
   "metadata": {},
   "outputs": [
    {
     "name": "stdout",
     "output_type": "stream",
     "text": [
      "[134, 178, 153, 122, 155]\n"
     ]
    }
   ],
   "source": [
    "import random\n",
    "numbers = [i for i in range(100, 201)]\n",
    "print(random.sample(numbers, 5))"
   ]
  },
  {
   "cell_type": "markdown",
   "id": "preceding-phase",
   "metadata": {},
   "source": [
    "79. Please write a program to randomly generate a list with 5 even numbers between 100 and\n",
    "200 inclusive."
   ]
  },
  {
   "cell_type": "code",
   "execution_count": 88,
   "id": "facial-kuwait",
   "metadata": {},
   "outputs": [
    {
     "name": "stdout",
     "output_type": "stream",
     "text": [
      "[152, 192, 184, 142, 162]\n"
     ]
    }
   ],
   "source": [
    "import random\n",
    "numbers = [i for i in range(100, 201) if i % 2 == 0]\n",
    "print(random.sample(numbers, 5))"
   ]
  },
  {
   "cell_type": "markdown",
   "id": "massive-independence",
   "metadata": {},
   "source": [
    "80. Please write a program to randomly generate a list with 5 numbers, which are divisible by 5\n",
    "and 7 , between 1 and 1000 inclusive."
   ]
  },
  {
   "cell_type": "code",
   "execution_count": 89,
   "id": "australian-advertiser",
   "metadata": {},
   "outputs": [
    {
     "name": "stdout",
     "output_type": "stream",
     "text": [
      "[595, 105, 455, 875, 280]\n"
     ]
    }
   ],
   "source": [
    "import random\n",
    "numbers = [i for i in range(1, 1001) if i % 5 == 0 and i % 7 == 0]\n",
    "print(random.sample(numbers, 5))"
   ]
  },
  {
   "cell_type": "markdown",
   "id": "extended-bloom",
   "metadata": {},
   "source": [
    "81. Please write a program to randomly print a integer number between 7 and 15 inclusive."
   ]
  },
  {
   "cell_type": "code",
   "execution_count": 90,
   "id": "lyric-purple",
   "metadata": {},
   "outputs": [
    {
     "name": "stdout",
     "output_type": "stream",
     "text": [
      "9\n"
     ]
    }
   ],
   "source": [
    "import random\n",
    "print(random.randrange(7, 16))"
   ]
  },
  {
   "cell_type": "markdown",
   "id": "mobile-track",
   "metadata": {},
   "source": [
    "82. Please write a program to compress and decompress the string \"hello world!hello\n",
    "world!hello world!hello world!\"."
   ]
  },
  {
   "cell_type": "code",
   "execution_count": 8,
   "id": "opposite-jason",
   "metadata": {},
   "outputs": [
    {
     "name": "stdout",
     "output_type": "stream",
     "text": [
      "b'x\\x9c\\xcbH\\xcd\\xc9\\xc9W(\\xcf/\\xcaIQ\\xcc\\x00\\xb1\\x91\\x98\\n\\x98l\\x00\\xb2\\xe9\\x11\\xd5'\n",
      "b'hello world!helloworld!hello world!hello world!'\n"
     ]
    }
   ],
   "source": [
    "import zlib\n",
    "string = b\"hello world!helloworld!hello world!hello world!\"\n",
    "t = zlib.compress(string)\n",
    "print(t)\n",
    "print(zlib.decompress(t))"
   ]
  },
  {
   "cell_type": "markdown",
   "id": "unlikely-amplifier",
   "metadata": {},
   "source": [
    "\n",
    "83. Please write a program to print the running time of execution of \"1+1\" for 100 times."
   ]
  },
  {
   "cell_type": "code",
   "execution_count": 11,
   "id": "organic-gasoline",
   "metadata": {},
   "outputs": [
    {
     "name": "stdout",
     "output_type": "stream",
     "text": [
      "2.82\n"
     ]
    }
   ],
   "source": [
    "import timeit\n",
    "mycode = '''\n",
    "sum = 0\n",
    "for i in range(100):\n",
    "    sum += 1 + 1\n",
    "'''\n",
    "print(round(timeit.timeit(stmt = mycode), 2))"
   ]
  },
  {
   "cell_type": "markdown",
   "id": "ecological-polish",
   "metadata": {},
   "source": [
    "84. Please write a program to shuffle and print the list [3,6,7,8]."
   ]
  },
  {
   "cell_type": "code",
   "execution_count": 118,
   "id": "forced-associate",
   "metadata": {},
   "outputs": [
    {
     "name": "stdout",
     "output_type": "stream",
     "text": [
      "[7, 6, 3, 8]\n"
     ]
    }
   ],
   "source": [
    "import random\n",
    "myList =  [3,6,7,8]\n",
    "random.shuffle(myList)\n",
    "print(myList)"
   ]
  },
  {
   "cell_type": "markdown",
   "id": "proper-malaysia",
   "metadata": {},
   "source": [
    "85. Please write a program to shuffle and print the list [3,6,7,8]."
   ]
  },
  {
   "cell_type": "code",
   "execution_count": 100,
   "id": "forbidden-delight",
   "metadata": {},
   "outputs": [
    {
     "name": "stdout",
     "output_type": "stream",
     "text": [
      "[8, 3, 6, 7]\n"
     ]
    }
   ],
   "source": [
    "import random\n",
    "\n",
    "myList = [3, 6, 7, 8]\n",
    "random.shuffle(myList)\n",
    "print(myList)"
   ]
  },
  {
   "cell_type": "markdown",
   "id": "metric-return",
   "metadata": {},
   "source": [
    "86. Please write a program to generate all sentences where subject is in [\"I\", \"You\"] and verb is\n",
    "in [\"Play\", \"Love\"] and the object is in [\"Hockey\",\"Football\"]."
   ]
  },
  {
   "cell_type": "code",
   "execution_count": 12,
   "id": "liked-doubt",
   "metadata": {},
   "outputs": [
    {
     "name": "stdout",
     "output_type": "stream",
     "text": [
      "I Play Hockey\n",
      "I Play Football\n",
      "I Love Hockey\n",
      "I Love Football\n",
      "You Play Hockey\n",
      "You Play Football\n",
      "You Love Hockey\n",
      "You Love Football\n"
     ]
    }
   ],
   "source": [
    "subject = [\"I\", \"You\"]\n",
    "verb = [\"Play\", \"Love\"]\n",
    "objects =  [\"Hockey\",\"Football\"]\n",
    "\n",
    "for i in range(2):\n",
    "    for j in range(2):\n",
    "        for k in range(2):\n",
    "            print(\"{} {} {}\".format(subject[i], verb[j], objects[k]))"
   ]
  },
  {
   "cell_type": "markdown",
   "id": "romance-storage",
   "metadata": {},
   "source": [
    "87. Please write a program to print the list after removing delete even numbers in\n",
    "[5,6,77,45,22,12,24]."
   ]
  },
  {
   "cell_type": "code",
   "execution_count": 101,
   "id": "extensive-neutral",
   "metadata": {},
   "outputs": [
    {
     "name": "stdout",
     "output_type": "stream",
     "text": [
      "[5, 77, 45]\n"
     ]
    }
   ],
   "source": [
    "myList = [5,6,77,45,22,12,24]\n",
    "newList = [i for i in myList if i % 2 != 0]\n",
    "print(newList)"
   ]
  },
  {
   "cell_type": "markdown",
   "id": "contemporary-ready",
   "metadata": {},
   "source": [
    "88. By using list comprehension, please write a program to print the list after removing delete\n",
    "numbers which are divisible by 5 and 7 in [12,24,35,70,88,120,155]."
   ]
  },
  {
   "cell_type": "code",
   "execution_count": 102,
   "id": "lasting-jaguar",
   "metadata": {},
   "outputs": [
    {
     "name": "stdout",
     "output_type": "stream",
     "text": [
      "[12, 24, 88]\n"
     ]
    }
   ],
   "source": [
    "myList = [12,24,35,70,88,120,155]\n",
    "newList = [i for i in myList if i % 5 != 0 and i % 7 != 0]\n",
    "print(newList)"
   ]
  },
  {
   "cell_type": "markdown",
   "id": "guided-still",
   "metadata": {},
   "source": [
    "89. By using list comprehension, please write a program to print the list after removing the 0th,\n",
    "2nd, 4th,6th numbers in [12,24,35,70,88,120,155]."
   ]
  },
  {
   "cell_type": "code",
   "execution_count": 103,
   "id": "confidential-boring",
   "metadata": {},
   "outputs": [
    {
     "name": "stdout",
     "output_type": "stream",
     "text": [
      "[24, 70, 120]\n"
     ]
    }
   ],
   "source": [
    "myList = [12,24,35,70,88,120,155]\n",
    "newList = [j for i, j in enumerate(myList) if i not in [0,2,4,6]]\n",
    "print(newList)"
   ]
  },
  {
   "cell_type": "markdown",
   "id": "hydraulic-chicken",
   "metadata": {},
   "source": [
    "90. By using list comprehension, please write a program generate a 3*5*8 3D array whose each\n",
    "element is 0."
   ]
  },
  {
   "cell_type": "code",
   "execution_count": 89,
   "id": "military-private",
   "metadata": {},
   "outputs": [
    {
     "name": "stdout",
     "output_type": "stream",
     "text": [
      "[[[0, 0, 0, 0, 0, 0, 0, 0], [0, 0, 0, 0, 0, 0, 0, 0], [0, 0, 0, 0, 0, 0, 0, 0], [0, 0, 0, 0, 0, 0, 0, 0], [0, 0, 0, 0, 0, 0, 0, 0]], [[0, 0, 0, 0, 0, 0, 0, 0], [0, 0, 0, 0, 0, 0, 0, 0], [0, 0, 0, 0, 0, 0, 0, 0], [0, 0, 0, 0, 0, 0, 0, 0], [0, 0, 0, 0, 0, 0, 0, 0]], [[0, 0, 0, 0, 0, 0, 0, 0], [0, 0, 0, 0, 0, 0, 0, 0], [0, 0, 0, 0, 0, 0, 0, 0], [0, 0, 0, 0, 0, 0, 0, 0], [0, 0, 0, 0, 0, 0, 0, 0]]]\n"
     ]
    }
   ],
   "source": [
    "myList = [[ [0 for k in range(8)] for i in range(5)] for j in range(3)]\n",
    "print(myList)"
   ]
  },
  {
   "cell_type": "markdown",
   "id": "unusual-demonstration",
   "metadata": {},
   "source": [
    "91. By using list comprehension, please write a program to print the list after removing the\n",
    "0th,4th,5th numbers in [12,24,35,70,88,120,155]."
   ]
  },
  {
   "cell_type": "code",
   "execution_count": 55,
   "id": "increasing-speed",
   "metadata": {},
   "outputs": [
    {
     "name": "stdout",
     "output_type": "stream",
     "text": [
      "[24, 35, 70, 155]\n"
     ]
    }
   ],
   "source": [
    "myList = [12,24,35,70,88,120,155]\n",
    "newList = [j for i, j in enumerate(myList) if i != 0 and i != 4 and i != 5]\n",
    "print(newList)"
   ]
  },
  {
   "cell_type": "markdown",
   "id": "similar-environment",
   "metadata": {},
   "source": [
    "92. By using list comprehension, please write a program to print the list after removing the\n",
    "value 24 in [12,24,35,24,88,120,155]."
   ]
  },
  {
   "cell_type": "code",
   "execution_count": 57,
   "id": "acquired-ghost",
   "metadata": {},
   "outputs": [
    {
     "name": "stdout",
     "output_type": "stream",
     "text": [
      "[12, 35, 70, 88, 120, 155]\n"
     ]
    }
   ],
   "source": [
    "myList = [12,24,35,70,88,120,155]\n",
    "myList.remove(24)\n",
    "newList = [i for i in myList]\n",
    "print(newList)"
   ]
  },
  {
   "cell_type": "markdown",
   "id": "oriented-nickel",
   "metadata": {},
   "source": [
    "93. With two given lists [1,3,6,78,35,55] and [12,24,35,24,88,120,155], write a program to make\n",
    "a list whose elements are intersection of the above given lists."
   ]
  },
  {
   "cell_type": "code",
   "execution_count": 16,
   "id": "explicit-holocaust",
   "metadata": {},
   "outputs": [
    {
     "name": "stdout",
     "output_type": "stream",
     "text": [
      "{35}\n"
     ]
    }
   ],
   "source": [
    "l1 = set([1,3,6,78,35,55])\n",
    "l1 &= set([12,24,35,24,88,120,155])\n",
    "print(l1)"
   ]
  },
  {
   "cell_type": "markdown",
   "id": "pretty-palestinian",
   "metadata": {},
   "source": [
    "94. With a given list [12,24,35,24,88,120,155,88,120,155], write a program to print this list after\n",
    "removing all duplicate values with original order reserved."
   ]
  },
  {
   "cell_type": "code",
   "execution_count": 97,
   "id": "documentary-depression",
   "metadata": {},
   "outputs": [
    {
     "name": "stdout",
     "output_type": "stream",
     "text": [
      "[120, 88, 24, 155, 12, 35]\n"
     ]
    }
   ],
   "source": [
    "mylist = [12,24,35,24,88,120,155,88,120,155]\n",
    "mylist = list(set(mylist))\n",
    "print(mylist[::-1])"
   ]
  },
  {
   "cell_type": "markdown",
   "id": "native-upper",
   "metadata": {},
   "source": [
    "95. Define a class Person and its two child classes: Male and Female. All classes have a method\n",
    "\"getGender\" which can print \"Male\" for Male class and \"Female\" for Female class."
   ]
  },
  {
   "cell_type": "code",
   "execution_count": 74,
   "id": "criminal-swift",
   "metadata": {},
   "outputs": [
    {
     "name": "stdout",
     "output_type": "stream",
     "text": [
      "Male\n",
      "Female\n"
     ]
    }
   ],
   "source": [
    "class Person:\n",
    "    def getGender(self):\n",
    "         print()\n",
    "class Male(Person):\n",
    "    def getGender(self):\n",
    "        print(\"Male\")\n",
    "class Female(Person):\n",
    "    def getGender(self):\n",
    "        print(\"Female\")\n",
    "    \n",
    "Anay = Male()\n",
    "Smriti = Female()\n",
    "Anay.getGender()\n",
    "Smriti.getGender()"
   ]
  },
  {
   "cell_type": "markdown",
   "id": "banned-blind",
   "metadata": {},
   "source": [
    "96. Please write a program which count and print the numbers of each character in a string\n",
    "input by console."
   ]
  },
  {
   "cell_type": "code",
   "execution_count": 82,
   "id": "approved-toolbox",
   "metadata": {},
   "outputs": [
    {
     "name": "stdout",
     "output_type": "stream",
     "text": [
      "Enter a string: abcdefgabc\n",
      "a,2\n",
      "b,2\n",
      "c,2\n",
      "d,1\n",
      "e,1\n",
      "f,1\n",
      "g,1\n"
     ]
    }
   ],
   "source": [
    "string = input(\"Enter a string: \")\n",
    "myDict = {}\n",
    "for i in string:\n",
    "    if i in myDict:\n",
    "        myDict[i] += 1\n",
    "    else:\n",
    "        myDict[i] = 1\n",
    "for i in myDict.keys():\n",
    "    print(i + ',%d' % myDict.get(i))"
   ]
  },
  {
   "cell_type": "markdown",
   "id": "tired-gross",
   "metadata": {},
   "source": [
    "97. Please write a program which accepts a string from console and print it in reverse order."
   ]
  },
  {
   "cell_type": "code",
   "execution_count": 92,
   "id": "unexpected-throw",
   "metadata": {},
   "outputs": [
    {
     "name": "stdout",
     "output_type": "stream",
     "text": [
      "Enter a string: rise to vote sir\n",
      "ris etov ot esir\n"
     ]
    }
   ],
   "source": [
    "string = input(\"Enter a string: \")\n",
    "print(string[::-1])"
   ]
  },
  {
   "cell_type": "markdown",
   "id": "coated-motor",
   "metadata": {},
   "source": [
    "98. Please write a program which accepts a string from console and print the characters that\n",
    "have even indexes."
   ]
  },
  {
   "cell_type": "code",
   "execution_count": 91,
   "id": "common-yukon",
   "metadata": {},
   "outputs": [
    {
     "name": "stdout",
     "output_type": "stream",
     "text": [
      "Enter a string: H1e2l3l4o5w6o7r8l9d\n",
      "Helloworld\n"
     ]
    }
   ],
   "source": [
    "string = input(\"Enter a string: \")\n",
    "print(string[::2])"
   ]
  },
  {
   "cell_type": "markdown",
   "id": "metallic-capital",
   "metadata": {},
   "source": [
    "99. Please write a program which prints all permutations of [1,2,3]"
   ]
  },
  {
   "cell_type": "code",
   "execution_count": 90,
   "id": "dying-peoples",
   "metadata": {},
   "outputs": [
    {
     "name": "stdout",
     "output_type": "stream",
     "text": [
      "(1, 2, 3)\n",
      "(1, 3, 2)\n",
      "(2, 1, 3)\n",
      "(2, 3, 1)\n",
      "(3, 1, 2)\n",
      "(3, 2, 1)\n"
     ]
    }
   ],
   "source": [
    "from itertools import permutations\n",
    "p = permutations([1, 2, 3])\n",
    "for i in list(p):\n",
    "    print(i)"
   ]
  },
  {
   "cell_type": "markdown",
   "id": "general-leave",
   "metadata": {},
   "source": [
    "100.Write a program to solve a classic ancient Chinese puzzle:"
   ]
  },
  {
   "cell_type": "code",
   "execution_count": 39,
   "id": "specified-situation",
   "metadata": {},
   "outputs": [
    {
     "name": "stdout",
     "output_type": "stream",
     "text": [
      "We have 17 chickens and 15 rabbits.\n"
     ]
    }
   ],
   "source": [
    "for chicken in range(32):\n",
    "    for rabbit in range(32):\n",
    "        if (chicken * 2) + (rabbit * 4) == 94 and chicken + rabbit == 32:\n",
    "            print(\"We have {} chickens and {} rabbits.\".format(chicken, rabbit))"
   ]
  }
 ],
 "metadata": {
  "kernelspec": {
   "display_name": "Python 3",
   "language": "python",
   "name": "python3"
  },
  "language_info": {
   "codemirror_mode": {
    "name": "ipython",
    "version": 3
   },
   "file_extension": ".py",
   "mimetype": "text/x-python",
   "name": "python",
   "nbconvert_exporter": "python",
   "pygments_lexer": "ipython3",
   "version": "3.8.5"
  }
 },
 "nbformat": 4,
 "nbformat_minor": 5
}
