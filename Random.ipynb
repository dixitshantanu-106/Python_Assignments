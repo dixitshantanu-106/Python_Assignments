{
 "cells": [
  {
   "cell_type": "markdown",
   "metadata": {},
   "source": [
    "1. Python Program to Count the Number of Vowels Present in a String using\n",
    "Sets"
   ]
  },
  {
   "cell_type": "code",
   "execution_count": 1,
   "metadata": {},
   "outputs": [
    {
     "name": "stdout",
     "output_type": "stream",
     "text": [
      "Enter a string: my name is shantanu\n",
      "6 vowels are present in the string: \n"
     ]
    }
   ],
   "source": [
    "vowels = set('aeiou')\n",
    "string = input(\"Enter a string: \")\n",
    "count = 0\n",
    "for i in string:\n",
    "    if i.lower() in vowels:\n",
    "        count += 1\n",
    "print(\"{0} vowels are present in the string: \".format(count))"
   ]
  },
  {
   "cell_type": "markdown",
   "metadata": {},
   "source": [
    "2. Python Program to Check Common Letters in Two Input Strings"
   ]
  },
  {
   "cell_type": "code",
   "execution_count": 5,
   "metadata": {},
   "outputs": [
    {
     "name": "stdout",
     "output_type": "stream",
     "text": [
      "Enter the first string: cricket \n",
      "Enter the second string: catch\n",
      "Common letters in the two strings are: {'c', 't'}\n"
     ]
    }
   ],
   "source": [
    "string1 = input(\"Enter the first string: \")\n",
    "string2 = input(\"Enter the second string: \")\n",
    "print(\"Common letters in the two strings are: {0}\".format((set(string1) & set(string2))))"
   ]
  },
  {
   "cell_type": "markdown",
   "metadata": {},
   "source": [
    "3. Python Program that Displays which Letters are in the First String but not in\n",
    "the Second"
   ]
  },
  {
   "cell_type": "code",
   "execution_count": 8,
   "metadata": {},
   "outputs": [
    {
     "name": "stdout",
     "output_type": "stream",
     "text": [
      "Enter the first string: cricket\n",
      "Enter the second string: catch\n",
      "The letters which are in first string but not in second are: \n",
      "r\n",
      "i\n",
      "k\n",
      "e\n"
     ]
    }
   ],
   "source": [
    "string1 = input(\"Enter the first string: \")\n",
    "string2 = input(\"Enter the second string: \")\n",
    "print(\"The letters which are in first string but not in second are: \")\n",
    "for i in string1:\n",
    "    if i not in string2:\n",
    "        print(i)"
   ]
  },
  {
   "cell_type": "markdown",
   "metadata": {},
   "source": [
    "4. Python Program that Displays which Letters are Present in Both the Strings"
   ]
  },
  {
   "cell_type": "code",
   "execution_count": 9,
   "metadata": {},
   "outputs": [
    {
     "name": "stdout",
     "output_type": "stream",
     "text": [
      "Enter the first string: cricket\n",
      "Enter the second string: catch\n",
      "The letters which are present in both strings are: \n",
      "c\n",
      "c\n",
      "t\n"
     ]
    }
   ],
   "source": [
    "string1 = input(\"Enter the first string: \")\n",
    "string2 = input(\"Enter the second string: \")\n",
    "print(\"The letters which are present in both strings are: \")\n",
    "for i in string1:\n",
    "    if i in string2:\n",
    "        print(i)"
   ]
  },
  {
   "cell_type": "markdown",
   "metadata": {},
   "source": [
    "5. Python Program that Displays which Letters are in the Two Strings but not\n",
    "in Both"
   ]
  },
  {
   "cell_type": "code",
   "execution_count": 11,
   "metadata": {},
   "outputs": [
    {
     "name": "stdout",
     "output_type": "stream",
     "text": [
      "Enter the first string: cricket\n",
      "Enter the second string: catch\n",
      "The letters which are not common in two strings are: ['a', 'h', 'r', 'i', 'k', 'e']\n"
     ]
    }
   ],
   "source": [
    "string1 = input(\"Enter the first string: \")\n",
    "string2 = input(\"Enter the second string: \")\n",
    "uncommon = []\n",
    "for i in string1:\n",
    "    for j in string2:\n",
    "        if i not in string2 and i not in uncommon:\n",
    "            uncommon.append(i)\n",
    "        if j not in string1 and j not in uncommon:\n",
    "            uncommon.append(j)\n",
    "print(\"The letters which are not common in two strings are: {0}\".format(uncommon))"
   ]
  }
 ],
 "metadata": {
  "kernelspec": {
   "display_name": "Python 3",
   "language": "python",
   "name": "python3"
  },
  "language_info": {
   "codemirror_mode": {
    "name": "ipython",
    "version": 3
   },
   "file_extension": ".py",
   "mimetype": "text/x-python",
   "name": "python",
   "nbconvert_exporter": "python",
   "pygments_lexer": "ipython3",
   "version": "3.8.5"
  }
 },
 "nbformat": 4,
 "nbformat_minor": 2
}
